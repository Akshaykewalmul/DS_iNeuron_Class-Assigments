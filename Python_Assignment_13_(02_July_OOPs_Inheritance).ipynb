{
 "cells": [
  {
   "cell_type": "markdown",
   "id": "ffee902a-a441-47a3-a6fe-787d8e2ea86f",
   "metadata": {},
   "source": [
    "# ASSIGNMENT_13_(\"02_July_OOPs_inheritance)"
   ]
  },
  {
   "cell_type": "markdown",
   "id": "06761a83-fccc-4fd9-aece-1ffd31af4204",
   "metadata": {},
   "source": [
    "# 1. Explain what inheritance is in object-oriented programming and why it is used.\n",
    "\n",
    "Answer - "
   ]
  },
  {
   "cell_type": "markdown",
   "id": "95d4a3d3-876d-4c36-8893-7b32ebb30c7f",
   "metadata": {},
   "source": [
    "Inheritance is a fundamental concept in object-oriented programming (OOP) that allows a class to inherit the properties and behaviors (attributes and methods) of another class. \n",
    "\n",
    "The class that inherits is called the \"subclass\" or \"derived class,\" and the class being inherited from is called the \"superclass\" or \"base class.\"\n",
    "\n",
    "Inheritance is used to establish an \"is-a\" relationship between classes, where the subclass is a specialized version of the superclass. It promotes code reuse, modularity, and extensibility by allowing subclasses to inherit and extend the functionality of the superclass without duplicating code.\n",
    "\n",
    "Here are some key aspects and benefits of inheritance in OOP -\n",
    "\n",
    "1. Code Reusability : \n",
    "\n",
    "    Inheritance allows subclasses to inherit attributes and methods from the superclass, avoiding the need to rewrite or duplicate code. This promotes efficient code reuse and reduces redundancy.\n",
    "\n",
    "2. Modularity and Organization : \n",
    "\n",
    "    Inheritance helps in organizing classes in a hierarchical manner. Related classes can be grouped together, with common attributes and behaviors defined in the superclass and specific attributes and behaviors added in the subclasses. This modular structure enhances code organization and readability.\n",
    "\n",
    "3. Extensibility and Flexibility : \n",
    "\n",
    "    Subclasses can extend the functionality of the superclass by adding new attributes and methods or by overriding existing ones. This allows for customization and adaptation of the superclass behavior to suit specific requirements. Subclasses can also introduce their own unique features while inheriting the common features of the superclass.\n",
    "\n",
    "4. Polymorphism : \n",
    "\n",
    "    Inheritance enables polymorphism, which is the ability of objects to be treated as instances of both their own class and their superclass. Polymorphism allows for substitutability, as objects of the subclass can be used wherever objects of the superclass are expected. This promotes code flexibility and facilitates abstraction.\n",
    "\n",
    "5. Code Maintenance and Upgradability : \n",
    "\n",
    "    Inheritance facilitates code maintenance and upgradability. If changes are required in the common functionality provided by the superclass, modifying the superclass will automatically affect all subclasses. This simplifies code maintenance and reduces the chances of introducing errors.\n",
    "\n",
    "Overall, inheritance is used to establish relationships between classes, promote code reuse, and enable specialization and customization of class behavior. It enhances code organization, modularity, and extensibility, making it a powerful and essential concept in object-oriented programming."
   ]
  },
  {
   "cell_type": "markdown",
   "id": "cbee642b-8daa-4490-a19d-a96930332a2d",
   "metadata": {},
   "source": [
    "# 2. Discuss the concept of single inheritance and multiple inheritance, highlighting their differences and advantages.\n",
    "\n",
    "Answer - "
   ]
  },
  {
   "cell_type": "markdown",
   "id": "3f903645-7a57-4c56-94f6-7eef62b9c532",
   "metadata": {},
   "source": [
    "In object-oriented programming (OOP), single inheritance and multiple inheritance are two types of inheritance mechanisms that allow a class to inherit properties and behaviors from one or multiple base classes. Let's discuss each of them, highlighting their differences and advantages:\n",
    "\n",
    "1. Single Inheritance :\n",
    "\n",
    "    * Single inheritance is a type of inheritance in which a class inherits from only one superclass.\n",
    "\n",
    "    * In single inheritance, a class can have only one direct superclass, and it inherits all the attributes and methods defined in that superclass.\n",
    "\n",
    "    * The single inheritance relationship forms a linear hierarchy, with each subclass having a single path to the superclass.\n",
    "\n",
    "    * Single inheritance simplifies the class hierarchy, making it easier to understand and maintain.\n",
    "\n",
    "    * It promotes code reusability by allowing subclasses to inherit and reuse the attributes and methods of the superclass.\n",
    "\n",
    "    * Single inheritance provides a straightforward and intuitive way to model relationships between classes when there is a clear \"is-a\" relationship.\n",
    "\n",
    "The advantages of single inheritance include simplicity, ease of understanding, and straightforward code maintenance. It provides a clear hierarchy and promotes code reusability through a linear inheritance structure.\n",
    "\n",
    "\n",
    "2. Multiple Inheritance :\n",
    "\n",
    "    * Multiple inheritance is a type of inheritance in which a class can inherit from multiple superclasses, i.e., it can have more than one direct superclass.\n",
    "    \n",
    "    * In multiple inheritance, a class inherits attributes and methods from all the superclasses it directly inherits from.\n",
    "    \n",
    "    * Multiple inheritance allows a class to combine and inherit features from multiple sources, promoting code reuse and flexibility.\n",
    "    \n",
    "    * It enables the creation of complex class relationships and supports modeling of complex real-world scenarios where a class can exhibit behaviors from multiple domains or categories.\n",
    "    \n",
    "    * Multiple inheritance allows for the reuse of code from different classes, leading to improved productivity and reduced development time.\n",
    "    \n",
    "    * However, multiple inheritance can also introduce complexity and potential conflicts when different superclasses define attributes or methods with the same name.\n",
    "\n",
    "The advantages of multiple inheritance lie in its flexibility and code reusability. It allows a class to inherit features from multiple sources, promoting modular design and facilitating the modeling of complex relationships between classes.\n",
    "\n",
    "\n",
    "\n",
    "In conclusion, single inheritance offers simplicity and a clear hierarchy, while multiple inheritance provides flexibility and enhanced code reuse. The choice between them depends on the specific requirements and complexity of the problem domain being modeled."
   ]
  },
  {
   "cell_type": "markdown",
   "id": "91aaede2-b857-40b6-8268-0eb585964e71",
   "metadata": {},
   "source": [
    "# 3. Explain the terms \"base class\" and \"derived class\" in the context of inheritance.\n",
    "\n",
    "Answer - "
   ]
  },
  {
   "cell_type": "markdown",
   "id": "ee6aec64-4264-4933-93ae-74be3885613f",
   "metadata": {},
   "source": [
    "In the context of inheritance, the terms \"base class\" and \"derived class\" refer to the classes involved in an inheritance relationship.\n",
    "\n",
    "1. Base Class :\n",
    "\n",
    "    A base class, also known as a superclass or parent class, is the class from which other classes inherit properties and behaviors.\n",
    "    \n",
    "    It is the class that is being extended or inherited from by another class.\n",
    "    \n",
    "    The base class defines the common attributes and methods that can be inherited by its derived classes.\n",
    "    \n",
    "    A base class can provide a blueprint or template for its derived classes, establishing a set of common features and behaviors.\n",
    "    \n",
    "2. Derived Class:\n",
    "\n",
    "    A derived class, also known as a subclass or child class, is the class that inherits properties and behaviors from a base class.\n",
    "    \n",
    "    It is the class that extends or inherits from the base class, adding or modifying attributes and methods specific to its own requirements.\n",
    "    \n",
    "    A derived class can inherit all the attributes and methods of the base class while having the ability to introduce its own unique attributes and methods.\n",
    "    \n",
    "    The derived class specializes or refines the behavior of the base class, often adding additional functionality or customizing the inherited behavior.\n",
    "    \n",
    "    Inheritance establishes an \"is-a\" relationship between the base class and the derived class. The derived class is considered to be a specialized version of the base class, inheriting and extending its characteristics.\n",
    "\n",
    "Here's an example to illustrate the concept of base class and derived class:"
   ]
  },
  {
   "cell_type": "code",
   "execution_count": 1,
   "id": "1699f85a-2ab3-4463-9abb-c21b8669aa43",
   "metadata": {},
   "outputs": [
    {
     "name": "stdout",
     "output_type": "stream",
     "text": [
      "Toyota vehicle is being driven.\n",
      "Toyota Camry is being parked.\n"
     ]
    }
   ],
   "source": [
    "class Vehicle:\n",
    "    def __init__(self, brand):\n",
    "        self.brand = brand\n",
    "\n",
    "    def drive(self):\n",
    "        print(f\"{self.brand} vehicle is being driven.\")\n",
    "\n",
    "\n",
    "class Car(Vehicle):\n",
    "    def __init__(self, brand, model):\n",
    "        super().__init__(brand)\n",
    "        self.model = model\n",
    "\n",
    "    def park(self):\n",
    "        print(f\"{self.brand} {self.model} is being parked.\")\n",
    "\n",
    "\n",
    "# Example usage:\n",
    "car = Car(\"Toyota\", \"Camry\")\n",
    "car.drive() \n",
    "car.park()  "
   ]
  },
  {
   "cell_type": "markdown",
   "id": "dbdbdae8-8dd8-4ccc-b0cf-455b4350d7af",
   "metadata": {},
   "source": [
    "By inheriting from the Vehicle class, the Car class can reuse the common behavior defined in the base class while adding its own specialized behavior.\n",
    "\n",
    "Base classes provide a way to define common attributes and behaviors, promoting code reuse, modularity, and extensibility. Derived classes can inherit and build upon the foundation provided by the base class, enabling customization and specialization."
   ]
  },
  {
   "cell_type": "markdown",
   "id": "9ba74f2f-b993-472c-8997-a31eabd0794b",
   "metadata": {},
   "source": [
    "# 4. What is the significance of the \"protected\" access modifier in inheritance? How does it differ from \"private\" and \"public\" modifiers?\n",
    "\n",
    "Answer - "
   ]
  },
  {
   "cell_type": "markdown",
   "id": "9019282e-901a-40aa-8c0e-cd021bab6f16",
   "metadata": {},
   "source": [
    "In object-oriented programming, the \"protected\" access modifier is a visibility level or access control modifier that specifies the accessibility of class members (attributes and methods) within the class and its subclasses. The \"protected\" access modifier has the following significance in inheritance:\n",
    "\n",
    "1. Protected Access:\n",
    "\n",
    "    Protected members are accessible within the class that defines them and in its subclasses (derived classes).\n",
    "    \n",
    "    Protected members are not directly accessible outside the class hierarchy, i.e., they are not accessible to objects of the class or unrelated classes.\n",
    "    \n",
    "    Subclasses can access and inherit the protected members of their superclass, allowing them to reuse and extend the functionality provided by the superclass.\n",
    "    \n",
    "    Protected members provide a level of encapsulation and restrict direct access to certain attributes and methods, promoting a more controlled and structured approach to inheritance.\n",
    "    \n",
    "    \n",
    "    Accessibility within Class         - Yes\n",
    "    \n",
    "    Accessibility in Subclasses\t       - Yes\n",
    "    \n",
    "    Accessibility in Unrelated Classes - No\n",
    "\n",
    "2. Private Access:\n",
    "\n",
    "    Private members are accessible only within the class that defines them.\n",
    "    \n",
    "    Private members are not accessible in subclasses or outside the class hierarchy.\n",
    "    \n",
    "    Private members are primarily used for internal implementation details of a class and are not intended for direct access or inheritance by subclasses.\n",
    "    \n",
    "    Private members provide the highest level of encapsulation and hide implementation details, ensuring that they are only accessed and manipulated within the class itself.\n",
    "    \n",
    "    \n",
    "    Accessibility within Class         - Yes\n",
    "    \n",
    "    Accessibility in Subclasses\t       - No\n",
    "    \n",
    "    Accessibility in Unrelated Classes - No\n",
    "\n",
    "\n",
    "3. Public Access:\n",
    "\n",
    "    Public members are accessible from anywhere, both within and outside the class hierarchy.\n",
    "    \n",
    "    Public members can be accessed by objects of the class, derived classes, and unrelated classes.\n",
    "    \n",
    "    Public members define the interface of a class, exposing its attributes and methods to other parts of the program.\n",
    "    \n",
    "    Public members should be used for functionality that is intended to be widely accessible and used by other classes or objects.\n",
    "    \n",
    "    \n",
    "    Accessibility within Class         - Yes\n",
    "    \n",
    "    Accessibility in Subclasses\t       - Yes\n",
    "    \n",
    "    Accessibility in Unrelated Classes - Yes\n",
    "\n",
    "    \n",
    "    \n",
    "To summarize, the significance of the \"protected\" access modifier in inheritance lies in its ability to provide access to class members within the class hierarchy (class and its subclasses) while restricting direct access from unrelated classes. It allows for controlled sharing and inheritance of certain attributes and methods, ensuring encapsulation and code modularity."
   ]
  },
  {
   "cell_type": "markdown",
   "id": "c0747092-21c0-49b4-9d01-85c078e304ff",
   "metadata": {},
   "source": [
    "# 5. What is the purpose of the \"super\" keyword in inheritance? Provide an example.\n",
    "\n",
    "Answer - "
   ]
  },
  {
   "cell_type": "markdown",
   "id": "1abcbdcf-40bd-4ceb-ab7b-5774af0a47a0",
   "metadata": {},
   "source": [
    "The \"super\" keyword in inheritance is used to refer to the superclass or base class from within a subclass. It allows the subclass to access and invoke the superclass's attributes, methods, and constructors. The \"super\" keyword is primarily used to override or extend the functionality of the superclass while preserving or utilizing its existing behavior.\n",
    "\n",
    "The main purposes of the \"super\" keyword in inheritance are :\n",
    "\n",
    "1. Invoking the superclass's constructor:\n",
    "\n",
    "    The \"super\" keyword can be used to call the constructor of the superclass from within the subclass. This allows the subclass to initialize the inherited attributes defined in the superclass before adding its own customizations.\n",
    "\n",
    "2. Accessing the superclass's methods and attributes: \n",
    "\n",
    "    The \"super\" keyword can be used to invoke the methods and access the attributes defined in the superclass. This allows the subclass to reuse and extend the functionality provided by the superclass while adding its specific behavior.\n",
    "\n",
    "Here's an example that demonstrates the usage of the \"super\" keyword in inheritance:"
   ]
  },
  {
   "cell_type": "code",
   "execution_count": 2,
   "id": "3e0277d5-de53-4c0a-8dcc-d5cd7d549d07",
   "metadata": {},
   "outputs": [
    {
     "name": "stdout",
     "output_type": "stream",
     "text": [
      "Animal speaks.\n",
      "Dog barks.\n"
     ]
    }
   ],
   "source": [
    "class Animal:\n",
    "    def __init__(self, name):\n",
    "        self.name = name\n",
    "\n",
    "    def speak(self):\n",
    "        print(\"Animal speaks.\")\n",
    "\n",
    "\n",
    "class Dog(Animal):\n",
    "    def __init__(self, name, breed):\n",
    "        super().__init__(name)  # Calling the superclass constructor\n",
    "        self.breed = breed\n",
    "\n",
    "    def speak(self):\n",
    "        super().speak()  # Calling the superclass method\n",
    "        print(\"Dog barks.\")\n",
    "\n",
    "\n",
    "# Example usage:\n",
    "dog = Dog(\"Buddy\", \"Labrador\")\n",
    "dog.speak()"
   ]
  },
  {
   "cell_type": "markdown",
   "id": "4cf2db1c-b7e6-412f-ac71-44d28e98175a",
   "metadata": {},
   "source": [
    "By using the \"super\" keyword, the Dog class extends the functionality of the Animal class, preserving and utilizing the behavior defined in the superclass.\n",
    "\n",
    "Note: The specific syntax and usage of the \"super\" keyword may vary slightly depending on the programming language being used."
   ]
  },
  {
   "cell_type": "markdown",
   "id": "5c3cea25-8c3b-4778-aa55-e813112b0822",
   "metadata": {},
   "source": [
    "# 6. Create a base class called \"Vehicle\" with attributes like \"make\", \"model\", and \"year\". Then, create a derived class called \"Car\" that inherits from \"Vehicle\" and adds an attribute called \"fuel_type\". Implement appropriate methods in both classes.\n",
    "\n",
    "\n",
    "Answer - "
   ]
  },
  {
   "cell_type": "markdown",
   "id": "23dba05e-fc7a-4009-9e20-af7d1bbab2ed",
   "metadata": {},
   "source": [
    "Here's an example implementation of the \"Vehicle\" base class and the \"Car\" derived class, as described :"
   ]
  },
  {
   "cell_type": "code",
   "execution_count": 1,
   "id": "51624701-1764-48bc-8962-252a74047a9c",
   "metadata": {},
   "outputs": [
    {
     "name": "stdout",
     "output_type": "stream",
     "text": [
      "Make: Toyota\n",
      "Model: Camry\n",
      "Year: 2022\n",
      "Make: Honda\n",
      "Model: Accord\n",
      "Year: 2023\n",
      "Fuel Type: Gasoline\n"
     ]
    }
   ],
   "source": [
    "class Vehicle:\n",
    "    def __init__(self, make, model, year):\n",
    "        self.make = make\n",
    "        self.model = model\n",
    "        self.year = year\n",
    "\n",
    "    def display_info(self):\n",
    "        print(f\"Make: {self.make}\")\n",
    "        print(f\"Model: {self.model}\")\n",
    "        print(f\"Year: {self.year}\")\n",
    "\n",
    "\n",
    "class Car(Vehicle):\n",
    "    def __init__(self, make, model, year, fuel_type):\n",
    "        super().__init__(make, model, year)\n",
    "        self.fuel_type = fuel_type\n",
    "\n",
    "    def display_info(self):\n",
    "        super().display_info()\n",
    "        print(f\"Fuel Type: {self.fuel_type}\")\n",
    "\n",
    "\n",
    "# Example usage:\n",
    "vehicle = Vehicle(\"Toyota\", \"Camry\", 2022)\n",
    "vehicle.display_info()\n",
    "\n",
    "\n",
    "car = Car(\"Honda\", \"Accord\", 2023, \"Gasoline\")\n",
    "car.display_info()"
   ]
  },
  {
   "cell_type": "markdown",
   "id": "8dc20af8-f6e9-4d78-a6c0-4e79e872b051",
   "metadata": {},
   "source": [
    "# 7. Create a base class called \"Employee\" with attributes like \"name\" and \"salary.\" Derive two classes, \"Manager\" and \"Developer,\" from \"Employee.\" Add an additional attribute called \"department\" for the \"Manager\" class and \"programming_language\" for the \"Developer\" class.\n",
    "\n",
    "\n",
    "Answer -"
   ]
  },
  {
   "cell_type": "markdown",
   "id": "8b2123b1-a7e5-45ac-8f2c-ceea900c833b",
   "metadata": {},
   "source": [
    "Here's an example implementation of the \"Employee\" base class, along with the \"Manager\" and \"Developer\" derived classes, as described :"
   ]
  },
  {
   "cell_type": "code",
   "execution_count": 2,
   "id": "85684e3d-10c7-4534-b7f3-1d5ffe4153e3",
   "metadata": {},
   "outputs": [
    {
     "name": "stdout",
     "output_type": "stream",
     "text": [
      "Name: John Doe\n",
      "Salary: 50000\n",
      "Name: Jane Smith\n",
      "Salary: 80000\n",
      "Department: Sales\n",
      "Name: Mike Johnson\n",
      "Salary: 60000\n",
      "Programming Language: Python\n"
     ]
    }
   ],
   "source": [
    "class Employee:\n",
    "    def __init__(self, name, salary):\n",
    "        self.name = name\n",
    "        self.salary = salary\n",
    "\n",
    "    def display_info(self):\n",
    "        print(f\"Name: {self.name}\")\n",
    "        print(f\"Salary: {self.salary}\")\n",
    "\n",
    "\n",
    "class Manager(Employee):\n",
    "    def __init__(self, name, salary, department):\n",
    "        super().__init__(name, salary)\n",
    "        self.department = department\n",
    "\n",
    "    def display_info(self):\n",
    "        super().display_info()\n",
    "        print(f\"Department: {self.department}\")\n",
    "\n",
    "\n",
    "class Developer(Employee):\n",
    "    def __init__(self, name, salary, programming_language):\n",
    "        super().__init__(name, salary)\n",
    "        self.programming_language = programming_language\n",
    "\n",
    "    def display_info(self):\n",
    "        super().display_info()\n",
    "        print(f\"Programming Language: {self.programming_language}\")\n",
    "\n",
    "\n",
    "# Example usage:\n",
    "employee = Employee(\"John Doe\", 50000)\n",
    "employee.display_info()\n",
    "\n",
    "manager = Manager(\"Jane Smith\", 80000, \"Sales\")\n",
    "manager.display_info()\n",
    "\n",
    "\n",
    "developer = Developer(\"Mike Johnson\", 60000, \"Python\")\n",
    "developer.display_info()"
   ]
  },
  {
   "cell_type": "markdown",
   "id": "59534382-b1f5-4619-81d7-6c143cbafdbf",
   "metadata": {},
   "source": [
    "# 8. Design a base class called \"Shape\" with attributes like \"colour\" and \"border_width.\" Create derived classes, \"Rectangle\" and \"Circle,\" that inherit from \"Shape\" and add specific attributes like \"length\" and \"width\" for the \"Rectangle\" class and \"radius\" for the \"Circle\" class.\n",
    "\n",
    "\n",
    "Answer -"
   ]
  },
  {
   "cell_type": "markdown",
   "id": "9470cf17-a3c8-4b39-a36a-ecf51993fc2c",
   "metadata": {},
   "source": [
    "Here's an example implementation of the \"Shape\" base class, along with the \"Rectangle\" and \"Circle\" derived classes, as described :"
   ]
  },
  {
   "cell_type": "code",
   "execution_count": 3,
   "id": "a4837147-428d-45fc-bf16-5bd74c91e1e3",
   "metadata": {},
   "outputs": [
    {
     "name": "stdout",
     "output_type": "stream",
     "text": [
      "Colour: Blue\n",
      "Border Width: 2\n",
      "Colour: Red\n",
      "Border Width: 1\n",
      "Length: 5\n",
      "Width: 3\n",
      "Colour: Green\n",
      "Border Width: 3\n",
      "Radius: 4\n"
     ]
    }
   ],
   "source": [
    "class Shape:\n",
    "    def __init__(self, colour, border_width):\n",
    "        self.colour = colour\n",
    "        self.border_width = border_width\n",
    "\n",
    "    def display_info(self):\n",
    "        print(f\"Colour: {self.colour}\")\n",
    "        print(f\"Border Width: {self.border_width}\")\n",
    "\n",
    "\n",
    "class Rectangle(Shape):\n",
    "    def __init__(self, colour, border_width, length, width):\n",
    "        super().__init__(colour, border_width)\n",
    "        self.length = length\n",
    "        self.width = width\n",
    "\n",
    "    def display_info(self):\n",
    "        super().display_info()\n",
    "        print(f\"Length: {self.length}\")\n",
    "        print(f\"Width: {self.width}\")\n",
    "\n",
    "\n",
    "class Circle(Shape):\n",
    "    def __init__(self, colour, border_width, radius):\n",
    "        super().__init__(colour, border_width)\n",
    "        self.radius = radius\n",
    "\n",
    "    def display_info(self):\n",
    "        super().display_info()\n",
    "        print(f\"Radius: {self.radius}\")\n",
    "\n",
    "\n",
    "# Example usage:\n",
    "shape = Shape(\"Blue\", 2)\n",
    "shape.display_info()\n",
    "# Output:\n",
    "# Colour: Blue\n",
    "# Border Width: 2\n",
    "\n",
    "rectangle = Rectangle(\"Red\", 1, 5, 3)\n",
    "rectangle.display_info()\n",
    "# Output:\n",
    "# Colour: Red\n",
    "# Border Width: 1\n",
    "# Length: 5\n",
    "# Width: 3\n",
    "\n",
    "circle = Circle(\"Green\", 3, 4)\n",
    "circle.display_info()\n",
    "# Output:\n",
    "# Colour: Green\n",
    "# Border Width: 3\n",
    "# Radius: 4"
   ]
  },
  {
   "cell_type": "markdown",
   "id": "ba681900-dd48-4cf4-8361-4ee7014dcfef",
   "metadata": {},
   "source": [
    "# 9. Create a base class called \"Device\" with attributes like \"brand\" and \"model.\" Derive two classes, \"Phone\" and \"Tablet,\" from \"Device.\" Add specific attributes like \"screen_size\" for the \"Phone\" class and \"battery_capacity\" for the \"Tablet\" class.\n",
    "\n",
    "Answer -"
   ]
  },
  {
   "cell_type": "markdown",
   "id": "f725fd68-ce09-4154-957a-8c798eaedc3b",
   "metadata": {},
   "source": [
    "Here's an example implementation of the \"Device\" base class, along with the \"Phone\" and \"Tablet\" derived classes, as described :"
   ]
  },
  {
   "cell_type": "code",
   "execution_count": 4,
   "id": "2fa7abde-27f2-40c9-83af-48a64ded6d15",
   "metadata": {},
   "outputs": [
    {
     "name": "stdout",
     "output_type": "stream",
     "text": [
      "Brand: Apple\n",
      "Model: MacBook Pro\n",
      "Brand: Samsung\n",
      "Model: Galaxy S21\n",
      "Screen Size: 6.2\n",
      "Brand: Apple\n",
      "Model: iPad Air\n",
      "Battery Capacity: 10,000 mAh\n"
     ]
    }
   ],
   "source": [
    "class Device:\n",
    "    def __init__(self, brand, model):\n",
    "        self.brand = brand\n",
    "        self.model = model\n",
    "\n",
    "    def display_info(self):\n",
    "        print(f\"Brand: {self.brand}\")\n",
    "        print(f\"Model: {self.model}\")\n",
    "\n",
    "\n",
    "class Phone(Device):\n",
    "    def __init__(self, brand, model, screen_size):\n",
    "        super().__init__(brand, model)\n",
    "        self.screen_size = screen_size\n",
    "\n",
    "    def display_info(self):\n",
    "        super().display_info()\n",
    "        print(f\"Screen Size: {self.screen_size}\")\n",
    "\n",
    "\n",
    "class Tablet(Device):\n",
    "    def __init__(self, brand, model, battery_capacity):\n",
    "        super().__init__(brand, model)\n",
    "        self.battery_capacity = battery_capacity\n",
    "\n",
    "    def display_info(self):\n",
    "        super().display_info()\n",
    "        print(f\"Battery Capacity: {self.battery_capacity}\")\n",
    "\n",
    "\n",
    "# Example usage:\n",
    "device = Device(\"Apple\", \"MacBook Pro\")\n",
    "device.display_info()\n",
    "# Output:\n",
    "# Brand: Apple\n",
    "# Model: MacBook Pro\n",
    "\n",
    "phone = Phone(\"Samsung\", \"Galaxy S21\", 6.2)\n",
    "phone.display_info()\n",
    "# Output:\n",
    "# Brand: Samsung\n",
    "# Model: Galaxy S21\n",
    "# Screen Size: 6.2\n",
    "\n",
    "tablet = Tablet(\"Apple\", \"iPad Air\", \"10,000 mAh\")\n",
    "tablet.display_info()\n",
    "# Output:\n",
    "# Brand: Apple\n",
    "# Model: iPad Air\n",
    "# Battery Capacity: 10,000 mAh"
   ]
  },
  {
   "cell_type": "markdown",
   "id": "5e1a903c-15c9-4c04-b739-c8df5b58e5da",
   "metadata": {},
   "source": [
    "# 10. Create a base class called \"BankAccount\" with attributes like \"account_number\" and \"balance.\" Derive two classes, \"SavingsAccount\" and \"CheckingAccount,\" from \"BankAccount.\" Add specific methods like \"calculate_interest\" for the \"SavingsAccount\" class and \"deduct_fees\" for the \"CheckingAccount\" class.\n",
    "\n",
    "\n",
    "Answer - "
   ]
  },
  {
   "cell_type": "markdown",
   "id": "b9cc98b2-56af-44f6-8419-29e54315acf4",
   "metadata": {},
   "source": [
    "Here's an example implementation of the \"BankAccount\" base class, along with the \"SavingsAccount\" and \"CheckingAccount\" derived classes, as described :"
   ]
  },
  {
   "cell_type": "code",
   "execution_count": 5,
   "id": "23ec726b-3d0b-450b-9366-40c59dfdc444",
   "metadata": {},
   "outputs": [
    {
     "name": "stdout",
     "output_type": "stream",
     "text": [
      "Account Number: 123456\n",
      "Balance: 1050.0\n",
      "Account Number: 987654\n",
      "Balance: 490\n"
     ]
    }
   ],
   "source": [
    "class BankAccount:\n",
    "    def __init__(self, account_number, balance):\n",
    "        self.account_number = account_number\n",
    "        self.balance = balance\n",
    "\n",
    "    def display_info(self):\n",
    "        print(f\"Account Number: {self.account_number}\")\n",
    "        print(f\"Balance: {self.balance}\")\n",
    "\n",
    "\n",
    "class SavingsAccount(BankAccount):\n",
    "    def __init__(self, account_number, balance):\n",
    "        super().__init__(account_number, balance)\n",
    "\n",
    "    def calculate_interest(self, interest_rate):\n",
    "        interest = self.balance * interest_rate\n",
    "        self.balance += interest\n",
    "\n",
    "\n",
    "class CheckingAccount(BankAccount):\n",
    "    def __init__(self, account_number, balance):\n",
    "        super().__init__(account_number, balance)\n",
    "\n",
    "    def deduct_fees(self, fee):\n",
    "        self.balance -= fee\n",
    "\n",
    "\n",
    "# Example usage:\n",
    "account1 = SavingsAccount(\"123456\", 1000)\n",
    "account1.calculate_interest(0.05)\n",
    "account1.display_info()\n",
    "# Output:\n",
    "# Account Number: 123456\n",
    "# Balance: 1050.0\n",
    "\n",
    "account2 = CheckingAccount(\"987654\", 500)\n",
    "account2.deduct_fees(10)\n",
    "account2.display_info()\n",
    "# Output:\n",
    "# Account Number: 987654\n",
    "# Balance: 490"
   ]
  },
  {
   "cell_type": "code",
   "execution_count": null,
   "id": "789d76fa-bf68-4bfc-910e-c38ff745cc49",
   "metadata": {},
   "outputs": [],
   "source": []
  }
 ],
 "metadata": {
  "kernelspec": {
   "display_name": "Python 3 (ipykernel)",
   "language": "python",
   "name": "python3"
  },
  "language_info": {
   "codemirror_mode": {
    "name": "ipython",
    "version": 3
   },
   "file_extension": ".py",
   "mimetype": "text/x-python",
   "name": "python",
   "nbconvert_exporter": "python",
   "pygments_lexer": "ipython3",
   "version": "3.10.6"
  }
 },
 "nbformat": 4,
 "nbformat_minor": 5
}
