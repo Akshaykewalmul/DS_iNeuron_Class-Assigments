{
 "cells": [
  {
   "cell_type": "markdown",
   "id": "e56de572-5a34-4f10-a05d-4b039082d78a",
   "metadata": {},
   "source": [
    "# ASSIGNMENT_09"
   ]
  },
  {
   "cell_type": "markdown",
   "id": "c9fb55fd-f47e-4ef1-8d3c-ddcd94f9fce5",
   "metadata": {},
   "source": [
    "# 1. What is a lambda function in Python, and how does it differ from a regular function?"
   ]
  },
  {
   "cell_type": "markdown",
   "id": "e0bb42f6-fdc4-4215-b261-8a0f048f3bbe",
   "metadata": {},
   "source": [
    "Answer -"
   ]
  },
  {
   "cell_type": "markdown",
   "id": "9466a4e6-081a-4f64-af2a-b14c18c2172d",
   "metadata": {},
   "source": [
    "lambda fuction :\n",
    "\n",
    "lambda functions, also known as anonymous functions, are small, single-expression functions that don't require a def statement or a named function.\n",
    "\n",
    "They are defined using the lambda keyword and are typically used for simple and concise functions.\n",
    "\n",
    "Here's the general syntax of a lambda function - lambda arguments: expression\n",
    "\n",
    "Lambda functions can take any number of arguments but can only have one expression. \n",
    "\n",
    "The expression is evaluated and returned as the result of the function.\n",
    "\n",
    "\n",
    "Lambda functions are different from regular functions in a few ways :\n",
    "\n",
    "Anonymous: Lambda functions are anonymous because they don't have a name. They are defined inline as needed and often used when a small function is required for a specific task.\n",
    "\n",
    "Concise: Lambda functions are meant to be compact and concise. They typically consist of a single expression and are used for simple tasks. Regular functions, on the other hand, can have multiple statements and a more complex structure.\n",
    "\n",
    "Here's an example where a lambda function can be useful -"
   ]
  },
  {
   "cell_type": "code",
   "execution_count": 1,
   "id": "a302f2a5-43cf-41e6-95d5-047b4361307a",
   "metadata": {},
   "outputs": [
    {
     "name": "stdout",
     "output_type": "stream",
     "text": [
      "[1, 4, 9, 16, 25]\n"
     ]
    }
   ],
   "source": [
    "# Using a regular function to square each number\n",
    "\n",
    "numbers = [1, 2, 3, 4, 5]\n",
    "\n",
    "def square(x):\n",
    "    return x ** 2\n",
    "\n",
    "squared_numbers = list(map(square, numbers))\n",
    "print(squared_numbers)    "
   ]
  },
  {
   "cell_type": "code",
   "execution_count": 2,
   "id": "082ed428-e5ef-4e32-9376-50333ca02b0b",
   "metadata": {},
   "outputs": [
    {
     "name": "stdout",
     "output_type": "stream",
     "text": [
      "[1, 4, 9, 16, 25]\n"
     ]
    }
   ],
   "source": [
    "# Using lambda function to square each number\n",
    "\n",
    "numbers = [1, 2, 3, 4, 5]\n",
    "\n",
    "squared_numbers = list(map(lambda x: x ** 2, numbers))\n",
    "print(squared_numbers)    "
   ]
  },
  {
   "cell_type": "markdown",
   "id": "8d6b32f3-f48d-4ee5-b51a-e056727cec1c",
   "metadata": {},
   "source": [
    "The lambda function allows us to define the squaring operation inline, without the need to define a separate named function.\n",
    "\n",
    "It provides a more concise and immediate way to express a simple computation."
   ]
  },
  {
   "cell_type": "markdown",
   "id": "3c4d5922-ccc8-413a-ba62-23f5164665dd",
   "metadata": {},
   "source": [
    "# 2. Can a lambda function in Python have multiple arguments? If yes, how can you define and use them?"
   ]
  },
  {
   "cell_type": "markdown",
   "id": "34e7d7ac-8b79-45f1-af22-f2baba50e181",
   "metadata": {},
   "source": [
    "Answer -"
   ]
  },
  {
   "cell_type": "markdown",
   "id": "a7aec443-53b7-4854-b446-ee0bd3613ca2",
   "metadata": {},
   "source": [
    "Yes, a lambda function in Python can have multiple arguments.\n",
    "\n",
    "You can define and use multiple arguments in a lambda function by separating them with commas, similar to a regular function syntax.\n",
    "\n",
    "Here's an example that demonstrates the usage of a lambda function with multiple arguments:"
   ]
  },
  {
   "cell_type": "code",
   "execution_count": 2,
   "id": "c95cbd39-0e44-4ea7-8116-05ac560cf251",
   "metadata": {},
   "outputs": [
    {
     "name": "stdout",
     "output_type": "stream",
     "text": [
      "8\n"
     ]
    }
   ],
   "source": [
    "addition = lambda x, y: x + y\n",
    "result = addition(5, 3)\n",
    "print(result)"
   ]
  },
  {
   "cell_type": "markdown",
   "id": "04715e15-87fc-4013-b69d-bd496d17bed7",
   "metadata": {},
   "source": [
    "In the above code, we define a lambda function called addition that takes two arguments, x and y. The lambda function adds the two arguments together and returns the result.\n",
    "\n",
    "Lambda functions are often used in situations where a small, anonymous function is needed for a short-lived purpose, without the need for a formal function definition. The ability to define multiple arguments allows lambda functions to handle more complex computations efficiently."
   ]
  },
  {
   "cell_type": "markdown",
   "id": "7b62707e-40b6-4e0c-8fc5-04b0513e28a9",
   "metadata": {},
   "source": [
    "# 3. How are lambda functions typically used in Python? Provide an example use case."
   ]
  },
  {
   "cell_type": "markdown",
   "id": "2c4e201d-6e9f-411b-8498-c7ef82a42eea",
   "metadata": {},
   "source": [
    "Answer -"
   ]
  },
  {
   "cell_type": "markdown",
   "id": "692aed00-5dd4-47bf-91f2-0755b0960109",
   "metadata": {},
   "source": [
    "\n",
    "Lambda functions are typically used in Python for situations where a small, anonymous function is needed for a short-lived purpose without the need for a formal function definition.\n",
    "\n",
    "They are especially useful in functional programming, where functions can be treated as data and passed as arguments to other functions.\n",
    "\n",
    "Here's an example use case to illustrate how lambda functions can be used in Python:"
   ]
  },
  {
   "cell_type": "code",
   "execution_count": 4,
   "id": "f87f8293-5cf1-41ca-b81b-bed67c39f245",
   "metadata": {},
   "outputs": [
    {
     "name": "stdout",
     "output_type": "stream",
     "text": [
      "[('Bob', 78), ('John', 85), ('Alice', 92), ('Emily', 95)]\n"
     ]
    }
   ],
   "source": [
    "# Sorting a list of tuples based on the second element\n",
    "\n",
    "students = [('John', 85), ('Alice', 92), ('Bob', 78), ('Emily', 95)]\n",
    "\n",
    "sorted_students = sorted(students, key=lambda x: x[1])\n",
    "print(sorted_students)"
   ]
  },
  {
   "cell_type": "markdown",
   "id": "aab0a460-72f0-4440-b739-6bf8d8a3b87f",
   "metadata": {},
   "source": [
    "In this example, we have a list of tuples representing students and their corresponding scores. We want to sort the list based on the second element of each tuple, which is the score. We can achieve this using the sorted() function and a lambda function as the key parameter."
   ]
  },
  {
   "cell_type": "markdown",
   "id": "4d86bdb9-b160-4197-b312-21cbe9e721ad",
   "metadata": {},
   "source": [
    "# 4. What are the advantages and limitations of lambda functions compared to regular functions in Python?"
   ]
  },
  {
   "cell_type": "markdown",
   "id": "2614d0ef-ac9f-4495-aa07-e78994d9ae71",
   "metadata": {},
   "source": [
    "Answer -"
   ]
  },
  {
   "cell_type": "markdown",
   "id": "f0930b65-970d-4998-ba5a-dcd8750589d9",
   "metadata": {},
   "source": [
    "Lambda functions in Python have several advantages and limitations compared to regular functions.\n",
    "\n",
    "Advantages of Lambda Functions :\n",
    "\n",
    "Concise and Inline: Lambda functions allow you to define small, anonymous functions inline without the need for a formal function definition. They provide a more compact and readable syntax.\n",
    "\n",
    "Function as Data: Lambda functions can be treated as data and assigned to variables, passed as arguments to other functions, or returned as values from other functions. This makes them suitable for functional programming paradigms.\n",
    "\n",
    "Immediate Execution: Lambda functions are immediately executed and do not require a separate function call. They are useful for one-time or temporary use cases.\n",
    "\n",
    "Simplified Code: Lambda functions can simplify the code by reducing the need for defining separate named functions for simple operations. They promote a more functional and expressive coding style.\n",
    "\n",
    "\n",
    "Limitations of Lambda Functions :\n",
    "\n",
    "Limited Functionality: Lambda functions are restricted to a single expression. They cannot contain multiple statements or complex logic like regular functions.\n",
    "\n",
    "No Documentation String: Lambda functions do not support docstrings, which are useful for documenting the purpose and usage of functions.\n",
    "\n",
    "Reduced Readability for Complex Functions: While lambda functions are concise, they may become less readable for complex or longer operations. In such cases, using a regular function with a meaningful name can enhance code readability.\n",
    "\n",
    "Limited Error Handling: Error handling within lambda functions can be challenging. They lack the ability to handle exceptions and provide custom error messages, making them less suitable for error-prone operations.\n",
    "\n",
    "Limited Reusability: Lambda functions are primarily designed for one-time or short-lived use cases. They are not easily reusable or shareable across different parts of the codebase."
   ]
  },
  {
   "cell_type": "markdown",
   "id": "6ef70455-2592-49cf-8b89-4ebeb9f2c257",
   "metadata": {},
   "source": [
    "# 5. Are lambda functions in Python able to access variables defined outside of their own scope? Explain with an example."
   ]
  },
  {
   "cell_type": "markdown",
   "id": "4310f281-9e9e-44f8-a79c-df600c34f05c",
   "metadata": {},
   "source": [
    "Answer -"
   ]
  },
  {
   "cell_type": "markdown",
   "id": "5502dbf9-0c29-4b5a-a6b3-8916b107369e",
   "metadata": {},
   "source": [
    "Yes, lambda functions in Python can access variables defined outside of their own scope.\n",
    "\n",
    "Lambda functions have access to variables from the enclosing scope, which is known as lexical scoping or closure.\n",
    "\n",
    "Here's an example : "
   ]
  },
  {
   "cell_type": "code",
   "execution_count": 5,
   "id": "2671518c-de9d-402b-b5c9-4a3e95098c9a",
   "metadata": {},
   "outputs": [
    {
     "name": "stdout",
     "output_type": "stream",
     "text": [
      "15\n"
     ]
    }
   ],
   "source": [
    "def outer_function():\n",
    "    x = 10\n",
    "    lambda_function = lambda y: x + y\n",
    "    return lambda_function\n",
    "\n",
    "# Call the outer function to get the lambda function\n",
    "my_lambda = outer_function()\n",
    "\n",
    "# Call the lambda function with an argument\n",
    "result = my_lambda(5)\n",
    "print(result)"
   ]
  },
  {
   "cell_type": "markdown",
   "id": "4132645b-dab4-4a2a-a1d5-381c09edc469",
   "metadata": {},
   "source": [
    "In the above code, we define an outer function called outer_function() that declares a variable x and creates a lambda function inside it. The lambda function takes an argument y and returns the sum of x and y.\n",
    "\n",
    "When we call the outer_function(), it returns the lambda function as a result. We assign the lambda function to the variable my_lambda.\n",
    "\n",
    "Later, we call my_lambda with an argument 5, and it adds x (which is defined in the outer scope of outer_function()) and 5. The result is then printed, which will be 15."
   ]
  },
  {
   "cell_type": "markdown",
   "id": "cb129546-800f-4a1c-ab77-9f15d36783d1",
   "metadata": {},
   "source": [
    "# 6. Write a lambda function to calculate the square of a given number."
   ]
  },
  {
   "cell_type": "markdown",
   "id": "4ef89c49-28ea-4e22-8771-ab2775215847",
   "metadata": {},
   "source": [
    "Answer -"
   ]
  },
  {
   "cell_type": "markdown",
   "id": "de7fad47-c644-4b92-8e87-8a278b3b8dbb",
   "metadata": {},
   "source": [
    "Here's a lambda function that calculates the square of a given number :"
   ]
  },
  {
   "cell_type": "code",
   "execution_count": 6,
   "id": "cedc4917-d4dd-4bf2-b3bf-09bfda616e9e",
   "metadata": {},
   "outputs": [
    {
     "name": "stdout",
     "output_type": "stream",
     "text": [
      "25\n"
     ]
    }
   ],
   "source": [
    "square = lambda x: x**2\n",
    "\n",
    "result = square(5)\n",
    "print(result)"
   ]
  },
  {
   "cell_type": "markdown",
   "id": "c0e400d4-81ad-4593-b3ed-94d985dfb827",
   "metadata": {},
   "source": [
    "In the above code, we define a lambda function called square that takes an argument x. The lambda function uses the exponentiation operator ** to calculate the square of x."
   ]
  },
  {
   "cell_type": "markdown",
   "id": "ecc15e6c-500a-452d-bb75-e3a9fcf7c149",
   "metadata": {},
   "source": [
    "# 7. Create a lambda function to find the maximum value in a list of integers."
   ]
  },
  {
   "cell_type": "markdown",
   "id": "8e2ce671-68da-45ac-b7af-83124106672b",
   "metadata": {},
   "source": [
    "Answer -"
   ]
  },
  {
   "cell_type": "markdown",
   "id": "3fd5ea72-34fa-4480-9a36-0cb7d88d8748",
   "metadata": {},
   "source": [
    "Here's a lambda function that finds the maximum value in a list of integers:"
   ]
  },
  {
   "cell_type": "code",
   "execution_count": 7,
   "id": "40b6ad52-7636-48e3-b421-9f02f28d6751",
   "metadata": {},
   "outputs": [
    {
     "name": "stdout",
     "output_type": "stream",
     "text": [
      "9\n"
     ]
    }
   ],
   "source": [
    "find_max = lambda lst: max(lst)\n",
    "\n",
    "numbers = [4, 9, 2, 7, 5]\n",
    "result = find_max(numbers)\n",
    "print(result)"
   ]
  },
  {
   "cell_type": "markdown",
   "id": "16c1083e-cc2a-4c5d-b8d8-64796f81fd2b",
   "metadata": {},
   "source": [
    "In the above code, we define a lambda function called find_max that takes a list as an argument lst. The lambda function uses the built-in max() function to find the maximum value in the list.\n",
    "\n",
    "The lambda function find_max provides a concise way to find the maximum value in a list using the max() function without the need for a separate named function."
   ]
  },
  {
   "cell_type": "markdown",
   "id": "eec1647f-54bc-4ae9-bb64-cd40bbb4d7ae",
   "metadata": {},
   "source": [
    "# 8. Implement a lambda function to filter out all the even numbers from a list of integers."
   ]
  },
  {
   "cell_type": "markdown",
   "id": "5087561a-6c06-4e9f-a91d-c457d45287b1",
   "metadata": {},
   "source": [
    "Answer -"
   ]
  },
  {
   "cell_type": "markdown",
   "id": "afc607de-ca81-4ac6-a354-fdc46bf810ef",
   "metadata": {},
   "source": [
    "Here's a lambda function that filters out all the even numbers from a list of integers:"
   ]
  },
  {
   "cell_type": "code",
   "execution_count": 9,
   "id": "a6121625-1a79-4957-90e5-b9349dd364fd",
   "metadata": {},
   "outputs": [
    {
     "name": "stdout",
     "output_type": "stream",
     "text": [
      "[2, 4, 6, 8, 10]\n"
     ]
    }
   ],
   "source": [
    "filter_even = lambda lst: list(filter(lambda x: x % 2 == 0, lst))\n",
    "\n",
    "numbers = [1, 2, 3, 4, 5, 6, 7, 8, 9, 10]\n",
    "result = filter_even(numbers)\n",
    "print(result)"
   ]
  },
  {
   "cell_type": "markdown",
   "id": "1b8b9f31-60d0-4ab2-bbe5-694ed3ff7d51",
   "metadata": {},
   "source": [
    "In the above code, we define a lambda function called filter_even that takes a list as an argument lst. The lambda function uses the filter() function along with an inner lambda function to filter out even numbers from the list.\n",
    "\n",
    "The lambda function filter_even provides a concise way to filter out even numbers from a list using the filter() function and an inner lambda function without the need for a separate named function."
   ]
  },
  {
   "cell_type": "markdown",
   "id": "21d49085-c1f7-4931-a0d0-ac05852c6314",
   "metadata": {},
   "source": [
    "# 9. Write a lambda function to sort a list of strings in ascending order based on the length of each string.\n",
    "\n",
    "Answer -"
   ]
  },
  {
   "cell_type": "markdown",
   "id": "6f821cdb-cfaf-4cf2-b89e-71abdfff0d2d",
   "metadata": {},
   "source": [
    "Here's a lambda function that sorts a list of strings in ascending order based on the length of each string:"
   ]
  },
  {
   "cell_type": "code",
   "execution_count": 11,
   "id": "db2851d7-3e65-4eb5-a905-1f380d7efec3",
   "metadata": {},
   "outputs": [
    {
     "name": "stdout",
     "output_type": "stream",
     "text": [
      "['kiwi', 'apple', 'banana', 'orange']\n"
     ]
    }
   ],
   "source": [
    "sort_strings = lambda lst: sorted(lst, key=lambda x: len(x))\n",
    "\n",
    "\n",
    "strings = ['apple', 'banana', 'kiwi', 'orange']\n",
    "result = sort_strings(strings)\n",
    "print(result)"
   ]
  },
  {
   "cell_type": "markdown",
   "id": "e2d08554-fb30-4bdd-9c60-e18508eef22e",
   "metadata": {},
   "source": [
    "In the above code, we define a lambda function called sort_strings that takes a list of strings as an argument lst. The lambda function uses the sorted() function with a key parameter, which is an inner lambda function. The inner lambda function lambda x: len(x) calculates the length of each string x.\n",
    "\n",
    "The lambda function sort_strings provides a concise way to sort a list of strings based on their lengths using the sorted() function and an inner lambda function as the key parameter without the need for a separate named function."
   ]
  },
  {
   "cell_type": "markdown",
   "id": "633e7484-084d-451d-a531-ba3407b29adf",
   "metadata": {},
   "source": [
    "# 10. Create a lambda function that takes two lists as input and returns a new list containing the common elements between the two lists.\n",
    "\n",
    "Answer -"
   ]
  },
  {
   "cell_type": "markdown",
   "id": "d3141dff-158c-4179-9544-a8bf0065bebc",
   "metadata": {},
   "source": [
    "Here's a lambda function that takes two lists as input and returns a new list containing the common elements between the two lists:"
   ]
  },
  {
   "cell_type": "code",
   "execution_count": 12,
   "id": "ebcbbc3e-d366-4206-b003-6488f44721be",
   "metadata": {},
   "outputs": [
    {
     "name": "stdout",
     "output_type": "stream",
     "text": [
      "[4, 5]\n"
     ]
    }
   ],
   "source": [
    "find_common_elements = lambda list1, list2: list(filter(lambda x: x in list2, list1))\n",
    "\n",
    "numbers1 = [1, 2, 3, 4, 5]\n",
    "numbers2 = [4, 5, 6, 7, 8]\n",
    "result = find_common_elements(numbers1, numbers2)\n",
    "print(result)"
   ]
  },
  {
   "cell_type": "markdown",
   "id": "9d4ad8f0-001c-4152-9865-a94349e1be29",
   "metadata": {},
   "source": [
    "In the above code, we define a lambda function called find_common_elements that takes two lists as arguments, list1 and list2. The lambda function uses the filter() function along with an inner lambda function to filter out the common elements between the two lists.\n",
    "\n",
    "The lambda function find_common_elements provides a concise way to find the common elements between two lists using the filter() function and an inner lambda function without the need for a separate named function."
   ]
  },
  {
   "cell_type": "markdown",
   "id": "db0429eb-b798-4ad6-b303-1fd839b61e9b",
   "metadata": {},
   "source": [
    "# 11. Write a recursive function to calculate the factorial of a given positive integer.\n",
    "\n",
    "Answer -"
   ]
  },
  {
   "cell_type": "markdown",
   "id": "3c12505e-c11a-4437-9e89-e5f9292ebc6e",
   "metadata": {},
   "source": [
    " Here's a recursive function to calculate the factorial of a given positive integer:"
   ]
  },
  {
   "cell_type": "code",
   "execution_count": 13,
   "id": "f212dad3-f39c-419f-a312-d25b60e6c04c",
   "metadata": {},
   "outputs": [
    {
     "name": "stdout",
     "output_type": "stream",
     "text": [
      "120\n"
     ]
    }
   ],
   "source": [
    "def factorial(n):\n",
    "    if n == 0:\n",
    "        return 1\n",
    "    else:\n",
    "        return n * factorial(n-1)\n",
    "\n",
    "\n",
    "number = 5\n",
    "result = factorial(number)\n",
    "print(result)"
   ]
  },
  {
   "cell_type": "markdown",
   "id": "10bf570f-2d3d-42e2-884a-43fb5bf41120",
   "metadata": {},
   "source": [
    "In the above code, we define a recursive function called factorial that takes a positive integer n as an argument. The function calculates the factorial of n by recursively calling itself.\n",
    "\n",
    "The recursive function factorial calculates the factorial of a positive integer by breaking down the problem into smaller subproblems and recursively solving them."
   ]
  },
  {
   "cell_type": "markdown",
   "id": "e2c561c6-beb8-47a8-8aed-52e53369d0e5",
   "metadata": {},
   "source": [
    "# 12. Implement a recursive function to compute the nth Fibonacci number.\n",
    "\n",
    "Answer -"
   ]
  },
  {
   "cell_type": "markdown",
   "id": "7abebdf5-e40d-41a1-8e93-9d4224276759",
   "metadata": {},
   "source": [
    " Here's a recursive function to compute the nth Fibonacci number:"
   ]
  },
  {
   "cell_type": "code",
   "execution_count": 14,
   "id": "e18ab071-ef45-469f-815f-c7988c039a94",
   "metadata": {},
   "outputs": [
    {
     "name": "stdout",
     "output_type": "stream",
     "text": [
      "8\n"
     ]
    }
   ],
   "source": [
    "def fibonacci(n):\n",
    "    if n <= 1:\n",
    "        return n\n",
    "    else:\n",
    "        return fibonacci(n-1) + fibonacci(n-2)\n",
    "\n",
    "# Test the recursive function\n",
    "number = 6\n",
    "result = fibonacci(number)\n",
    "print(result)"
   ]
  },
  {
   "cell_type": "markdown",
   "id": "97956f48-db84-4892-bf0f-25fb3f7d21d1",
   "metadata": {},
   "source": [
    "In the above code, we define a recursive function called fibonacci that takes a positive integer n as an argument. The function computes the nth Fibonacci number by recursively calling itself.\n",
    "\n",
    "The recursive function fibonacci computes the nth Fibonacci number by breaking down the problem into smaller subproblems and recursively solving them."
   ]
  },
  {
   "cell_type": "markdown",
   "id": "ad0a9dcf-5a57-44fd-8bf9-00057c793343",
   "metadata": {},
   "source": [
    "# 13. Create a recursive function to find the sum of all the elements in a given list.\n",
    "\n",
    "Answer -"
   ]
  },
  {
   "cell_type": "markdown",
   "id": "5aaca5de-174c-4faa-b5ae-2a4a26737d44",
   "metadata": {},
   "source": [
    " Here's a recursive function to find the sum of all the elements in a given list:"
   ]
  },
  {
   "cell_type": "code",
   "execution_count": 15,
   "id": "c0a3834e-6824-45fd-81ad-cbed54bfbebc",
   "metadata": {},
   "outputs": [
    {
     "name": "stdout",
     "output_type": "stream",
     "text": [
      "15\n"
     ]
    }
   ],
   "source": [
    "def recursive_sum(lst):\n",
    "    if not lst:\n",
    "        return 0\n",
    "    else:\n",
    "        return lst[0] + recursive_sum(lst[1:])\n",
    "\n",
    "# Test the recursive function\n",
    "numbers = [1, 2, 3, 4, 5]\n",
    "result = recursive_sum(numbers)\n",
    "print(result)"
   ]
  },
  {
   "cell_type": "markdown",
   "id": "6bdd744a-a3a7-4ec9-9c4c-b80ac6493bec",
   "metadata": {},
   "source": [
    "In the above code, we define a recursive function called recursive_sum that takes a list lst as an argument. The function calculates the sum of all the elements in the list by recursively calling itself.\n",
    "\n",
    "The recursive function recursive_sum calculates the sum of all the elements in a list by breaking down the problem into smaller subproblems and recursively solving them."
   ]
  },
  {
   "cell_type": "markdown",
   "id": "5eb5d2d9-d92f-4515-a079-2a9c1347a048",
   "metadata": {},
   "source": [
    "# 14. Write a recursive function to determine whether a given string is a palindrome.\n",
    "\n",
    "Answer -"
   ]
  },
  {
   "cell_type": "markdown",
   "id": "baf1a61d-963c-4515-acaa-b915b9cd82c6",
   "metadata": {},
   "source": [
    "Here's a recursive function to determine whether a given string is a palindrome:"
   ]
  },
  {
   "cell_type": "code",
   "execution_count": 17,
   "id": "70ad012e-4532-45c4-9314-ec5c6a939d4c",
   "metadata": {},
   "outputs": [
    {
     "name": "stdout",
     "output_type": "stream",
     "text": [
      "True\n"
     ]
    }
   ],
   "source": [
    "def is_palindrome(string):\n",
    "    if len(string) <= 1:\n",
    "        return True\n",
    "    else:\n",
    "        if string[0] == string[-1]:\n",
    "            return is_palindrome(string[1:-1])\n",
    "        else:\n",
    "            return False\n",
    "\n",
    "        \n",
    "word = \"racecar\"\n",
    "result = is_palindrome(word)\n",
    "print(result)"
   ]
  },
  {
   "cell_type": "markdown",
   "id": "776a7fab-aa78-4455-9cf6-d8a408a3db46",
   "metadata": {},
   "source": [
    "In the above code, we define a recursive function called is_palindrome that takes a string string as an argument. The function determines whether the string is a palindrome by recursively calling itself.\n",
    "\n",
    "The recursive function is_palindrome determines whether a string is a palindrome by comparing the first and last characters and recursively checking the substring excluding the first and last characters until the base case is reached."
   ]
  },
  {
   "cell_type": "markdown",
   "id": "5384f8e4-bd46-4e17-80b7-a64be7834a0b",
   "metadata": {},
   "source": [
    "# 15. Implement a recursive function to find the greatest common divisor (GCD) of two positive integers.\n",
    "\n",
    "Answer - "
   ]
  },
  {
   "cell_type": "markdown",
   "id": "fd599c75-519a-4e8f-b2cf-a69b05d7c4c6",
   "metadata": {},
   "source": [
    "Here's a recursive function to find the greatest common divisor (GCD) of two positive integers:"
   ]
  },
  {
   "cell_type": "code",
   "execution_count": 18,
   "id": "9f4adb31-6928-48e8-9d29-596f2f889b93",
   "metadata": {},
   "outputs": [
    {
     "name": "stdout",
     "output_type": "stream",
     "text": [
      "12\n"
     ]
    }
   ],
   "source": [
    "def gcd(a, b):\n",
    "    if b == 0:\n",
    "        return a\n",
    "    else:\n",
    "        return gcd(b, a % b)\n",
    "\n",
    "\n",
    "num1 = 48\n",
    "num2 = 36\n",
    "result = gcd(num1, num2)\n",
    "print(result)"
   ]
  },
  {
   "cell_type": "markdown",
   "id": "ac12df20-7700-4a1d-ad29-c7b6ea557b66",
   "metadata": {},
   "source": [
    "In the above code, we define a recursive function called gcd that takes two positive integers a and b as arguments. The function calculates the greatest common divisor (GCD) of a and b using the Euclidean algorithm recursively.\n",
    "\n",
    "The recursive function gcd calculates the GCD of two positive integers using the Euclidean algorithm by recursively dividing the larger number by the smaller number until the remainder becomes zero."
   ]
  },
  {
   "cell_type": "code",
   "execution_count": null,
   "id": "caa45d9c-fa99-44e1-b88d-efa2c9df57b7",
   "metadata": {},
   "outputs": [],
   "source": []
  }
 ],
 "metadata": {
  "kernelspec": {
   "display_name": "Python 3 (ipykernel)",
   "language": "python",
   "name": "python3"
  },
  "language_info": {
   "codemirror_mode": {
    "name": "ipython",
    "version": 3
   },
   "file_extension": ".py",
   "mimetype": "text/x-python",
   "name": "python",
   "nbconvert_exporter": "python",
   "pygments_lexer": "ipython3",
   "version": "3.10.6"
  }
 },
 "nbformat": 4,
 "nbformat_minor": 5
}
