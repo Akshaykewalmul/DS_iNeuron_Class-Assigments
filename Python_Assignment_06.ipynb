{
 "cells": [
  {
   "cell_type": "markdown",
   "id": "147bcc83-fbd2-4adc-9704-bce55299e4e9",
   "metadata": {},
   "source": [
    "# ASSIGNMENT_06"
   ]
  },
  {
   "cell_type": "markdown",
   "id": "bc2a99c5-f7fe-45c4-987b-c9a7a683ac4b",
   "metadata": {},
   "source": [
    "# Python Basic - 1"
   ]
  },
  {
   "cell_type": "markdown",
   "id": "e6f46145-17db-400d-8a22-502c0512baba",
   "metadata": {},
   "source": [
    "# Q.1. What are keywords in python? Using the keyword library, print all the python keywords."
   ]
  },
  {
   "cell_type": "markdown",
   "id": "2cd1aa30-32d7-4db6-b5d8-4a4440dad19a",
   "metadata": {},
   "source": [
    "Answer -"
   ]
  },
  {
   "cell_type": "markdown",
   "id": "490745c5-e489-47da-a316-7c2c20fc26c7",
   "metadata": {},
   "source": [
    "In Python, keywords are reserved words that have special meanings and purposes within the language.\n",
    "\n",
    "These keywords cannot be used as identifiers (variable names, function names, etc.) because they are already used by Python itself."
   ]
  },
  {
   "cell_type": "code",
   "execution_count": 2,
   "id": "52c1f73f-4d9b-4c4d-9aed-aa77388d148b",
   "metadata": {},
   "outputs": [
    {
     "name": "stdout",
     "output_type": "stream",
     "text": [
      "['False', 'None', 'True', 'and', 'as', 'assert', 'async', 'await', 'break', 'class', 'continue', 'def', 'del', 'elif', 'else', 'except', 'finally', 'for', 'from', 'global', 'if', 'import', 'in', 'is', 'lambda', 'nonlocal', 'not', 'or', 'pass', 'raise', 'return', 'try', 'while', 'with', 'yield']\n"
     ]
    }
   ],
   "source": [
    "import keyword\n",
    "print ( keyword.kwlist )"
   ]
  },
  {
   "cell_type": "markdown",
   "id": "5c22203e-66c0-4ab9-b532-707878c70ae6",
   "metadata": {},
   "source": [
    "# Q.2. What are the rules to create variables in python?"
   ]
  },
  {
   "cell_type": "markdown",
   "id": "a05db28b-e8c3-4f14-99d1-dc4111eb3447",
   "metadata": {},
   "source": [
    "Answer -"
   ]
  },
  {
   "cell_type": "markdown",
   "id": "a381183d-fc82-4dda-ade0-f4a5def42239",
   "metadata": {},
   "source": [
    "In Python, variables are used to store values and provide a way to refer to these values by using a name. Here are the rules to create variables in Python:\n",
    "\n",
    "Variable names must start with a letter (a-z, A-Z) or an underscore (_). They cannot start with a number.\n",
    "\n",
    "After the first character, variable names can contain letters, numbers, and underscores. They are case-sensitive, so \"myVariable\" and \"myvariable\" would be considered different variables.\n",
    "\n",
    "Variable names cannot be the same as Python keywords. For example, you cannot name a variable \"if\" or \"print\" as these are reserved words.\n",
    "\n",
    "Variable names should be descriptive and meaningful. It's good practice to choose names that reflect the purpose or content of the variable.\n",
    "\n",
    "Avoid using special characters, such as spaces, hyphens, or punctuation marks, in variable names. Only underscores are allowed within the name.\n",
    "\n",
    "It's convention in Python to use lowercase letters and underscores for variable names (e.g., my_variable) to improve readability, especially for longer names.\n",
    "\n",
    "Python follows a dynamic typing system, so you don't need to declare the type of a variable explicitly. The type is inferred based on the value assigned to the variable."
   ]
  },
  {
   "cell_type": "code",
   "execution_count": 3,
   "id": "0252a801-561c-4839-ba7b-f687e3062393",
   "metadata": {},
   "outputs": [
    {
     "name": "stdout",
     "output_type": "stream",
     "text": [
      "25\n",
      "Akshay\n"
     ]
    }
   ],
   "source": [
    "age = 25\n",
    "\n",
    "name = \"Akshay\"\n",
    "\n",
    "print (age)\n",
    "print (name)"
   ]
  },
  {
   "cell_type": "code",
   "execution_count": 4,
   "id": "509e9766-cd64-4aa5-87d6-fa8f89e68557",
   "metadata": {},
   "outputs": [
    {
     "ename": "SyntaxError",
     "evalue": "invalid decimal literal (2337977928.py, line 1)",
     "output_type": "error",
     "traceback": [
      "\u001b[0;36m  Cell \u001b[0;32mIn [4], line 1\u001b[0;36m\u001b[0m\n\u001b[0;31m    100ak = 30\u001b[0m\n\u001b[0m      ^\u001b[0m\n\u001b[0;31mSyntaxError\u001b[0m\u001b[0;31m:\u001b[0m invalid decimal literal\n"
     ]
    }
   ],
   "source": [
    "100ak = 30\n",
    "\n",
    "print ( 100ak )"
   ]
  },
  {
   "cell_type": "code",
   "execution_count": 5,
   "id": "930a10ef-f5b2-4a67-87b8-1d7651cf1bc8",
   "metadata": {},
   "outputs": [
    {
     "name": "stdout",
     "output_type": "stream",
     "text": [
      "30\n"
     ]
    }
   ],
   "source": [
    "_ak = 30\n",
    "\n",
    "print ( _ak )"
   ]
  },
  {
   "cell_type": "code",
   "execution_count": 6,
   "id": "75e6f8dc-63f1-4071-830c-d6fe8e9088aa",
   "metadata": {},
   "outputs": [
    {
     "name": "stdout",
     "output_type": "stream",
     "text": [
      "25\n",
      "Akshay\n"
     ]
    }
   ],
   "source": [
    "age10 = 25 \n",
    "\n",
    "name10 = \"Akshay\"\n",
    "\n",
    "print (age10)\n",
    "print (name10) "
   ]
  },
  {
   "cell_type": "markdown",
   "id": "87fa70ac-3b7e-487a-9f33-8837d84bd7ce",
   "metadata": {},
   "source": [
    "# Q.3. What are the standards and conventions followed for the nomenclature of variables in python to improve code readability and maintainability?\n"
   ]
  },
  {
   "cell_type": "markdown",
   "id": "47b698a6-a041-459b-8f7b-7b27d2baa9b3",
   "metadata": {},
   "source": [
    "Answer -"
   ]
  },
  {
   "cell_type": "markdown",
   "id": "9a638fb8-a1b5-4e33-81ec-c8df06be7092",
   "metadata": {},
   "source": [
    "Identifiers must start with a Letter (A-Z) or an underscore (\"_\"), followed by more letters or numbers.\n",
    "\n",
    "Python does not allow characters such as @, $, and % within identifier names. Python is case sensitive. So “selection” and “Selection” are two different identifiers.\n",
    "\n",
    "Use descriptive and meaningful names.\n",
    "\n",
    "Follow a lowercase with underscores naming style.\n",
    "\n",
    "Avoid using single underscores as a variable name.\n",
    "\n",
    "Use uppercase letters for constants.\n",
    "\n",
    "Be consistent with naming conventions.\n",
    "\n",
    "Avoid using reserved keywords.\n",
    "\n",
    "Following these standards and conventions helps make our code more readable, improves collaboration with other developers, and enhances the maintainability of our Python projects."
   ]
  },
  {
   "cell_type": "markdown",
   "id": "16b59e82-4336-4b41-b2d7-420aab123508",
   "metadata": {},
   "source": [
    "# Q.4. What will happen if a keyword is used as a variable name?"
   ]
  },
  {
   "cell_type": "markdown",
   "id": "f1b828c0-38ac-4e92-878d-3d331046b84f",
   "metadata": {},
   "source": [
    "Answer -"
   ]
  },
  {
   "cell_type": "markdown",
   "id": "991fbbf8-2ac3-4ee3-a89b-95a1ba69f7c1",
   "metadata": {},
   "source": [
    "Keywords are the words in programming language which have a special meaning decided the lanuage. So we cannot use them as a variable as we cannot assign any value to them.\n",
    "\n",
    "If we use a keyword as a variable name in Python, we will encounter a syntax error."
   ]
  },
  {
   "cell_type": "code",
   "execution_count": 7,
   "id": "710e5f21-397d-4ee3-87bb-282386768914",
   "metadata": {},
   "outputs": [
    {
     "ename": "SyntaxError",
     "evalue": "cannot assign to None (1812920418.py, line 3)",
     "output_type": "error",
     "traceback": [
      "\u001b[0;36m  Cell \u001b[0;32mIn [7], line 3\u001b[0;36m\u001b[0m\n\u001b[0;31m    None = 10\u001b[0m\n\u001b[0m    ^\u001b[0m\n\u001b[0;31mSyntaxError\u001b[0m\u001b[0;31m:\u001b[0m cannot assign to None\n"
     ]
    }
   ],
   "source": [
    "# Example -\n",
    "\n",
    "None = 10\n",
    "\n",
    "print ( None )"
   ]
  },
  {
   "cell_type": "code",
   "execution_count": 8,
   "id": "edb73055-6c26-48ea-9034-d8654df2667c",
   "metadata": {},
   "outputs": [
    {
     "ename": "SyntaxError",
     "evalue": "invalid syntax (691832457.py, line 1)",
     "output_type": "error",
     "traceback": [
      "\u001b[0;36m  Cell \u001b[0;32mIn [8], line 1\u001b[0;36m\u001b[0m\n\u001b[0;31m    or = 20\u001b[0m\n\u001b[0m    ^\u001b[0m\n\u001b[0;31mSyntaxError\u001b[0m\u001b[0;31m:\u001b[0m invalid syntax\n"
     ]
    }
   ],
   "source": [
    "or = 20\n",
    "\n",
    "print ( or )"
   ]
  },
  {
   "cell_type": "code",
   "execution_count": 9,
   "id": "145edc17-2a37-41b7-98fd-5ca0c92953cd",
   "metadata": {},
   "outputs": [
    {
     "ename": "SyntaxError",
     "evalue": "invalid syntax (2000129070.py, line 1)",
     "output_type": "error",
     "traceback": [
      "\u001b[0;36m  Cell \u001b[0;32mIn [9], line 1\u001b[0;36m\u001b[0m\n\u001b[0;31m    pass = 30\u001b[0m\n\u001b[0m         ^\u001b[0m\n\u001b[0;31mSyntaxError\u001b[0m\u001b[0;31m:\u001b[0m invalid syntax\n"
     ]
    }
   ],
   "source": [
    "pass = 30\n",
    "\n",
    "print ( pass ) "
   ]
  },
  {
   "cell_type": "markdown",
   "id": "a04760a3-7a13-4d6d-abc1-863036f749a9",
   "metadata": {},
   "source": [
    "# Q.5. For what purpose def keyword is used?"
   ]
  },
  {
   "cell_type": "markdown",
   "id": "b1029640-5926-42a8-8edb-96bb8c1d1a94",
   "metadata": {},
   "source": [
    "Answer -"
   ]
  },
  {
   "cell_type": "markdown",
   "id": "d293545c-f185-4a7e-86d0-7846cb52557a",
   "metadata": {},
   "source": [
    "The def keyword is used to create, (or define) a function.\n",
    "\n",
    "The def keyword in Python is used to define a function. Functions are blocks of reusable code that perform a specific task.\n",
    "\n",
    "They allow you to organize your code into logical units and provide a way to modularize and reuse code throughout your program."
   ]
  },
  {
   "cell_type": "markdown",
   "id": "c8773714-4f34-45ea-bd99-e7da5c6ce988",
   "metadata": {},
   "source": [
    "# Q.6. What is the operation of this special character ‘\\’?"
   ]
  },
  {
   "cell_type": "markdown",
   "id": "339881d0-196e-409a-88b5-c980528d556d",
   "metadata": {},
   "source": [
    "Answer -"
   ]
  },
  {
   "cell_type": "markdown",
   "id": "5d346909-a58e-4da9-9ee2-c9028ae685f3",
   "metadata": {},
   "source": [
    "In Python, the special character \\ (backslash) is used as an escape character.\n",
    "\n",
    "It is primarily used to indicate that the character following the backslash has a special meaning or should be interpreted differently.\n",
    "\n",
    "Here are some common use cases for the backslash in Python:\n",
    "\n",
    "1. Escape sequences: \n",
    "\n",
    "Backslash is used to create escape sequences to represent special characters within strings. For example,\n",
    "\n",
    "    \\': Represents a single quote character.\n",
    " \n",
    "    \\\": Represents a double quote character.\n",
    "\n",
    "    \\\\: Represents a literal backslash.\n",
    "\n",
    "    \\n: Represents a newline character.\n",
    "\n",
    "    \\t: Represents a tab character.\n",
    "\n",
    "    \\r: Represents a carriage return character.\n",
    "\n",
    "     \\b: Represents a backspace character.\n",
    "\n",
    "     \\uXXXX or \\UXXXXXXXX: Represents a Unicode character using hexadecimal notation.\n",
    "\n",
    "2. Line continuation: \n",
    "\n",
    "   The backslash can be used to indicate that a statement continues on the next line. \n",
    "\n",
    "   This is useful for breaking long lines of code into multiple lines for improved readability."
   ]
  },
  {
   "cell_type": "code",
   "execution_count": 12,
   "id": "e1352cb9-f2df-4682-8064-d72a8d2e1420",
   "metadata": {},
   "outputs": [],
   "source": [
    "# Example -\n",
    "\n",
    "total = 10 + \\\n",
    "        20 + \\\n",
    "        30"
   ]
  },
  {
   "cell_type": "markdown",
   "id": "d4075587-64b3-4db6-9585-ed45f7c868e9",
   "metadata": {},
   "source": [
    "3. Special characters: \n",
    "\n",
    "   In some contexts, the backslash can be used to disable the special meaning of certain characters.\n",
    "\n",
    "   For example, in regular expressions, backslash can be used to escape special characters so that they are treated as literal characters."
   ]
  },
  {
   "cell_type": "code",
   "execution_count": 13,
   "id": "be14d60a-546b-41df-a8c2-966e4d1901f8",
   "metadata": {},
   "outputs": [
    {
     "name": "stdout",
     "output_type": "stream",
     "text": [
      "This is a double quote: \"\n",
      "This is a single quote: '\n",
      "This is a backslash: \\\n",
      "This is a tab:\tThis is after the tab\n",
      "This is a newline:\n",
      "This is after the newline\n"
     ]
    }
   ],
   "source": [
    "# Escaping special characters\n",
    "\n",
    "print(\"This is a double quote: \\\"\")\n",
    "print('This is a single quote: \\'')\n",
    "print(\"This is a backslash: \\\\\")\n",
    "print(\"This is a tab:\\tThis is after the tab\")\n",
    "print(\"This is a newline:\\nThis is after the newline\")"
   ]
  },
  {
   "cell_type": "markdown",
   "id": "2c583f92-5cfe-4d12-8005-2abae59c500b",
   "metadata": {},
   "source": [
    "# Q.7. Give an example of the following conditions:\n",
    "\n",
    "(i) Homogeneous list\n",
    "\n",
    "(ii) Heterogeneous set\n",
    "\n",
    "(iii) Homogeneous tuple"
   ]
  },
  {
   "cell_type": "markdown",
   "id": "a3611852-b001-409e-8f58-2f61d7922d44",
   "metadata": {},
   "source": [
    "Answer -"
   ]
  },
  {
   "cell_type": "markdown",
   "id": "b3074a15-7a6d-4d6c-a249-83c1343902cb",
   "metadata": {},
   "source": [
    "(i) Homogeneous list :\n",
    "\n",
    "A homogeneous list is a list that contains elements of the same data type.\n",
    "\n",
    "Here's an example of a homogeneous list containing integers,"
   ]
  },
  {
   "cell_type": "code",
   "execution_count": 15,
   "id": "94252a8a-b7fe-4cac-bd7c-bcef61aa2d35",
   "metadata": {},
   "outputs": [
    {
     "name": "stdout",
     "output_type": "stream",
     "text": [
      "[1, 2, 3, 4, 5]\n"
     ]
    }
   ],
   "source": [
    "numbers = [1, 2, 3, 4, 5]\n",
    "\n",
    "print ( numbers )"
   ]
  },
  {
   "cell_type": "markdown",
   "id": "5a1844d6-3bcc-4999-8e41-fa325982ea3f",
   "metadata": {},
   "source": [
    "(ii) Heterogeneous set :\n",
    "\n",
    "A heterogeneous set is a set that can contain elements of different data types.\n",
    "\n",
    "Here's an example of a heterogeneous set,"
   ]
  },
  {
   "cell_type": "code",
   "execution_count": 17,
   "id": "3e78f97e-c253-4976-b31f-e89f86219568",
   "metadata": {},
   "outputs": [
    {
     "name": "stdout",
     "output_type": "stream",
     "text": [
      "{1, 3.14, 'apple'}\n"
     ]
    }
   ],
   "source": [
    "my_set = {1, \"apple\", 3.14, True}\n",
    "\n",
    "print (my_set)"
   ]
  },
  {
   "cell_type": "markdown",
   "id": "8e71328a-8c60-441b-8505-6c1b78f9deed",
   "metadata": {},
   "source": [
    "(iii) Homogeneous tuple :\n",
    "\n",
    "A homogeneous tuple is a tuple that contains elements of the same data type.\n",
    "\n",
    "Here's an example of a homogeneous tuple containing strings:"
   ]
  },
  {
   "cell_type": "code",
   "execution_count": 18,
   "id": "ca6ed5e4-ecee-4165-a13b-b7c5eca5cde8",
   "metadata": {},
   "outputs": [
    {
     "name": "stdout",
     "output_type": "stream",
     "text": [
      "('apple', 'banana', 'orange', 'mango')\n"
     ]
    }
   ],
   "source": [
    "fruits = (\"apple\", \"banana\", \"orange\", \"mango\")\n",
    "\n",
    "print ( fruits ) "
   ]
  },
  {
   "cell_type": "markdown",
   "id": "9c0e9ac2-117f-4191-a7fe-5bf2b3e49b9a",
   "metadata": {},
   "source": [
    "# Q.8. Explain the mutable and immutable data types with proper explanation & examples."
   ]
  },
  {
   "cell_type": "markdown",
   "id": "1d76b868-b889-4c25-a2d2-c16e52f32049",
   "metadata": {},
   "source": [
    "Answer -"
   ]
  },
  {
   "cell_type": "markdown",
   "id": "3dd9de8c-f523-4cc2-a685-fab034bf5c0c",
   "metadata": {},
   "source": [
    "In Python, data types can be classified as either mutable or immutable based on whether their values can be changed after they are created.\n",
    "\n",
    "Mutable Data Types :\n",
    "\n",
    "Mutable data types can be modified after they are created.\n",
    "\n",
    "Changes made to a mutable object directly affect its value without requiring the creation of a new object.\n",
    "\n",
    "Examples of mutable data types in Python include lists, dictionaries, and sets.\n",
    "\n",
    "Here's an example to demonstrate the mutability of lists:"
   ]
  },
  {
   "cell_type": "code",
   "execution_count": 19,
   "id": "78348870-0ce1-4cde-b114-30ec1bc249d4",
   "metadata": {},
   "outputs": [
    {
     "name": "stdout",
     "output_type": "stream",
     "text": [
      "[1, 2, 3, 4, 5]\n",
      "[1, 2, 3, 4, 5, 6]\n",
      "[1, 2, 10, 4, 5, 6]\n"
     ]
    }
   ],
   "source": [
    "numbers = [1, 2, 3, 4, 5]\n",
    "print(numbers)            # Output: [1, 2, 3, 4, 5]\n",
    "\n",
    "numbers.append(6)\n",
    "print(numbers)            # Output: [1, 2, 3, 4, 5, 6]\n",
    "\n",
    "numbers[2] = 10\n",
    "print(numbers)            # Output: [1, 2, 10, 4, 5, 6]"
   ]
  },
  {
   "cell_type": "markdown",
   "id": "26bddea4-a4dd-442a-bb5e-9359060dfdf7",
   "metadata": {},
   "source": [
    "Immutable Data Types :\n",
    "\n",
    "Immutable data types cannot be modified after they are created. \n",
    "\n",
    "If you want to modify an immutable object, you need to create a new object with the desired changes.\n",
    "\n",
    "Examples of immutable data types in Python include integers, floating-point numbers, Booleans, strings, and tuples.\n",
    "\n",
    "Here's an example to illustrate the immutability of strings:"
   ]
  },
  {
   "cell_type": "code",
   "execution_count": 20,
   "id": "90627f6b-a4bd-47a3-9fa6-0b4dc5b18113",
   "metadata": {},
   "outputs": [
    {
     "name": "stdout",
     "output_type": "stream",
     "text": [
      "Hello\n",
      "Hello, World!\n"
     ]
    }
   ],
   "source": [
    "message = \"Hello\"\n",
    "print(message)           # Output: Hello\n",
    "\n",
    "message += \", World!\"\n",
    "print(message)           # Output: Hello, World!"
   ]
  },
  {
   "cell_type": "markdown",
   "id": "6cee104b-c88d-4284-8c01-1bfe0991990c",
   "metadata": {},
   "source": [
    "The distinction between mutable and immutable data types is important because it affects how variables behave when assigned a new value or passed as arguments to functions. Understanding this behavior is crucial for writing reliable and bug-free Python code."
   ]
  },
  {
   "cell_type": "markdown",
   "id": "c14e93b4-cfaa-47cc-8137-bcf76b042ecd",
   "metadata": {},
   "source": [
    "# Q.9. Write a code to create the given structure using only for loop.\n",
    "\n",
    "        *    \n",
    "       ***\n",
    "      ***** \n",
    "     *******\n",
    "    *********"
   ]
  },
  {
   "cell_type": "markdown",
   "id": "e8e0c3fc-b92a-45dc-8a6b-e042190b2089",
   "metadata": {},
   "source": [
    "Answer -"
   ]
  },
  {
   "cell_type": "code",
   "execution_count": 21,
   "id": "4351e691-fa2e-4fde-ab63-8042ff478f25",
   "metadata": {},
   "outputs": [
    {
     "name": "stdout",
     "output_type": "stream",
     "text": [
      "    *\n",
      "   ***\n",
      "  *****\n",
      " *******\n",
      "*********\n"
     ]
    }
   ],
   "source": [
    "rows = 5  # Number of rows in the structure\n",
    "\n",
    "for i in range(rows):\n",
    "    for j in range(rows - i - 1):\n",
    "        print(\" \", end=\"\")\n",
    "    \n",
    "    for k in range(2 * i + 1):\n",
    "        print(\"*\", end=\"\")\n",
    "    \n",
    "    print()"
   ]
  },
  {
   "cell_type": "markdown",
   "id": "53062dde-204d-4d87-a1e4-f451e11bf6b0",
   "metadata": {},
   "source": [
    "# Q.10. Write a code to create the given structure using while loop."
   ]
  },
  {
   "cell_type": "raw",
   "id": "f7b7d750-d502-444e-9219-7ca87fa65f41",
   "metadata": {},
   "source": [
    "|||||||||\n",
    " |||||||\n",
    "  |||||\n",
    "   ||| \n",
    "    |"
   ]
  },
  {
   "cell_type": "markdown",
   "id": "dab60b0b-d698-49a0-bdbc-ff9c59ef33aa",
   "metadata": {},
   "source": [
    "Answer -"
   ]
  },
  {
   "cell_type": "code",
   "execution_count": 27,
   "id": "5d10c672-417b-431f-a235-1f599155c07b",
   "metadata": {},
   "outputs": [
    {
     "name": "stdout",
     "output_type": "stream",
     "text": [
      "||||||||||\n",
      " ||||||||\n",
      "  ||||||\n",
      "   ||||\n",
      "    ||\n"
     ]
    }
   ],
   "source": [
    "rows = 5        # Number of rows in the structure\n",
    "i = 0           # Variable to track the current row\n",
    "\n",
    "while i < rows:\n",
    "    j = 0       # Variable to track the current column\n",
    "    \n",
    "    while j < i:\n",
    "        print(\" \", end=\"\")\n",
    "        j += 1\n",
    "    \n",
    "    k = 0       # Variable to track the number of vertical bars\n",
    "    \n",
    "    while k < rows - i:\n",
    "        print(\"||\", end=\"\")\n",
    "        k += 1\n",
    "    \n",
    "    print()\n",
    "    i += 1"
   ]
  },
  {
   "cell_type": "code",
   "execution_count": null,
   "id": "69e72b66-3b4a-4a19-a3b8-e90a9324537c",
   "metadata": {},
   "outputs": [],
   "source": []
  }
 ],
 "metadata": {
  "kernelspec": {
   "display_name": "Python 3 (ipykernel)",
   "language": "python",
   "name": "python3"
  },
  "language_info": {
   "codemirror_mode": {
    "name": "ipython",
    "version": 3
   },
   "file_extension": ".py",
   "mimetype": "text/x-python",
   "name": "python",
   "nbconvert_exporter": "python",
   "pygments_lexer": "ipython3",
   "version": "3.10.6"
  }
 },
 "nbformat": 4,
 "nbformat_minor": 5
}
