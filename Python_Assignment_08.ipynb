{
 "cells": [
  {
   "cell_type": "markdown",
   "id": "919f76a2-bb9c-42e2-9026-dd826fb7f22f",
   "metadata": {},
   "source": [
    "# ASSIGNMENT_08"
   ]
  },
  {
   "cell_type": "markdown",
   "id": "d73cf700-2b43-49e7-9ad7-118a5bc3e26e",
   "metadata": {},
   "source": [
    "# 1. In Python, what is the difference between a built-in function and a user-defined function? Provide an example of each.\n"
   ]
  },
  {
   "cell_type": "markdown",
   "id": "ce60491a-94da-4b2f-bd09-072666f4465b",
   "metadata": {},
   "source": [
    "Answer -"
   ]
  },
  {
   "cell_type": "markdown",
   "id": "5ba2e769-74a1-4e31-a22c-c399b71e03f2",
   "metadata": {},
   "source": [
    "Built-in function  :\n",
    "\n",
    "They are predefined functions which can be used anytime.\n",
    "\n",
    "A built-in function is a function that is already available in the Python language itself.\n",
    "\n",
    "These functions are ready to use without requiring any additional code or imports. \n",
    "\n",
    "Examples - print(), len(), range(), type() etc."
   ]
  },
  {
   "cell_type": "code",
   "execution_count": 2,
   "id": "e735c4ac-d3df-4e76-9d66-982a886c4ed0",
   "metadata": {},
   "outputs": [
    {
     "name": "stdout",
     "output_type": "stream",
     "text": [
      "10\n"
     ]
    },
    {
     "data": {
      "text/plain": [
       "int"
      ]
     },
     "execution_count": 2,
     "metadata": {},
     "output_type": "execute_result"
    }
   ],
   "source": [
    "a = 10\n",
    "print (a)\n",
    "type (a)"
   ]
  },
  {
   "cell_type": "markdown",
   "id": "8fd2baa9-acd8-420e-8d50-3de5dcc09e77",
   "metadata": {},
   "source": [
    "User-defined function :\n",
    "    \n",
    "They are functions that are defined by the programmer.\n",
    "\n",
    "A user-defined function is a function that is created by the user to perform a specific task.\n",
    "\n",
    "These functions are defined by the user using the def keyword, followed by a function name, parentheses, and a colon.\n",
    "\n",
    "Example -"
   ]
  },
  {
   "cell_type": "code",
   "execution_count": 1,
   "id": "94c50373-d600-462e-b2a8-8d2e973b8956",
   "metadata": {},
   "outputs": [
    {
     "name": "stdout",
     "output_type": "stream",
     "text": [
      "This is my first function\n"
     ]
    }
   ],
   "source": [
    "def Myfirstfuction():                       # Name of fuction\n",
    "    print ( \"This is my first function\" )   # Body \n",
    "    \n",
    "Myfirstfuction()                            # calling of the fuction "
   ]
  },
  {
   "cell_type": "code",
   "execution_count": 5,
   "id": "470ae9a0-b9a5-4d16-b9f8-af2c7f01e2bb",
   "metadata": {},
   "outputs": [
    {
     "name": "stdout",
     "output_type": "stream",
     "text": [
      "Akshay is a good student\n"
     ]
    }
   ],
   "source": [
    "def Myfirstfuction(name):               \n",
    "    print ( name + \" is a good student\" ) \n",
    "\n",
    "    \n",
    "Myfirstfuction(\"Akshay\")           # calling the fuction by passing arguments or parameters"
   ]
  },
  {
   "cell_type": "code",
   "execution_count": 6,
   "id": "9f0b6220-790b-4a84-bb09-cf2ce3e0cbac",
   "metadata": {},
   "outputs": [
    {
     "name": "stdout",
     "output_type": "stream",
     "text": [
      "Akshay Mul Hello, welocome to page\n"
     ]
    }
   ],
   "source": [
    "def Test(firstname, lastname):\n",
    "    print (firstname, lastname  +  \" Hello, welocome to page\")\n",
    "    \n",
    "Test( \"Akshay\", \"Mul\")"
   ]
  },
  {
   "cell_type": "markdown",
   "id": "71ccabae-e0ed-4921-bf77-b79a83f87a61",
   "metadata": {},
   "source": [
    "# 2. How can you pass arguments to a function in Python? Explain the difference between positional arguments and keyword arguments."
   ]
  },
  {
   "cell_type": "markdown",
   "id": "fb2f253e-efdd-416c-a95b-5fe8c4f74e41",
   "metadata": {},
   "source": [
    "Answer -"
   ]
  },
  {
   "cell_type": "markdown",
   "id": "d8603b06-b847-4c09-b76e-7acd30b71f46",
   "metadata": {},
   "source": [
    "We can pass arguments to a function in two ways : \n",
    "\n",
    "1. Positional arguments and \n",
    "\n",
    "2. Keyword arguments\n",
    "\n",
    "Positional Arguments:\n",
    "\n",
    "Positional arguments are passed to a function based on their position or order.\n",
    "\n",
    "The function expects the arguments to be provided in a specific order as defined in its function signature.\n",
    "\n",
    "When we call a function with positional arguments, you need to pass the arguments in the same order as they are defined in the function's parameter list.\n",
    "\n",
    "Example -"
   ]
  },
  {
   "cell_type": "code",
   "execution_count": 1,
   "id": "9ac7d4bc-5430-42b9-9806-b4cbe3d8bd0e",
   "metadata": {},
   "outputs": [
    {
     "name": "stdout",
     "output_type": "stream",
     "text": [
      "Hello Akshay !\n",
      "You are 25 years old.\n"
     ]
    }
   ],
   "source": [
    "def NamewithAge(name, age):\n",
    "    print(\"Hello\", name, \"!\")\n",
    "    print(\"You are\", age, \"years old.\")\n",
    "\n",
    "NamewithAge(\"Akshay\", 25)"
   ]
  },
  {
   "cell_type": "markdown",
   "id": "fd1ed708-34de-483a-906a-62a72f13e2f4",
   "metadata": {},
   "source": [
    "Keyword Arguments:\n",
    "\n",
    "Keyword arguments are passed to a function using the name of the parameter as a keyword along with its corresponding value.\n",
    "\n",
    "The order of keyword arguments doesn't matter as long as you specify the parameter name when calling the function.\n",
    "\n",
    "Example -"
   ]
  },
  {
   "cell_type": "code",
   "execution_count": 3,
   "id": "9c1ae1a0-d1b7-4e28-9923-a953b768650d",
   "metadata": {},
   "outputs": [
    {
     "name": "stdout",
     "output_type": "stream",
     "text": [
      "Hello Akshay !\n",
      "You are 25 years old.\n"
     ]
    }
   ],
   "source": [
    "def NamewithAge(name, age):\n",
    "    print(\"Hello\", name, \"!\")\n",
    "    print(\"You are\", age, \"years old.\")\n",
    "\n",
    "NamewithAge(name=\"Akshay\", age=25)"
   ]
  },
  {
   "cell_type": "markdown",
   "id": "38dac79b-2b3d-457a-911a-b7d16833f4da",
   "metadata": {},
   "source": [
    "# 3. What is the purpose of the return statement in a function? Can a function have multiple return statements? Explain with an example.\n"
   ]
  },
  {
   "cell_type": "markdown",
   "id": "77fbddf2-b365-45bc-95a7-9c24f2f6b92b",
   "metadata": {},
   "source": [
    "Answer -"
   ]
  },
  {
   "cell_type": "markdown",
   "id": "c17141a6-087a-4236-adf5-298933bd4dff",
   "metadata": {},
   "source": [
    "Purpose of return statement :\n",
    "\n",
    "The return stops the execution of the function when it is encountered within the function.\n",
    "\n",
    "A return statement ends the processing of the current function and returns control to the caller of the function.\n",
    "\n",
    "Can a function have multiple return statements :\n",
    "\n",
    "A function can have multiple return statements, but only one return statement is executed when the function is called.\n",
    "\n",
    "When a return statement is encountered, the function exits and returns the specified value.\n",
    "\n",
    "Any subsequent code after the return statement is not executed.\n",
    "\n",
    "Example - "
   ]
  },
  {
   "cell_type": "code",
   "execution_count": 4,
   "id": "58380dcf-05d2-4349-8911-0cbfa7eed41c",
   "metadata": {},
   "outputs": [
    {
     "name": "stdout",
     "output_type": "stream",
     "text": [
      "5\n",
      "7\n"
     ]
    }
   ],
   "source": [
    "def absolute_value(number):\n",
    "    if number < 0:\n",
    "        return -number\n",
    "    else:\n",
    "        return number\n",
    "\n",
    "result1 = absolute_value(5)\n",
    "print(result1)\n",
    "\n",
    "result2 = absolute_value(-7)\n",
    "print(result2) "
   ]
  },
  {
   "cell_type": "markdown",
   "id": "cd4a3619-fe2e-4884-a3a2-23036bb9971b",
   "metadata": {},
   "source": [
    "In the above example, the function absolute_value takes a number as an argument. It checks if the number is less than 0. If it is, it returns the negation of the number (-number). Otherwise, it returns the number itself.\n",
    "\n",
    "When we call absolute_value(5), the number is not less than 0, so the else block is executed. The return statement returns the number 5, which is assigned to the variable result1, and then it is printed.\n",
    "\n",
    "When we call absolute_value(-7), the number is less than 0, so the if block is executed. The return statement returns the negation of the number (-(-7) = 7), which is assigned to the variable result2, and then it is printed.\n",
    "\n",
    "That is when a return statement is encountered, the function immediately exits, and any code below the return statement is not executed. "
   ]
  },
  {
   "cell_type": "markdown",
   "id": "56756aa3-f1dc-4e17-9ba8-f5dfb83535a4",
   "metadata": {},
   "source": [
    "# 4. What are lambda functions in Python? How are they different from regular functions? Provide an example where a lambda function can be useful."
   ]
  },
  {
   "cell_type": "markdown",
   "id": "e1e3f549-bf87-404d-a1b8-82aba6bd2c0b",
   "metadata": {},
   "source": [
    "Answer -"
   ]
  },
  {
   "cell_type": "markdown",
   "id": "50862094-bfbd-41b0-96c1-287e3c0cba3d",
   "metadata": {},
   "source": [
    "lambda fuction :\n",
    "\n",
    "lambda functions, also known as anonymous functions, are small, single-expression functions that don't require a def statement or a named function.\n",
    "\n",
    "They are defined using the lambda keyword and are typically used for simple and concise functions.\n",
    "\n",
    "Here's the general syntax of a lambda function - lambda arguments: expression\n",
    "\n",
    "Lambda functions can take any number of arguments but can only have one expression. \n",
    "\n",
    "The expression is evaluated and returned as the result of the function.\n",
    "\n",
    "\n",
    "Lambda functions are different from regular functions in a few ways :\n",
    "\n",
    "Anonymous: Lambda functions are anonymous because they don't have a name. They are defined inline as needed and often used when a small function is required for a specific task.\n",
    "\n",
    "Concise: Lambda functions are meant to be compact and concise. They typically consist of a single expression and are used for simple tasks. Regular functions, on the other hand, can have multiple statements and a more complex structure.\n",
    "\n",
    "Here's an example where a lambda function can be useful -"
   ]
  },
  {
   "cell_type": "code",
   "execution_count": 6,
   "id": "5eb6a09d-5faf-488d-9ac4-7e9c87ea2f7e",
   "metadata": {},
   "outputs": [
    {
     "name": "stdout",
     "output_type": "stream",
     "text": [
      "[1, 4, 9, 16, 25]\n"
     ]
    }
   ],
   "source": [
    "# Using a regular function to square each number\n",
    "\n",
    "numbers = [1, 2, 3, 4, 5]\n",
    "\n",
    "def square(x):\n",
    "    return x ** 2\n",
    "\n",
    "squared_numbers = list(map(square, numbers))\n",
    "print(squared_numbers)                      "
   ]
  },
  {
   "cell_type": "code",
   "execution_count": 7,
   "id": "be44fa81-b415-427f-955d-7a40824c48fb",
   "metadata": {},
   "outputs": [
    {
     "name": "stdout",
     "output_type": "stream",
     "text": [
      "[1, 4, 9, 16, 25]\n"
     ]
    }
   ],
   "source": [
    "# Using lambda function to square each number\n",
    "\n",
    "numbers = [1, 2, 3, 4, 5]\n",
    "\n",
    "squared_numbers = list(map(lambda x: x ** 2, numbers))\n",
    "print(squared_numbers)                        "
   ]
  },
  {
   "cell_type": "markdown",
   "id": "ec6a0c6a-892f-408b-81d5-96d3a31cb4ed",
   "metadata": {},
   "source": [
    "The lambda function allows us to define the squaring operation inline, without the need to define a separate named function.\n",
    "\n",
    "It provides a more concise and immediate way to express a simple computation."
   ]
  },
  {
   "cell_type": "markdown",
   "id": "e2391834-299a-4d91-b3ba-bbf5f55b5ec8",
   "metadata": {},
   "source": [
    "# 5. How does the concept of \"scope\" apply to functions in Python? Explain the difference between local scope and global scope."
   ]
  },
  {
   "cell_type": "markdown",
   "id": "d6fafb24-2f28-4e36-84b8-85a65a53c9d9",
   "metadata": {},
   "source": [
    "Answer -"
   ]
  },
  {
   "cell_type": "markdown",
   "id": "c704dd71-6891-4b5b-8bd8-3dd6115d881b",
   "metadata": {},
   "source": [
    "The concept of \"scope\" refers to the visibility and accessibility of variables within different parts of a program. \n",
    "\n",
    "Scopes determine which parts of the code can access and modify specific variables.\n",
    "\n",
    "Local Scope :\n",
    "\n",
    "A local scope refers to the portion of code within a function. \n",
    "\n",
    "Variables defined inside a function have local scope, which means they are only accessible within that function.\n",
    "\n",
    "Local variables are created when the function is called and cease to exist once the function finishes executing.\n",
    "\n",
    "Example -"
   ]
  },
  {
   "cell_type": "code",
   "execution_count": 8,
   "id": "6e54b5ce-bc12-4316-b45c-a817694a6178",
   "metadata": {},
   "outputs": [
    {
     "name": "stdout",
     "output_type": "stream",
     "text": [
      "10\n"
     ]
    },
    {
     "ename": "NameError",
     "evalue": "name 'x' is not defined",
     "output_type": "error",
     "traceback": [
      "\u001b[0;31m---------------------------------------------------------------------------\u001b[0m",
      "\u001b[0;31mNameError\u001b[0m                                 Traceback (most recent call last)",
      "Cell \u001b[0;32mIn [8], line 6\u001b[0m\n\u001b[1;32m      3\u001b[0m     \u001b[38;5;28mprint\u001b[39m(x)\n\u001b[1;32m      5\u001b[0m my_function()\n\u001b[0;32m----> 6\u001b[0m \u001b[38;5;28mprint\u001b[39m(\u001b[43mx\u001b[49m)\n",
      "\u001b[0;31mNameError\u001b[0m: name 'x' is not defined"
     ]
    }
   ],
   "source": [
    "def my_function():\n",
    "    x = 10  # Local variable\n",
    "    print(x)\n",
    "\n",
    "my_function()\n",
    "print(x)  # Raises NameError: name 'x' is not defined"
   ]
  },
  {
   "cell_type": "markdown",
   "id": "a1046728-ada6-42a5-94e8-f9afe9a35a2f",
   "metadata": {},
   "source": [
    "Global Scope :\n",
    "\n",
    "The global scope refers to the top-level portion of a module or the entire script. \n",
    "\n",
    "Variables defined outside any function or at the module level have global scope.\n",
    "\n",
    "They can be accessed from anywhere within the module, including inside functions.\n",
    "\n",
    "Example -"
   ]
  },
  {
   "cell_type": "code",
   "execution_count": 9,
   "id": "be483d9f-5cfc-4813-96c3-a141dc0b36fc",
   "metadata": {},
   "outputs": [
    {
     "name": "stdout",
     "output_type": "stream",
     "text": [
      "10\n",
      "10\n"
     ]
    }
   ],
   "source": [
    "x = 10  # Global variable\n",
    "\n",
    "def my_function():\n",
    "    print(x)\n",
    "\n",
    "my_function()\n",
    "print(x)"
   ]
  },
  {
   "cell_type": "markdown",
   "id": "4f74511a-bae8-41e6-be3f-2a709f0fb3a7",
   "metadata": {},
   "source": [
    "# 6. How can you use the \"return\" statement in a Python function to return multiple values?"
   ]
  },
  {
   "cell_type": "markdown",
   "id": "820d4c28-e8af-4055-839b-2282f646143c",
   "metadata": {},
   "source": [
    "Answer -"
   ]
  },
  {
   "cell_type": "markdown",
   "id": "c0207c5a-fa4f-4a75-afee-cdc9fdf984af",
   "metadata": {},
   "source": [
    "In Python, we can return multiple values by simply separating them with commas in the return statement. \n",
    "\n",
    "Also, we can use the return statement in a function to return multiple values by packing them into a data structure such as a tuple, list, or dictionary. "
   ]
  },
  {
   "cell_type": "markdown",
   "id": "85e6ca03-d612-4004-85ac-483a8197f1c5",
   "metadata": {},
   "source": [
    "Returning a tuple:\n",
    "\n",
    "We can use a tuple to return multiple values from a function. Simply separate the values by commas within the return statement.\n",
    "\n",
    "When the function is called, the values will be packed into a tuple and can be unpacked into separate variables.\n",
    "\n",
    "Example - "
   ]
  },
  {
   "cell_type": "code",
   "execution_count": 10,
   "id": "1446ae70-a0f4-4a01-a176-e1a4b15a9053",
   "metadata": {},
   "outputs": [
    {
     "name": "stdout",
     "output_type": "stream",
     "text": [
      "(10, 20, 30)\n",
      "10 20 30\n"
     ]
    }
   ],
   "source": [
    "def multiple_values():\n",
    "    x = 10\n",
    "    y = 20\n",
    "    z = 30\n",
    "    return x, y, z\n",
    "\n",
    "result = multiple_values()\n",
    "print(result)                   # Output: (10, 20, 30)\n",
    "a, b, c = multiple_values()\n",
    "print(a, b, c)                  # Output: 10 20 30"
   ]
  },
  {
   "cell_type": "markdown",
   "id": "970e99f6-ab98-4eba-8127-cdb7ce122b13",
   "metadata": {},
   "source": [
    "Returning a list:\n",
    "\n",
    "Similar to returning a tuple, you can pack the values into a list using square brackets within the return statement. The returned values will be contained within a list, which can be accessed and manipulated accordingly."
   ]
  },
  {
   "cell_type": "code",
   "execution_count": 11,
   "id": "6684d37a-a310-493c-85b7-f748d46747bb",
   "metadata": {},
   "outputs": [
    {
     "name": "stdout",
     "output_type": "stream",
     "text": [
      "[10, 20, 30]\n"
     ]
    }
   ],
   "source": [
    "def multiple_values():\n",
    "    x = 10\n",
    "    y = 20\n",
    "    z = 30\n",
    "    return [x, y, z]\n",
    "\n",
    "result = multiple_values()\n",
    "print(result)              # Output: [10, 20, 30]"
   ]
  },
  {
   "cell_type": "markdown",
   "id": "0a4cf198-b9f4-4865-aaac-9f75fae8b7d3",
   "metadata": {},
   "source": [
    "Returning a dictionary: \n",
    "\n",
    "If you want to return multiple values with labels or keys, you can use a dictionary. Specify the key-value pairs within the return statement, and the values will be packed into a dictionary that can be accessed by the keys."
   ]
  },
  {
   "cell_type": "code",
   "execution_count": 12,
   "id": "8d8dc57b-ebad-4d6f-90d7-b8dc52d64808",
   "metadata": {},
   "outputs": [
    {
     "name": "stdout",
     "output_type": "stream",
     "text": [
      "{'a': 10, 'b': 20, 'c': 30}\n"
     ]
    }
   ],
   "source": [
    "def multiple_values():\n",
    "    x = 10\n",
    "    y = 20\n",
    "    z = 30\n",
    "    return {'a': x, 'b': y, 'c': z}\n",
    "\n",
    "result = multiple_values()\n",
    "print(result)              # Output: {'a': 10, 'b': 20, 'c': 30}"
   ]
  },
  {
   "cell_type": "markdown",
   "id": "2427a144-7558-4a1b-87ca-d10f33b19d27",
   "metadata": {},
   "source": [
    "# 7. What is the difference between the \"pass by value\" and \"pass by reference\" concepts when it comes to function arguments in Python?"
   ]
  },
  {
   "cell_type": "markdown",
   "id": "a6ad85f5-842b-4c7b-a4a6-06d837894d23",
   "metadata": {},
   "source": [
    "Answer -"
   ]
  },
  {
   "cell_type": "markdown",
   "id": "7c3110d6-dac7-4e4c-b224-4f7151ebde32",
   "metadata": {},
   "source": [
    "In Python, the concept of \"pass by value\" and \"pass by reference\" is often misunderstood because it doesn't strictly adhere to either of these concepts. Python adopts a different approach known as \"pass by object reference\" or \"pass by assignment.\"\n",
    "\n",
    "In Python, when a function is called, the values of the arguments are passed to the function. However, the behavior can vary depending on the type of the argument being passed:\n",
    "\n",
    "Immutable Objects (e.g., numbers, strings, tuples) :\n",
    "\n",
    "Immutable objects are passed by value in Python. When you pass an immutable object as an argument to a function, a copy of the object's value is made, and this copy is passed to the function.\n",
    "\n",
    "Any modifications made to the argument within the function do not affect the original object."
   ]
  },
  {
   "cell_type": "code",
   "execution_count": 13,
   "id": "1a22a968-add1-407d-8d1f-fe70777e8f8f",
   "metadata": {},
   "outputs": [
    {
     "name": "stdout",
     "output_type": "stream",
     "text": [
      "Inside the function: 15\n",
      "Outside the function: 5\n"
     ]
    }
   ],
   "source": [
    "def modify_value(x):\n",
    "    x = x + 10\n",
    "    print(\"Inside the function:\", x)\n",
    "\n",
    "y = 5\n",
    "modify_value(y)\n",
    "print(\"Outside the function:\", y)"
   ]
  },
  {
   "cell_type": "markdown",
   "id": "8560c951-3879-4165-8d81-723928ea76a4",
   "metadata": {},
   "source": [
    "Mutable Objects (e.g., lists, dictionaries):\n",
    "\n",
    "Mutable objects are passed by reference in Python. When you pass a mutable object as an argument to a function, the reference to the object is passed.\n",
    "\n",
    "This means that any modifications made to the object within the function will affect the original object."
   ]
  },
  {
   "cell_type": "code",
   "execution_count": 14,
   "id": "68a21d34-a84f-4560-8425-6eb53f121807",
   "metadata": {},
   "outputs": [
    {
     "name": "stdout",
     "output_type": "stream",
     "text": [
      "['Updated', 2, 3, 4]\n"
     ]
    }
   ],
   "source": [
    "def modify_list(lst):\n",
    "    lst.append(4)\n",
    "    lst[0] = \"Updated\"\n",
    "\n",
    "my_list = [1, 2, 3]\n",
    "modify_list(my_list)\n",
    "print(my_list)"
   ]
  },
  {
   "cell_type": "markdown",
   "id": "358cdbec-fd50-4bad-9ea6-2436489cef7e",
   "metadata": {},
   "source": [
    "In short, Python uses a \"pass by object reference\" approach where immutable objects are passed by value (a copy of the value) and mutable objects are passed by reference (the reference to the object)."
   ]
  },
  {
   "cell_type": "markdown",
   "id": "567aaf5b-887f-4af7-b33e-4bb3b82e19e0",
   "metadata": {},
   "source": [
    "# 8. Create a function that can intake integer or decimal value and do following operations:\n",
    "\n",
    "a. Logarithmic function (log x)\n",
    "\n",
    "b. Exponential function (exp(x))\n",
    "\n",
    "c. Power function with base 2 (2x)\n",
    "\n",
    "d. Square root"
   ]
  },
  {
   "cell_type": "markdown",
   "id": "66c601e3-14ee-43bf-8ad6-a590ac5127f5",
   "metadata": {},
   "source": [
    "Answer -"
   ]
  },
  {
   "cell_type": "markdown",
   "id": "f8f225bc-10a4-4b38-b58a-b2f5ae20e0d8",
   "metadata": {},
   "source": [
    "Here's an example of a function that can perform the specified operations on an integer or decimal value:"
   ]
  },
  {
   "cell_type": "code",
   "execution_count": 17,
   "id": "7a7f7f21-29c5-46f4-b6e2-cc086090ced4",
   "metadata": {},
   "outputs": [
    {
     "name": "stdout",
     "output_type": "stream",
     "text": [
      "(1.3862943611198906, 54.598150033144236, 16.0, 2.0)\n"
     ]
    }
   ],
   "source": [
    "import math\n",
    "\n",
    "def perform_operations(x):\n",
    "    logarithm = math.log(x)\n",
    "    exponential = math.exp(x)\n",
    "    power_of_two = math.pow(2, x)\n",
    "    square_root = math.sqrt(x)\n",
    "    \n",
    "    return logarithm, exponential, power_of_two, square_root\n",
    "\n",
    "result = perform_operations(4)\n",
    "print(result)"
   ]
  },
  {
   "cell_type": "markdown",
   "id": "877ae9a7-fe75-4bf2-a5c9-ddb6d28d441d",
   "metadata": {},
   "source": [
    "The output provides the logarithmic value, exponential value, power of 2, and square root of the input value, respectively."
   ]
  },
  {
   "cell_type": "markdown",
   "id": "ce0c128d-59da-4413-8848-f8c41bc5c92e",
   "metadata": {},
   "source": [
    "# 9. Create a function that takes a full name as an argument and returns first name and last name."
   ]
  },
  {
   "cell_type": "markdown",
   "id": "b68b90fe-a64f-438d-9963-a1f1c012eeba",
   "metadata": {},
   "source": [
    "Answer -"
   ]
  },
  {
   "cell_type": "markdown",
   "id": "30836154-e005-4851-a10b-312d36d85839",
   "metadata": {},
   "source": [
    "Here's an example of a function that takes a full name as an argument and returns the first name and last name as separate values:"
   ]
  },
  {
   "cell_type": "code",
   "execution_count": 18,
   "id": "ae6c39cd-2255-49c1-8b20-b32c203fbdc5",
   "metadata": {},
   "outputs": [
    {
     "name": "stdout",
     "output_type": "stream",
     "text": [
      "('Akshay', 'Mul')\n"
     ]
    }
   ],
   "source": [
    "def extract_names(full_name):\n",
    "    names = full_name.split()\n",
    "    first_name = names[0]\n",
    "    last_name = names[-1]\n",
    "    return first_name, last_name\n",
    "\n",
    "result = extract_names(\"Akshay Mul\")\n",
    "print(result)"
   ]
  },
  {
   "cell_type": "code",
   "execution_count": null,
   "id": "10d9f98c-46c8-423c-b648-eb44f2b7e46d",
   "metadata": {},
   "outputs": [],
   "source": []
  }
 ],
 "metadata": {
  "kernelspec": {
   "display_name": "Python 3 (ipykernel)",
   "language": "python",
   "name": "python3"
  },
  "language_info": {
   "codemirror_mode": {
    "name": "ipython",
    "version": 3
   },
   "file_extension": ".py",
   "mimetype": "text/x-python",
   "name": "python",
   "nbconvert_exporter": "python",
   "pygments_lexer": "ipython3",
   "version": "3.10.6"
  }
 },
 "nbformat": 4,
 "nbformat_minor": 5
}
