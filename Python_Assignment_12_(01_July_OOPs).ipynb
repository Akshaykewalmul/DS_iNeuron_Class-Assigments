{
 "cells": [
  {
   "cell_type": "markdown",
   "id": "1106d96e-f06c-4939-adb6-e6f5eb9a08f0",
   "metadata": {},
   "source": [
    "# ASSIGNMENT_12_(01_July_OOPs)"
   ]
  },
  {
   "cell_type": "markdown",
   "id": "84037218-df04-4b3e-a6bc-60f5aa03d17c",
   "metadata": {},
   "source": [
    "# 1. What is the primary goal of Object-Oriented Programming (OOP)?\n",
    "\n",
    "Answer -"
   ]
  },
  {
   "cell_type": "markdown",
   "id": "9ac078b3-05b3-44f5-93cd-dad87ad8159f",
   "metadata": {},
   "source": [
    "The primary goal of Object-Oriented Programming (OOP) is to provide a structured and modular approach to software development. \n",
    "\n",
    "OOP aims to organize code into reusable components called objects, which encapsulate data and the operations that can be performed on that data. \n",
    "\n",
    "It emphasizes the concept of objects and their interactions, allowing for the creation of complex systems by building upon smaller, self-contained units.\n",
    "\n",
    "\n",
    "Some of the key goals of OOP include -\n",
    "\n",
    "1. Modularity : \n",
    "\n",
    "    OOP promotes modular design by breaking down a problem into smaller, manageable units (objects). Each object has its own set of data and behavior, and can be developed and       tested independently. This modular approach makes code easier to understand, maintain, and extend.\n",
    "\n",
    "2. Encapsulation : \n",
    "\n",
    "    Encapsulation is the practice of hiding internal implementation details and exposing only the essential features of an object to other parts of the program. It helps in   achieving data abstraction and information hiding, which improves code maintainability and reduces dependencies.\n",
    "\n",
    "3. Reusability : \n",
    "\n",
    "    OOP encourages the creation of reusable code components, which can be used in different parts of a program or in different programs altogether. Objects can be instantiated and reused in various contexts, promoting code efficiency and reducing redundancy.\n",
    "\n",
    "4. Inheritance : \n",
    "\n",
    "    Inheritance allows objects to inherit properties and behaviors from other objects, forming a hierarchical relationship. It enables code reuse and promotes the creation of specialized classes derived from more general ones. Inheritance helps in organizing and structuring code in a hierarchical manner, enhancing code flexibility and extensibility.\n",
    "\n",
    "5. Polymorphism : \n",
    "\n",
    "    Polymorphism enables objects of different classes to be treated as objects of a common superclass, allowing for interchangeable usage. It allows flexibility in method invocation, as different objects can respond to the same message in different ways. Polymorphism promotes code extensibility, modifiability, and adaptability.\n",
    "\n",
    "\n",
    "By achieving these goals, OOP facilitates the development of robust, maintainable, and scalable software systems. It provides a powerful paradigm for structuring code and managing complexity, making it a popular choice in modern software development."
   ]
  },
  {
   "cell_type": "markdown",
   "id": "f923caf6-5a60-413e-9f61-de677f39fb1a",
   "metadata": {},
   "source": [
    "# 2. What is an object in Python?\n",
    "\n",
    "Answer -"
   ]
  },
  {
   "cell_type": "markdown",
   "id": "00634bbe-8e92-468e-b8f7-835b8b53f19d",
   "metadata": {},
   "source": [
    "In Python, an object is a fundamental concept that represents a specific instance of a class. It is a self-contained entity that combines data (attributes) and functions (methods) that operate on that data. Objects are the building blocks of object-oriented programming in Python.\n",
    "\n",
    "In Python, every value is an object, whether it's a number, a string, a list, or a custom-defined class. Every object belongs to a specific class, which defines its characteristics and behavior. For example, if you create a list in Python, it is an object of the built-in list class. Similarly, if you define a custom class, instances of that class will be objects of that class.\n",
    "\n",
    "Here's an example of creating an object in Python -"
   ]
  },
  {
   "cell_type": "code",
   "execution_count": 1,
   "id": "25641f7d-9673-40f0-9a4a-7e7ac4689907",
   "metadata": {},
   "outputs": [
    {
     "name": "stdout",
     "output_type": "stream",
     "text": [
      "Hello, my name is Akshay\n"
     ]
    }
   ],
   "source": [
    "# Define a class called Person\n",
    "class Person:\n",
    "    def __init__(self, name):\n",
    "        self.name = name\n",
    "\n",
    "    def say_hello(self):\n",
    "        print(\"Hello, my name is\", self.name)\n",
    "\n",
    "# Create an object (instance) of the Person class\n",
    "person = Person(\"Akshay\")\n",
    "\n",
    "# Call the say_hello method on the person object\n",
    "person.say_hello()"
   ]
  },
  {
   "cell_type": "markdown",
   "id": "777eeb2e-de1a-446c-bbb3-d98cc8715fc3",
   "metadata": {},
   "source": [
    "Objects allow us to encapsulate related data and behavior together, providing a modular and organized approach to programming. \n",
    "\n",
    "They enable us to create multiple instances of a class with their own unique data while sharing the same methods defined in the class."
   ]
  },
  {
   "cell_type": "markdown",
   "id": "d27d21da-bc0e-4d2d-a8b1-c16aa173d0de",
   "metadata": {},
   "source": [
    "# 3. What is a class in Python?\n",
    "\n",
    "Answer - "
   ]
  },
  {
   "cell_type": "markdown",
   "id": "260707a6-1d92-4222-a069-80b0a25f214a",
   "metadata": {},
   "source": [
    "In Python, a class is a blueprint or a template that defines the structure and behavior of objects. \n",
    "\n",
    "It serves as a blueprint for creating instances (objects) of that class. A class encapsulates data (attributes) and functions (methods) that operate on that data.\n",
    "\n",
    "To define a class in Python, you use the class keyword followed by the name of the class. \n",
    "\n",
    "Here's a simple example of a class definition -"
   ]
  },
  {
   "cell_type": "code",
   "execution_count": 8,
   "id": "e24b9058-8e11-488a-a85a-589a36391f84",
   "metadata": {},
   "outputs": [],
   "source": [
    "class Person:\n",
    "    def __init__(self, name, age):\n",
    "        self.name = name\n",
    "        self.age = age\n",
    "\n",
    "    def say_hello(self):\n",
    "        print(f'Hello, my name is {self.name} and age is {self.age}')\n",
    "\n",
    "    def get_age(self):\n",
    "        return self.age"
   ]
  },
  {
   "cell_type": "code",
   "execution_count": 9,
   "id": "d34ec3e7-0d70-4d7f-b9d7-5cf71ed604c7",
   "metadata": {},
   "outputs": [],
   "source": [
    "person = Person(\"Akshay\", 28)"
   ]
  },
  {
   "cell_type": "code",
   "execution_count": 10,
   "id": "dfbbbc18-21af-4f06-906b-48454ea2eed0",
   "metadata": {},
   "outputs": [
    {
     "name": "stdout",
     "output_type": "stream",
     "text": [
      "Hello, my name is Akshay and age is 28\n"
     ]
    }
   ],
   "source": [
    "person.say_hello()"
   ]
  },
  {
   "cell_type": "markdown",
   "id": "68894e9e-19fd-421d-a672-4948d401cb44",
   "metadata": {},
   "source": [
    "Classes provide a way to organize code, promote reusability, and implement object-oriented programming principles such as encapsulation, inheritance, and polymorphism. They are an essential part of creating complex and structured programs in Python."
   ]
  },
  {
   "cell_type": "markdown",
   "id": "42fcfc20-0d09-4b60-a4f4-4f96244f328c",
   "metadata": {},
   "source": [
    "# 4. What are attributes and methods in a class?\n",
    "\n",
    "Answer -"
   ]
  },
  {
   "cell_type": "markdown",
   "id": "9adf9e15-e2d0-4fb9-84d4-46f7a69e3350",
   "metadata": {},
   "source": [
    "In a class, attributes and methods are two fundamental components that define the behavior and characteristics of objects created from that class."
   ]
  },
  {
   "cell_type": "markdown",
   "id": "1f0795c7-d2b9-4842-9791-7a298b96d3cb",
   "metadata": {},
   "source": [
    "1.  Attributes :\n",
    "\n",
    "    A variable stored in an instance or class is called an attribute.\n",
    "\n",
    "    Attributes are variables that store data associated with an object. They represent the state or characteristics of an object. In Python, attributes are defined within the class and are accessed using the dot notation on instances of the class.\n",
    "\n",
    "    Attributes can be classified into two types-\n",
    "\n",
    "    Instance attributes : These attributes are specific to each instance of a class. They are defined within the __init__ method using the self parameter and can be accessed and modified using the instance of the class.\n",
    "\n",
    "    Class attributes : These attributes are shared by all instances of a class. They are defined directly within the class, outside any method, and are accessed using the class name. Class attributes have the same value for all instances of the class.\n",
    "\n",
    "Here's an example that demonstrates both instance and class attributes:"
   ]
  },
  {
   "cell_type": "code",
   "execution_count": 1,
   "id": "4f9edbad-ab75-4bd9-9f9e-ed14a91cf76c",
   "metadata": {},
   "outputs": [
    {
     "name": "stdout",
     "output_type": "stream",
     "text": [
      "5\n",
      "3\n",
      "3.14\n",
      "3.14\n"
     ]
    }
   ],
   "source": [
    "class Circle:\n",
    "    pi = 3.14  # Class attribute\n",
    "\n",
    "    def __init__(self, radius):\n",
    "        self.radius = radius  # Instance attribute\n",
    "\n",
    "circle1 = Circle(5)\n",
    "circle2 = Circle(3)\n",
    "\n",
    "print(circle1.radius)  \n",
    "print(circle2.radius)  \n",
    "\n",
    "print(circle1.pi)  \n",
    "print(circle2.pi) "
   ]
  },
  {
   "cell_type": "markdown",
   "id": "04913b94-b19e-4a15-8301-497f0121bd6f",
   "metadata": {},
   "source": [
    "2. Methods:\n",
    "\n",
    "    A function stored in an instance or class is called a method.\n",
    "\n",
    "    Methods are functions defined within a class that perform operations on objects created from that class. They define the behavior of the class and how objects of that class interact with the outside world. Methods can access and manipulate the attributes of an object.\n",
    "\n",
    "    Methods can be categorized into two types:\n",
    "\n",
    "    Instance methods : These methods are defined within a class and operate on specific instances of the class. They have access to instance attributes and can modify their values. Instance methods are usually called on instances of the class and are defined with the self parameter as the first parameter.\n",
    "\n",
    "    Class methods : These methods are defined within a class and operate on the class itself rather than instances. They have access to class attributes and can modify them. Class methods are defined using the @classmethod decorator and take the class (cls) as the first parameter.\n",
    "\n",
    "Here's an example that demonstrates both instance and class methods:"
   ]
  },
  {
   "cell_type": "code",
   "execution_count": 2,
   "id": "3b225764-d7da-4db5-b3cb-90e1d2a4dba8",
   "metadata": {},
   "outputs": [
    {
     "name": "stdout",
     "output_type": "stream",
     "text": [
      "78.5\n",
      "78.53975\n"
     ]
    }
   ],
   "source": [
    "class Circle:\n",
    "    pi = 3.14  # Class attribute\n",
    "\n",
    "    def __init__(self, radius):\n",
    "        self.radius = radius  # Instance attribute\n",
    "\n",
    "    def calculate_area(self):\n",
    "        return self.pi * self.radius**2  # Instance method\n",
    "\n",
    "    @classmethod\n",
    "    def modify_pi(cls, new_pi):\n",
    "        cls.pi = new_pi  # Class method\n",
    "\n",
    "circle = Circle(5)\n",
    "print(circle.calculate_area()) \n",
    "\n",
    "Circle.modify_pi(3.14159)\n",
    "print(circle.calculate_area())  "
   ]
  },
  {
   "cell_type": "markdown",
   "id": "e187eed1-e945-4ce4-98cd-4ec6ebc68e6f",
   "metadata": {},
   "source": [
    "Attributes and methods are the building blocks of classes in Python, allowing objects to store data and perform operations. They enable the implementation of encapsulation, abstraction, and behavior control in object-oriented programming."
   ]
  },
  {
   "cell_type": "markdown",
   "id": "f1ab8fd6-98d3-4ed2-a356-17adf10d4df0",
   "metadata": {},
   "source": [
    "# 5. What is the difference between class variables and instance variables in Python?\n",
    "\n",
    "Answer - "
   ]
  },
  {
   "cell_type": "markdown",
   "id": "216aa066-bfb2-4a1c-a259-eff6e710121a",
   "metadata": {},
   "source": [
    "In Python, class variables and instance variables are two types of attributes that can be defined within a class. They differ in scope, usage, and how they are accessed and modified.\n",
    "\n",
    "1. Class Variables:\n",
    "\n",
    "    Scope : Class variables are attributes that are defined at the class level and are shared by all instances of the class. They belong to the class itself rather than any specific instance.\n",
    "    \n",
    "    Declaration : Class variables are typically defined outside any method in the class, at the top level of the class.\n",
    "    \n",
    "    Access : Class variables can be accessed using the class name or any instance of the class.\n",
    "    \n",
    "    Modification : Class variables can be modified directly using the class name, and the modification will affect all instances of the class.\n",
    "    \n",
    "    Purpose : Class variables are useful for storing data that is common to all instances of a class, such as constants, configuration settings, or shared data.\n",
    "    \n",
    "Here's an example that demonstrates class variables:"
   ]
  },
  {
   "cell_type": "code",
   "execution_count": 3,
   "id": "472ce9a8-da4b-4c2a-b838-7a226fbe3ab5",
   "metadata": {},
   "outputs": [
    {
     "name": "stdout",
     "output_type": "stream",
     "text": [
      "3.14\n",
      "3.14\n",
      "3.14159\n",
      "3.14159\n"
     ]
    }
   ],
   "source": [
    "class Circle:\n",
    "    pi = 3.14  # Class variable\n",
    "\n",
    "    def __init__(self, radius):\n",
    "        self.radius = radius  # Instance variable\n",
    "\n",
    "circle1 = Circle(5)\n",
    "circle2 = Circle(3)\n",
    "\n",
    "print(circle1.pi)  \n",
    "print(circle2.pi)  \n",
    "\n",
    "Circle.pi = 3.14159  # Modifying the class variable\n",
    "\n",
    "print(circle1.pi)  \n",
    "print(circle2.pi)  "
   ]
  },
  {
   "cell_type": "markdown",
   "id": "46c35a4a-61ea-4321-89b0-0497f871a601",
   "metadata": {},
   "source": [
    "2. Instance Variables:\n",
    "\n",
    "    Scope : Instance variables are attributes that are specific to each instance of a class. They belong to individual instances and have unique values for each instance.\n",
    "    \n",
    "    Declaration : Instance variables are typically defined within the __init__ method or any other instance method of the class, using the self parameter.\n",
    "    \n",
    "    Access : Instance variables can be accessed using the dot notation on instances of the class.\n",
    "    \n",
    "    Modification : Instance variables are accessed and modified on a per-instance basis. Each instance has its own set of instance variables that can be modified independently.\n",
    "    \n",
    "    Purpose : Instance variables are used to store data that varies from instance to instance. They represent the unique state or characteristics of individual objects.\n",
    "    \n",
    "Here's an example that demonstrates instance variables:"
   ]
  },
  {
   "cell_type": "code",
   "execution_count": 4,
   "id": "8604a744-1cb5-4173-bfb5-bcb38fb06ff3",
   "metadata": {},
   "outputs": [
    {
     "name": "stdout",
     "output_type": "stream",
     "text": [
      "5\n",
      "3\n",
      "7\n",
      "3\n"
     ]
    }
   ],
   "source": [
    "class Circle:\n",
    "    def __init__(self, radius):\n",
    "        self.radius = radius  # Instance variable\n",
    "\n",
    "circle1 = Circle(5)\n",
    "circle2 = Circle(3)\n",
    "\n",
    "print(circle1.radius) \n",
    "print(circle2.radius)  \n",
    "\n",
    "circle1.radius = 7  # Modifying the instance variable\n",
    "\n",
    "print(circle1.radius)  \n",
    "print(circle2.radius)  "
   ]
  },
  {
   "cell_type": "markdown",
   "id": "ae6eefac-ffc0-4564-82e1-c0b40e5b8242",
   "metadata": {},
   "source": [
    "# 6. What is the purpose of the self parameter in Python class methods?\n",
    "\n",
    "Answer - "
   ]
  },
  {
   "cell_type": "markdown",
   "id": "502851be-a973-483b-8890-138adfcef2e2",
   "metadata": {},
   "source": [
    "In Python, the self parameter in class methods is a convention that refers to the instance (object) on which the method is being called. It allows the method to access and manipulate the instance's attributes and other methods.\n",
    "\n",
    "The purpose of the self parameter is to provide a reference to the instance itself within the method. By convention, the first parameter of an instance method in a class is always self. However, you can choose any valid parameter name, but it is strongly recommended to use self to maintain consistency and clarity.\n",
    "\n",
    "When a method is called on an instance of a class, the instance is automatically passed as the first argument to the method. This allows the method to operate on the specific instance and access its unique attributes and methods.\n",
    "\n",
    "Using the self parameter, we can -\n",
    "\n",
    "Access instance attributes : Inside the method, you can access the instance's attributes using the self keyword followed by the attribute name. For example, self.attribute_name.\n",
    "\n",
    "Modify instance attributes : You can modify the values of instance attributes using the self parameter. For example, self.attribute_name = new_value.\n",
    "\n",
    "Call other methods : You can call other methods of the same instance using the self parameter. For example, self.method_name().\n",
    "\n",
    "Here's an example that demonstrates the usage of self in a class method:"
   ]
  },
  {
   "cell_type": "code",
   "execution_count": 5,
   "id": "fbb16396-ed5e-4203-a76e-850d988ad648",
   "metadata": {},
   "outputs": [
    {
     "name": "stdout",
     "output_type": "stream",
     "text": [
      "78.5\n"
     ]
    }
   ],
   "source": [
    "class Circle:\n",
    "    def __init__(self, radius):\n",
    "        self.radius = radius\n",
    "\n",
    "    def calculate_area(self):\n",
    "        return 3.14 * self.radius**2\n",
    "\n",
    "circle = Circle(5)\n",
    "print(circle.calculate_area())  "
   ]
  },
  {
   "cell_type": "markdown",
   "id": "6681f994-bf88-4282-a02d-006746bb4f88",
   "metadata": {},
   "source": [
    "By convention, the self parameter is used in instance methods, but it's not limited to that name. However, it's considered a best practice to use self to enhance code readability and maintainability, as it's widely recognized and understood in the Python community."
   ]
  },
  {
   "cell_type": "markdown",
   "id": "a70a99be-2a69-4c0c-a2fa-85a8f71cd165",
   "metadata": {},
   "source": [
    "# 7. For a library management system, you have to design the \"Book\" class with OOP\n",
    "\n",
    "principles in mind. The “Book” class will have following attributes :\n",
    "\n",
    "a. title: Represents the title of the book.\n",
    "\n",
    "b. author: Represents the author(s) of the book.\n",
    "\n",
    "c. isbn: Represents the ISBN (International Standard Book Number) of the book.\n",
    "\n",
    "d. publication_year: Represents the year of publication of the book.\n",
    "\n",
    "e. available_copies: Represents the number of copies available for checkout.\n",
    "\n",
    "\n",
    "The class will also include the following methods :\n",
    "\n",
    "a. check_out(self): Decrements the available copies by one if there are copies\n",
    "available for checkout.\n",
    "\n",
    "b. return_book(self): Increments the available copies by one when a book is\n",
    "returned.\n",
    "\n",
    "c. display_book_info(self): Displays the information about the book, including its\n",
    "attributes and the number of available copies.\n",
    "\n"
   ]
  },
  {
   "cell_type": "markdown",
   "id": "0523e15b-f550-45ad-9897-1206c1fa9a48",
   "metadata": {},
   "source": [
    "Answer -"
   ]
  },
  {
   "cell_type": "markdown",
   "id": "e18560a9-6c91-43fc-bcf8-d7b8bd736d69",
   "metadata": {},
   "source": [
    "Here's an example implementation of the \"Book\" class based on the requirements provided :"
   ]
  },
  {
   "cell_type": "code",
   "execution_count": 6,
   "id": "a8c66ced-3889-43c9-b9a6-388a954111df",
   "metadata": {},
   "outputs": [
    {
     "name": "stdout",
     "output_type": "stream",
     "text": [
      "Book Information:\n",
      "Title: The Great Gatsby\n",
      "Author(s): F. Scott Fitzgerald\n",
      "ISBN: 9780743273565\n",
      "Publication Year: 1925\n",
      "Available Copies: 3\n",
      "Book 'The Great Gatsby' checked out successfully.\n",
      "Book 'The Great Gatsby' checked out successfully.\n",
      "Book Information:\n",
      "Title: The Great Gatsby\n",
      "Author(s): F. Scott Fitzgerald\n",
      "ISBN: 9780743273565\n",
      "Publication Year: 1925\n",
      "Available Copies: 1\n",
      "Book 'The Great Gatsby' returned successfully.\n",
      "Book Information:\n",
      "Title: The Great Gatsby\n",
      "Author(s): F. Scott Fitzgerald\n",
      "ISBN: 9780743273565\n",
      "Publication Year: 1925\n",
      "Available Copies: 2\n"
     ]
    }
   ],
   "source": [
    "class Book:\n",
    "    def __init__(self, title, author, isbn, publication_year, available_copies):\n",
    "        self.title = title\n",
    "        self.author = author\n",
    "        self.isbn = isbn\n",
    "        self.publication_year = publication_year\n",
    "        self.available_copies = available_copies\n",
    "\n",
    "    def check_out(self):\n",
    "        if self.available_copies > 0:\n",
    "            self.available_copies -= 1\n",
    "            print(f\"Book '{self.title}' checked out successfully.\")\n",
    "        else:\n",
    "            print(f\"No available copies of book '{self.title}'.\")\n",
    "\n",
    "    def return_book(self):\n",
    "        self.available_copies += 1\n",
    "        print(f\"Book '{self.title}' returned successfully.\")\n",
    "\n",
    "    def display_book_info(self):\n",
    "        print(\"Book Information:\")\n",
    "        print(f\"Title: {self.title}\")\n",
    "        print(f\"Author(s): {self.author}\")\n",
    "        print(f\"ISBN: {self.isbn}\")\n",
    "        print(f\"Publication Year: {self.publication_year}\")\n",
    "        print(f\"Available Copies: {self.available_copies}\")\n",
    "\n",
    "\n",
    "# Example usage:\n",
    "book1 = Book(\"The Great Gatsby\", \"F. Scott Fitzgerald\", \"9780743273565\", 1925, 3)\n",
    "book1.display_book_info()\n",
    "\n",
    "book1.check_out()\n",
    "book1.check_out()\n",
    "book1.display_book_info()\n",
    "\n",
    "book1.return_book()\n",
    "book1.display_book_info()"
   ]
  },
  {
   "cell_type": "markdown",
   "id": "65177d3a-95a3-445d-9330-b26ee1619951",
   "metadata": {},
   "source": [
    "# 8. For a ticket booking system, you have to design the \"Ticket\" class with OOP\n",
    "\n",
    "principles in mind. The “Ticket” class should have the following attributes :\n",
    "\n",
    "a. ticket_id: Represents the unique identifier for the ticket.\n",
    "\n",
    "b. event_name: Represents the name of the event.\n",
    "\n",
    "c. event_date: Represents the date of the event.\n",
    "\n",
    "d. venue: Represents the venue of the event.\n",
    "\n",
    "e. seat_number: Represents the seat number associated with the ticket.\n",
    "\n",
    "f. price: Represents the price of the ticket.\n",
    "\n",
    "g. is_reserved: Represents the reservation status of the ticket.\n",
    "\n",
    "The class also includes the following methods :\n",
    "\n",
    "a. reserve_ticket(self): Marks the ticket as reserved if it is not already reserved.\n",
    "\n",
    "b. cancel_reservation(self): Cancels the reservation of the ticket if it is already\n",
    "reserved.\n",
    "\n",
    "c. display_ticket_info(self): Displays the information about the ticket, including its\n",
    "attributes and reservation status."
   ]
  },
  {
   "cell_type": "markdown",
   "id": "514279d1-b39c-4405-863c-1c205b27916b",
   "metadata": {},
   "source": [
    "Answer - "
   ]
  },
  {
   "cell_type": "markdown",
   "id": "f120bd44-026e-4fda-8015-7b20666309a7",
   "metadata": {},
   "source": [
    "Here's an example implementation of the \"Ticket\" class based on the requirements provided :"
   ]
  },
  {
   "cell_type": "code",
   "execution_count": 7,
   "id": "4c424fdd-657d-4f31-9564-c0b25aab97ea",
   "metadata": {},
   "outputs": [
    {
     "name": "stdout",
     "output_type": "stream",
     "text": [
      "Ticket Information:\n",
      "Ticket ID: 1\n",
      "Event Name: Concert\n",
      "Event Date: 2023-07-15\n",
      "Venue: Stadium\n",
      "Seat Number: A12\n",
      "Price: 50\n",
      "Reservation Status: Not Reserved\n",
      "Ticket 1 reserved successfully.\n",
      "Ticket Information:\n",
      "Ticket ID: 1\n",
      "Event Name: Concert\n",
      "Event Date: 2023-07-15\n",
      "Venue: Stadium\n",
      "Seat Number: A12\n",
      "Price: 50\n",
      "Reservation Status: Reserved\n",
      "Ticket 1 is already reserved.\n",
      "Reservation for ticket 1 canceled successfully.\n",
      "Ticket Information:\n",
      "Ticket ID: 1\n",
      "Event Name: Concert\n",
      "Event Date: 2023-07-15\n",
      "Venue: Stadium\n",
      "Seat Number: A12\n",
      "Price: 50\n",
      "Reservation Status: Not Reserved\n"
     ]
    }
   ],
   "source": [
    "class Ticket:\n",
    "    def __init__(self, ticket_id, event_name, event_date, venue, seat_number, price):\n",
    "        self.ticket_id = ticket_id\n",
    "        self.event_name = event_name\n",
    "        self.event_date = event_date\n",
    "        self.venue = venue\n",
    "        self.seat_number = seat_number\n",
    "        self.price = price\n",
    "        self.is_reserved = False\n",
    "\n",
    "    def reserve_ticket(self):\n",
    "        if not self.is_reserved:\n",
    "            self.is_reserved = True\n",
    "            print(f\"Ticket {self.ticket_id} reserved successfully.\")\n",
    "        else:\n",
    "            print(f\"Ticket {self.ticket_id} is already reserved.\")\n",
    "\n",
    "    def cancel_reservation(self):\n",
    "        if self.is_reserved:\n",
    "            self.is_reserved = False\n",
    "            print(f\"Reservation for ticket {self.ticket_id} canceled successfully.\")\n",
    "        else:\n",
    "            print(f\"Ticket {self.ticket_id} is not reserved.\")\n",
    "\n",
    "    def display_ticket_info(self):\n",
    "        print(\"Ticket Information:\")\n",
    "        print(f\"Ticket ID: {self.ticket_id}\")\n",
    "        print(f\"Event Name: {self.event_name}\")\n",
    "        print(f\"Event Date: {self.event_date}\")\n",
    "        print(f\"Venue: {self.venue}\")\n",
    "        print(f\"Seat Number: {self.seat_number}\")\n",
    "        print(f\"Price: {self.price}\")\n",
    "        reservation_status = \"Reserved\" if self.is_reserved else \"Not Reserved\"\n",
    "        print(f\"Reservation Status: {reservation_status}\")\n",
    "\n",
    "\n",
    "# Example usage:\n",
    "ticket1 = Ticket(1, \"Concert\", \"2023-07-15\", \"Stadium\", \"A12\", 50)\n",
    "ticket1.display_ticket_info()\n",
    "\n",
    "ticket1.reserve_ticket()\n",
    "ticket1.display_ticket_info()\n",
    "\n",
    "ticket1.reserve_ticket()\n",
    "ticket1.cancel_reservation()\n",
    "ticket1.display_ticket_info()"
   ]
  },
  {
   "cell_type": "markdown",
   "id": "615b9edb-e203-4c01-b20e-1e78d480111e",
   "metadata": {},
   "source": [
    "# 9. You are creating a shopping cart for an e-commerce website. Using OOP to model\n",
    "\n",
    "the \"ShoppingCart\" functionality the class should contain following attributes and\n",
    "methods :\n",
    "\n",
    "a. items: Represents the list of items in the shopping cart.\n",
    "\n",
    "The class also includes the following methods :\n",
    "\n",
    "a. add_item(self, item): Adds an item to the shopping cart by appending it to the\n",
    "list of items.\n",
    "\n",
    "b. remove_item(self, item): Removes an item from the shopping cart if it exists in\n",
    "the list.\n",
    "\n",
    "c. view_cart(self): Displays the items currently present in the shopping cart.\n",
    "\n",
    "d. clear_cart(self): Clears all items from the shopping cart by reassigning an\n",
    "empty list to the items attribute.    "
   ]
  },
  {
   "cell_type": "markdown",
   "id": "0449df36-24aa-4d01-8eb9-a6cd072753cc",
   "metadata": {},
   "source": [
    "Answer -"
   ]
  },
  {
   "cell_type": "markdown",
   "id": "bd1cd601-cec0-4c53-877b-2b5a73e4276d",
   "metadata": {},
   "source": [
    "Here's an example implementation of the \"ShoppingCart\" class based on the requirements provided :"
   ]
  },
  {
   "cell_type": "code",
   "execution_count": 8,
   "id": "78ecb8fa-5970-4a46-9488-9fb4868b8911",
   "metadata": {},
   "outputs": [
    {
     "name": "stdout",
     "output_type": "stream",
     "text": [
      "Shopping cart is empty.\n",
      "Item 'Shirt' added to the shopping cart.\n",
      "Item 'Jeans' added to the shopping cart.\n",
      "Items in the shopping cart:\n",
      "Shirt\n",
      "Jeans\n",
      "Item 'Shirt' removed from the shopping cart.\n",
      "Item 'Socks' not found in the shopping cart.\n",
      "Items in the shopping cart:\n",
      "Jeans\n",
      "Shopping cart cleared successfully.\n",
      "Shopping cart is empty.\n"
     ]
    }
   ],
   "source": [
    "class ShoppingCart:\n",
    "    def __init__(self):\n",
    "        self.items = []\n",
    "\n",
    "    def add_item(self, item):\n",
    "        self.items.append(item)\n",
    "        print(f\"Item '{item}' added to the shopping cart.\")\n",
    "\n",
    "    def remove_item(self, item):\n",
    "        if item in self.items:\n",
    "            self.items.remove(item)\n",
    "            print(f\"Item '{item}' removed from the shopping cart.\")\n",
    "        else:\n",
    "            print(f\"Item '{item}' not found in the shopping cart.\")\n",
    "\n",
    "    def view_cart(self):\n",
    "        if self.items:\n",
    "            print(\"Items in the shopping cart:\")\n",
    "            for item in self.items:\n",
    "                print(item)\n",
    "        else:\n",
    "            print(\"Shopping cart is empty.\")\n",
    "\n",
    "    def clear_cart(self):\n",
    "        self.items = []\n",
    "        print(\"Shopping cart cleared successfully.\")\n",
    "\n",
    "\n",
    "# Example usage:\n",
    "cart = ShoppingCart()\n",
    "\n",
    "cart.view_cart() \n",
    "\n",
    "cart.add_item(\"Shirt\")\n",
    "cart.add_item(\"Jeans\")\n",
    "cart.view_cart()\n",
    "\n",
    "cart.remove_item(\"Shirt\")\n",
    "cart.remove_item(\"Socks\")\n",
    "cart.view_cart()\n",
    "\n",
    "\n",
    "cart.clear_cart()\n",
    "cart.view_cart() "
   ]
  },
  {
   "cell_type": "markdown",
   "id": "04280b9e-6926-4ada-9c4c-b3b6b4a12362",
   "metadata": {},
   "source": [
    "# 10. Imagine a school management system. You have to design the \"Student\" class using OOP concepts.\n",
    "\n",
    "The “Student” class has the following attributes :\n",
    "\n",
    "a. name: Represents the name of the student.\n",
    "\n",
    "b. age: Represents the age of the student.\n",
    "\n",
    "c. grade: Represents the grade or class of the student.\n",
    "\n",
    "d. student_id: Represents the unique identifier for the student.\n",
    "\n",
    "e. attendance: Represents the attendance record of the student.\n",
    "\n",
    "The class should also include the following methods :\n",
    "\n",
    "a. update_attendance(self, date, status): Updates the attendance record of the\n",
    "student for a given date with the provided status (e.g., present or absent).\n",
    "\n",
    "b. get_attendance(self): Returns the attendance record of the student.\n",
    "\n",
    "c. get_average_attendance(self): Calculates and returns the average\n",
    "attendance percentage of the student based on their attendance record."
   ]
  },
  {
   "cell_type": "markdown",
   "id": "efe972b5-0f6a-45c2-a139-aa00b5945560",
   "metadata": {},
   "source": [
    "Answer - "
   ]
  },
  {
   "cell_type": "markdown",
   "id": "31904f04-cb9c-472b-bbf8-f82b8b5be4db",
   "metadata": {},
   "source": [
    "Here's an example implementation of the \"Student\" class based on the requirements provided :"
   ]
  },
  {
   "cell_type": "code",
   "execution_count": 10,
   "id": "620e38bf-c3b5-48bd-805c-52aedcab3441",
   "metadata": {},
   "outputs": [
    {
     "name": "stdout",
     "output_type": "stream",
     "text": [
      "{'2023-07-01': 'present', '2023-07-02': 'absent', '2023-07-03': 'present'}\n",
      "Average Attendance: 66.66666666666666%\n"
     ]
    }
   ],
   "source": [
    "class Student:\n",
    "    def __init__(self, name, age, grade, student_id):\n",
    "        self.name = name\n",
    "        self.age = age\n",
    "        self.grade = grade\n",
    "        self.student_id = student_id\n",
    "        self.attendance = {}\n",
    "\n",
    "    def update_attendance(self, date, status):\n",
    "        self.attendance[date] = status\n",
    "\n",
    "    def get_attendance(self):\n",
    "        return self.attendance\n",
    "\n",
    "    def get_average_attendance(self):\n",
    "        total_days = len(self.attendance)\n",
    "        present_days = sum(value == \"present\" for value in self.attendance.values())\n",
    "        average_attendance = (present_days / total_days) * 100 if total_days > 0 else 0\n",
    "        return average_attendance\n",
    "\n",
    "\n",
    "# Example usage:\n",
    "student = Student(\"Akshay Mul\", 15, \"10th Grade\", \"A001\")\n",
    "\n",
    "student.update_attendance(\"2023-07-01\", \"present\")\n",
    "student.update_attendance(\"2023-07-02\", \"absent\")\n",
    "student.update_attendance(\"2023-07-03\", \"present\")\n",
    "\n",
    "print(student.get_attendance())\n",
    "\n",
    "average_attendance = student.get_average_attendance()\n",
    "print(f\"Average Attendance: {average_attendance}%\")"
   ]
  },
  {
   "cell_type": "code",
   "execution_count": null,
   "id": "baa46dea-fadc-4301-b1ff-20b4aa7076a5",
   "metadata": {},
   "outputs": [],
   "source": []
  }
 ],
 "metadata": {
  "kernelspec": {
   "display_name": "Python 3 (ipykernel)",
   "language": "python",
   "name": "python3"
  },
  "language_info": {
   "codemirror_mode": {
    "name": "ipython",
    "version": 3
   },
   "file_extension": ".py",
   "mimetype": "text/x-python",
   "name": "python",
   "nbconvert_exporter": "python",
   "pygments_lexer": "ipython3",
   "version": "3.10.6"
  }
 },
 "nbformat": 4,
 "nbformat_minor": 5
}
