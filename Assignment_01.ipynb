{
 "cells": [
  {
   "cell_type": "markdown",
   "id": "e5061904-431b-4083-8378-c2bceb823b94",
   "metadata": {},
   "source": [
    "# ASSIGNMENT_01"
   ]
  },
  {
   "cell_type": "markdown",
   "id": "6ab2517d-4313-4705-915d-da827d3f2027",
   "metadata": {},
   "source": [
    "# 1. In the below elements which of them are values or an expression? eg:- values can be integer or string and expressions will be mathematical operators.\n",
    "a) *\n",
    "\n",
    "b) 'hello'\n",
    "\n",
    "c) -87.8\n",
    "\n",
    "d) -\n",
    "\n",
    "e) /\n",
    "\n",
    "f) +\n",
    "\n",
    "g) 6"
   ]
  },
  {
   "cell_type": "markdown",
   "id": "8be330ec-239a-4ed2-920e-c34d0dac5050",
   "metadata": {},
   "source": [
    "Answer –\n",
    "\n",
    "Values :\n",
    "\n",
    "In Python, a value is a specific piece of data that can be assigned to a variable or used directly in an expression. Values can have different types in Python, such as integers, floating-point numbers, strings, booleans, and more. Values are essential building blocks in Python programming, and they can be manipulated, combined, and used in various operations and expressions to perform computations and solve problems.\n",
    "\n",
    "Expression :\n",
    "\n",
    "In Python, an expression is a combination of values, variables, operators, and function calls that can be evaluated to produce a result. Expressions are used to perform computations and manipulate data in a program. Expressions can be used in assignments, conditional statements, loops, and other parts of a program to perform computations, make decisions, and control the flow of execution.\n",
    "\n",
    "Therefore,\n",
    "\n",
    "Values are:\n",
    "\n",
    "       'hello’ (string value)\n",
    "       \n",
    "       -87.8 (floating point value)\n",
    "       \n",
    "        6   ( integer value ) \n",
    "Expressions are:\n",
    "\n",
    "        *  ( multiplication operator )\n",
    "        \n",
    "        +  ( addition operator )\n",
    "        \n",
    "        -  ( subtraction operator )\n",
    "        \n",
    "        /  ( division operator )"
   ]
  },
  {
   "cell_type": "markdown",
   "id": "90fe8862-0da8-4610-8a7b-d0567aeefa34",
   "metadata": {},
   "source": [
    "# 2. What is the difference between string and variable?"
   ]
  },
  {
   "cell_type": "markdown",
   "id": "7cbcaeea-b5d6-40a9-b063-81fe997fe929",
   "metadata": {},
   "source": [
    "Answer -\n",
    "\n",
    "String :\n",
    "\n",
    "A string is a data type in Python that represents a sequence of characters. They can be enclosed in single quotes (' '), double quotes (\" \"), or triple quotes (\" \" \") in Python."
   ]
  },
  {
   "cell_type": "code",
   "execution_count": 1,
   "id": "5f4f9fcb-1d9b-431f-9a45-1a3e36b7d4b7",
   "metadata": {},
   "outputs": [
    {
     "name": "stdout",
     "output_type": "stream",
     "text": [
      "AKshay\n"
     ]
    }
   ],
   "source": [
    "name = \"AKshay\"\n",
    "print (name)"
   ]
  },
  {
   "cell_type": "code",
   "execution_count": 2,
   "id": "55b238ac-f0e5-4390-bbfe-4590edb151a9",
   "metadata": {},
   "outputs": [
    {
     "name": "stdout",
     "output_type": "stream",
     "text": [
      "Hello\n"
     ]
    }
   ],
   "source": [
    "message = \"Hello\"\n",
    "print (message)"
   ]
  },
  {
   "cell_type": "markdown",
   "id": "eeeedacc-3466-4555-b41f-6d8051c39251",
   "metadata": {},
   "source": [
    "Variable :\n",
    "\n",
    "A variable is a named container that can hold a value. It acts as a reference to a memory location where the value is stored. Variables allow you to assign values to them and use those values later in the program. Variables can store different types of values, including strings. Variables can be used to store and manipulate values of different types, perform calculations, make decisions, and control the flow of a program."
   ]
  },
  {
   "cell_type": "code",
   "execution_count": 4,
   "id": "15a260cf-1bf5-47c2-a33d-c52c6b793fc3",
   "metadata": {},
   "outputs": [
    {
     "name": "stdout",
     "output_type": "stream",
     "text": [
      "Akshay\n",
      "25\n"
     ]
    }
   ],
   "source": [
    "name = \"Akshay\"\n",
    "age = 25\n",
    "print ( name )\n",
    "print ( age )"
   ]
  },
  {
   "cell_type": "markdown",
   "id": "eebe38f8-7e68-4a83-8d62-e5aee331efcc",
   "metadata": {},
   "source": [
    "Therefore,\n",
    "\n",
    "In short, a string is a specific data type used to represent textual data, while a variable is a named container that can store values of different types, including strings. A variable can hold various kinds of data, whereas a string specifically represents a sequence of characters.\n",
    "\n",
    "Also, variables are symbols that you can use to store data in a program. You can think of them as an empty box that you fill with some data or value. Strings are data, so we can use them to fill up a variable."
   ]
  },
  {
   "cell_type": "markdown",
   "id": "e4618f9e-0fc0-477f-9fd9-705411ba00c5",
   "metadata": {},
   "source": [
    "# 3. Describe three different data types."
   ]
  },
  {
   "cell_type": "markdown",
   "id": "bf1db8f1-fed4-4ffc-ab74-b5edfa23be9e",
   "metadata": {},
   "source": [
    "Answer -\n",
    "\n",
    "Following are the various data types in Python - Integers Floats Strings List Tuples Dictionaries Sets\n",
    "\n",
    "LIST :\n",
    "\n",
    "A list in Python is an ordered collection (Also known as a sequence) of items.\n",
    "\n",
    "Lists are \"Mutable\" which means their elements can be changed (added, modified, or deleted) after they are created.\n",
    "\n",
    "Creation - A list is created by placing items (elements) inside brackets [ ], separated by commas."
   ]
  },
  {
   "cell_type": "code",
   "execution_count": 5,
   "id": "5d08d77b-ef88-4505-95d5-ca5a27df7eac",
   "metadata": {},
   "outputs": [
    {
     "name": "stdout",
     "output_type": "stream",
     "text": [
      "['Apple', 'Bananas', 'Grapes']\n"
     ]
    }
   ],
   "source": [
    "fruits = [ \"Apple\", \"Bananas\", \"Grapes\" ]\n",
    "\n",
    "print ( fruits )"
   ]
  },
  {
   "cell_type": "code",
   "execution_count": 6,
   "id": "c4e69550-983d-48a0-bf49-811be7a7e5a8",
   "metadata": {},
   "outputs": [],
   "source": [
    "# Heterogeneous Elements - A list contain elements of different types: Integers, Floats, Strings and even other List or Tuples"
   ]
  },
  {
   "cell_type": "code",
   "execution_count": 7,
   "id": "18163a47-1dcd-4f3e-ab0e-ddb45986b2c0",
   "metadata": {},
   "outputs": [
    {
     "name": "stdout",
     "output_type": "stream",
     "text": [
      "[1, 'Alice', ['Apple', 'Bananas', 'Grapes']]\n"
     ]
    }
   ],
   "source": [
    "hetero_myList = [ 1, \"Alice\", [ \"Apple\", \"Bananas\", \"Grapes\" ] ] \n",
    "\n",
    "print (hetero_myList)"
   ]
  },
  {
   "cell_type": "markdown",
   "id": "4c5f5bc2-c99b-419a-a3ac-0b61ca01b86d",
   "metadata": {},
   "source": [
    "TUPLES :\n",
    "\n",
    "A tuples in Python is like a list.\n",
    "\n",
    "Tuples are \"Immutable\" which means their elements cannot be changed (added, modified, or deleted) after they are created.\n",
    "\n",
    "Creation - A tuples is created by placing items (elements) inside parentheses ( ), separated by commas."
   ]
  },
  {
   "cell_type": "code",
   "execution_count": 8,
   "id": "465201c3-3d98-46a9-8da0-0f072cf67706",
   "metadata": {},
   "outputs": [
    {
     "name": "stdout",
     "output_type": "stream",
     "text": [
      "(1, 2, 3, 4, 5)\n"
     ]
    }
   ],
   "source": [
    "my_tuples = (1, 2, 3, 4, 5)\n",
    "\n",
    "print (my_tuples)"
   ]
  },
  {
   "cell_type": "code",
   "execution_count": 9,
   "id": "3fcda455-32ee-4478-beb8-6a28ae1438d6",
   "metadata": {},
   "outputs": [],
   "source": [
    "# Heterogeneous Elements - A list contain elements of different types: Integers, Floats, Strings and even other List or Tuples"
   ]
  },
  {
   "cell_type": "code",
   "execution_count": 10,
   "id": "f7adfa99-61a6-4a2a-b297-ff759464d0df",
   "metadata": {},
   "outputs": [
    {
     "name": "stdout",
     "output_type": "stream",
     "text": [
      "(1, 'Alice', ['Apple', 'Bananas', 'Grapes'])\n"
     ]
    }
   ],
   "source": [
    "hetero_myList = ( 1, \"Alice\", [ \"Apple\", \"Bananas\", \"Grapes\" ] )\n",
    "\n",
    "print (hetero_myList)"
   ]
  },
  {
   "cell_type": "markdown",
   "id": "7108d2f8-12d2-432e-96aa-28f9f97fa182",
   "metadata": {},
   "source": [
    "DICTIONARIES :\n",
    "\n",
    "A dictionary in Python is an unordered collection of items.\n",
    "\n",
    "Dictionaries are \"Mutable\" which means their elements can be changed (added, modified, or deleted) after they are created.\n",
    "\n",
    "A dictionary is created by placing items (key-value pairs) inside curly braces { }, separated by commas.\n",
    "And each item is a pair made up of key and value, separated by a colon \":\""
   ]
  },
  {
   "cell_type": "code",
   "execution_count": 11,
   "id": "b28c463c-4d1c-410b-a4a7-364cf47983fe",
   "metadata": {},
   "outputs": [
    {
     "name": "stdout",
     "output_type": "stream",
     "text": [
      "{'Rollno': 893, 'name': 'Tom', 'percentage': 93}\n"
     ]
    }
   ],
   "source": [
    "person = {\"Rollno\" : 893, \"name\" : \"Tom\", \"percentage\" : 93 }\n",
    "\n",
    "print (person)"
   ]
  },
  {
   "cell_type": "markdown",
   "id": "c7cc7350-a54c-4066-8d29-0269569e79c3",
   "metadata": {},
   "source": [
    "# 4. What is an expression made up of? What do all expressions do?"
   ]
  },
  {
   "cell_type": "markdown",
   "id": "bbcc23a5-9ef2-436b-b00c-b914f4518db6",
   "metadata": {},
   "source": [
    "Answer –\n",
    "\n",
    "An expression in Python is made up of one or more operands and operators, combined in a meaningful way to produce a value.\n",
    "\n",
    "Also, an expression is a construct made up of variables, operators, and method invocations, which are constructed according to the syntax of the language, that evaluates a single value.\n",
    "\n",
    "Operands: These are the entities on which operations are performed. They can be literals (e.g., numbers or strings) or variables (e.g., x, y).\n",
    "\n",
    "Operators: These are symbols or keywords that perform specific operations on the operands. Python supports various types of operators, including arithmetic operators (+, -, *, /, etc.), comparison operators (==, !=, >, <, etc.), logical operators (and, or, not), assignment operators (=, +=, -=, etc.), and more.\n",
    "\n",
    "The primary purpose of expressions in Python is to compute or produce a value. \n",
    "When an expression is evaluated, the Python interpreter performs the necessary operations and returns a resulting value. \n",
    "\n",
    "Expressions play a crucial role in programming as they allow us to manipulate data, make decisions based on conditions, and perform various computations.\n",
    " \n",
    "So, expressions are the building blocks of statements, which form the logic and functionality of a program.\n"
   ]
  },
  {
   "cell_type": "markdown",
   "id": "d3b1e676-a102-4e8c-8f73-b46c91e3e9fc",
   "metadata": {},
   "source": [
    "# 5. This assignment statements, like spam = 10. What is the difference between an expression and a statement?"
   ]
  },
  {
   "cell_type": "markdown",
   "id": "a695bc6b-7099-4784-9f26-726bcae5bb71",
   "metadata": {},
   "source": [
    "Answer –\n",
    "\n",
    "Expression -\n",
    "\n",
    "An expression is a combination of operands, operators, and other constructs that evaluates a value.\n",
    "It can be as simple as a single variable or a complex combination of multiple operands and operators.\n",
    "Expressions can produce a value of a certain data type (e.g., a number, string, or boolean) when evaluated.\n"
   ]
  },
  {
   "cell_type": "code",
   "execution_count": 18,
   "id": "3f297b6e-9dfb-41a5-a9a5-0c38fe2a6789",
   "metadata": {},
   "outputs": [
    {
     "name": "stdout",
     "output_type": "stream",
     "text": [
      "8\n",
      "24\n"
     ]
    }
   ],
   "source": [
    "# Examples of expressions:\n",
    "\n",
    "3 + 5\n",
    "print (3+5)\n",
    "\n",
    "a = 6\n",
    "b = 4\n",
    "print ( a*b )"
   ]
  },
  {
   "cell_type": "markdown",
   "id": "5206cd5a-a282-42ae-b775-5e98cbe2e51a",
   "metadata": {},
   "source": [
    "Statement:\n",
    "\n",
    "A statement is a complete line or block of code that performs an action or task.\n",
    "It typically carries out some operation, control flow, or defines a structure.\n",
    "\n",
    "Statements do not necessarily produce a value when executed; their primary purpose is to modify the program's state or control the program's flow."
   ]
  },
  {
   "cell_type": "code",
   "execution_count": 19,
   "id": "91d6b868-4ca1-4bff-aafb-c39eb5f44aa7",
   "metadata": {},
   "outputs": [
    {
     "data": {
      "text/plain": [
       "'\\n\\nAssignment statements (spam = 10)\\n\\nif statements ( if x > 5 : ) \\n\\nloops ( for i in rannge (5) : )\\n\\n\\n'"
      ]
     },
     "execution_count": 19,
     "metadata": {},
     "output_type": "execute_result"
    }
   ],
   "source": [
    "# Examples of statements:\n",
    "\n",
    "\"\"\"\n",
    "\n",
    "Assignment statements (spam = 10)\n",
    "\n",
    "if statements ( if x > 5 : ) \n",
    "\n",
    "loops ( for i in rannge (5) : )\n",
    "\n",
    "\n",
    "\"\"\""
   ]
  },
  {
   "cell_type": "markdown",
   "id": "a5a2bac8-abc2-444b-a0ef-2591d97d84a3",
   "metadata": {},
   "source": [
    "In short, an expression produces a value when evaluated, while a statement carries out an action or defines a structure in the program.\n",
    "\n",
    "Statements are used to control the flow of execution, modify variables, define functions, and interact with the program's environment, while expressions are used to compute values based on the given operands and operators.\n"
   ]
  },
  {
   "cell_type": "markdown",
   "id": "174e4dc3-6448-4a9c-a093-c1ad7a301713",
   "metadata": {},
   "source": [
    "# 6. After running the following code, what does the variable bacon contain?\n",
    "\n",
    "bacon = 22\n",
    "\n",
    "bacon + 1"
   ]
  },
  {
   "cell_type": "markdown",
   "id": "d9dddb6d-0661-4b11-86c9-4bda1b859a24",
   "metadata": {},
   "source": [
    "Answer -\n",
    "\n",
    "After running the given code, the variable bacon would still contain its original value, which is 22. "
   ]
  },
  {
   "cell_type": "code",
   "execution_count": 20,
   "id": "4d9a4fc1-5fef-43cc-9b50-63eeef05d2ce",
   "metadata": {},
   "outputs": [
    {
     "name": "stdout",
     "output_type": "stream",
     "text": [
      "22\n"
     ]
    }
   ],
   "source": [
    "bacon = 22\n",
    "print (bacon)"
   ]
  },
  {
   "cell_type": "code",
   "execution_count": 21,
   "id": "5e2dbb99-429e-43c9-abe9-257d2d3bdb6b",
   "metadata": {},
   "outputs": [
    {
     "name": "stdout",
     "output_type": "stream",
     "text": [
      "23\n"
     ]
    }
   ],
   "source": [
    "bacon = 22\n",
    "print (bacon + 1)"
   ]
  },
  {
   "cell_type": "markdown",
   "id": "dcb134e8-4b10-4e0b-8dda-1182da98b04d",
   "metadata": {},
   "source": [
    "Let's break down the code:\n",
    "\n",
    "bacon = 22: This line assigns the value 22 to the variable bacon. So, at this point, bacon is equal to 22.\n",
    "\n",
    "bacon + 1: This line is an expression that adds 1 to the value of bacon, but it doesn't modify the value of bacon itself.\n",
    " \n",
    "It evaluates the result of the addition, which is 23. However, the original value of bacon remains unchanged.\n",
    "\n",
    "Therefore, after executing the code, the variable bacon still contains the value 22.\n"
   ]
  },
  {
   "cell_type": "markdown",
   "id": "f76db019-52ee-4a09-bad3-d897181a4ba2",
   "metadata": {},
   "source": [
    "# 7. What should the values of the following two terms be?\n",
    "\n",
    "'spam' + 'spamspam'\n",
    "\n",
    "'spam' * 3"
   ]
  },
  {
   "cell_type": "markdown",
   "id": "fb7d0858-dc5b-48d9-886d-a8a134a9751f",
   "metadata": {},
   "source": [
    "Answer -\n",
    "\n",
    "The values of the following two terms would be:\n",
    "\n",
    "1.\t'spam' + 'spamspam'\n",
    "      Result: 'spamspamspam'\n",
    "\n",
    "In this expression, the + operator is used for string concatenation. It combines the two string operands, 'spam' and 'spamspam', resulting in the concatenated string 'spamspamspam'.\n"
   ]
  },
  {
   "cell_type": "code",
   "execution_count": 22,
   "id": "8835fb96-ac2d-46c9-89ba-f0e445cbeac1",
   "metadata": {},
   "outputs": [
    {
     "data": {
      "text/plain": [
       "'spamspamspam'"
      ]
     },
     "execution_count": 22,
     "metadata": {},
     "output_type": "execute_result"
    }
   ],
   "source": [
    "'spam' + 'spamspam'"
   ]
  },
  {
   "cell_type": "markdown",
   "id": "86e7717f-2587-4907-acce-ca5d2df1716d",
   "metadata": {},
   "source": [
    "  2.\t'spam' * 3\n",
    "      Result: 'spamspamspam'\n",
    "\n",
    "In this expression, the * operator is used for string repetition. It repeats the string operand 'spam' three times, resulting in the string 'spamspamspam'.\n",
    "\n"
   ]
  },
  {
   "cell_type": "code",
   "execution_count": 23,
   "id": "e0124867-ddce-496e-b4e0-718f59c35776",
   "metadata": {},
   "outputs": [
    {
     "data": {
      "text/plain": [
       "'spamspamspam'"
      ]
     },
     "execution_count": 23,
     "metadata": {},
     "output_type": "execute_result"
    }
   ],
   "source": [
    "'spam' * 3"
   ]
  },
  {
   "cell_type": "markdown",
   "id": "231c7ff2-b8d7-4525-9d69-cf0e3a6f7cac",
   "metadata": {},
   "source": [
    "Therefore, in both cases, the resulting value is 'spamspamspam'"
   ]
  },
  {
   "cell_type": "code",
   "execution_count": 24,
   "id": "51939594-1c2d-457c-ac39-1681c77349b8",
   "metadata": {},
   "outputs": [
    {
     "data": {
      "text/plain": [
       "'spamspamspam'"
      ]
     },
     "execution_count": 24,
     "metadata": {},
     "output_type": "execute_result"
    }
   ],
   "source": [
    "'spam' + 'spamspam'\n",
    "'spam' * 3"
   ]
  },
  {
   "cell_type": "markdown",
   "id": "8aec6636-7b79-44cc-b01b-36e0187aadff",
   "metadata": {},
   "source": [
    "# 8. Why are eggs a valid variable name while 100 is invalid?"
   ]
  },
  {
   "cell_type": "markdown",
   "id": "0a0283a7-9d86-4b21-84f1-5c9d98dae538",
   "metadata": {},
   "source": [
    "Answer –\n",
    "\n",
    "In Python, variable names must adhere to certain rules and conventions. The validity of a variable name depends on whether it follows these rules. \n",
    "\n",
    "Valid Variable Names:\n",
    "\n",
    "Can start with a letter (a-z, A-Z) or an underscore (_).\n",
    "Can contain letters, digits (0-9), and underscores.\n",
    "Can't be a reserved word (e.g., keywords like if, for, while, etc.) or a built-in function name.\n"
   ]
  },
  {
   "cell_type": "code",
   "execution_count": 25,
   "id": "0dab4772-a6f6-4079-ba3e-019bc92910c8",
   "metadata": {},
   "outputs": [
    {
     "name": "stdout",
     "output_type": "stream",
     "text": [
      "100\n"
     ]
    }
   ],
   "source": [
    "eggs = 100\n",
    "print (eggs)"
   ]
  },
  {
   "cell_type": "code",
   "execution_count": 26,
   "id": "c9d866d1-f359-43ec-82ea-86ffc0539438",
   "metadata": {},
   "outputs": [
    {
     "ename": "SyntaxError",
     "evalue": "cannot assign to literal here. Maybe you meant '==' instead of '='? (2714276545.py, line 1)",
     "output_type": "error",
     "traceback": [
      "\u001b[0;36m  Cell \u001b[0;32mIn [26], line 1\u001b[0;36m\u001b[0m\n\u001b[0;31m    100 = \"eggs\"\u001b[0m\n\u001b[0m    ^\u001b[0m\n\u001b[0;31mSyntaxError\u001b[0m\u001b[0;31m:\u001b[0m cannot assign to literal here. Maybe you meant '==' instead of '='?\n"
     ]
    }
   ],
   "source": [
    "100 = \"eggs\""
   ]
  },
  {
   "cell_type": "markdown",
   "id": "ceeda61f-db73-4cd9-8413-36e9096f5f49",
   "metadata": {},
   "source": [
    "Based on these rules, \"eggs\" is a valid variable name because it starts with a letter and consists only of letters (both lowercase and uppercase). The use of underscores is optional but commonly used to separate words for improved readability (e.g., my_variable).\n",
    "\n",
    "Invalid Variable Names:\n",
    "\n",
    "Cannot start with a digit (0-9).\n",
    "Cannot contain spaces or special characters (except underscore).\n",
    "Cannot be a reserved word or a built-in function name.\n",
    "\n",
    "Therefore, \"100\" is an invalid variable name because it starts with a digit. "
   ]
  },
  {
   "cell_type": "markdown",
   "id": "3323da9a-c6f0-412c-a3bc-c14291546c74",
   "metadata": {},
   "source": [
    "# 9. What three functions can be used to get the integer, floating-point number, or string version of a value?"
   ]
  },
  {
   "cell_type": "markdown",
   "id": "b3b19890-0d70-4918-bc1b-192c2c47ab08",
   "metadata": {},
   "source": [
    "Answer -\n",
    "\n",
    "In Python, there are three commonly used functions to convert a value to a specific data type:\n",
    "\n",
    "1. \tint():\n",
    "\n",
    "The int() function is used to convert a value to an integer.\n",
    "It takes a parameter (value) and returns the integer representation of that value.\n",
    "If the value is a floating-point number, the int() function truncates the decimal part.\n"
   ]
  },
  {
   "cell_type": "code",
   "execution_count": 30,
   "id": "917c614e-3967-4168-9785-dce0dd890cbd",
   "metadata": {},
   "outputs": [
    {
     "name": "stdout",
     "output_type": "stream",
     "text": [
      "5.8\n"
     ]
    }
   ],
   "source": [
    "# Example: \n",
    "\n",
    "a = 5.80\n",
    "print (a)"
   ]
  },
  {
   "cell_type": "code",
   "execution_count": 28,
   "id": "b32bad24-1f8b-4cb2-9fbf-35a55e4ee60a",
   "metadata": {},
   "outputs": [
    {
     "name": "stdout",
     "output_type": "stream",
     "text": [
      "5\n"
     ]
    }
   ],
   "source": [
    "a = 5.8\n",
    "print (int(a))"
   ]
  },
  {
   "cell_type": "markdown",
   "id": "f36788a6-cfac-4939-b625-18f08ac75fd3",
   "metadata": {},
   "source": [
    "  2.\tfloat():\n",
    "  \n",
    "The float()  function is used to convert a value to a floating-point number.\n",
    "If the value is an integer, the float() function adds a decimal point and zero for the fractional part."
   ]
  },
  {
   "cell_type": "code",
   "execution_count": 31,
   "id": "82371694-df69-4338-8106-f3e9723fa8cd",
   "metadata": {},
   "outputs": [
    {
     "name": "stdout",
     "output_type": "stream",
     "text": [
      "10\n"
     ]
    }
   ],
   "source": [
    "# Example:\n",
    "\n",
    "a = 10 \n",
    "print (a)"
   ]
  },
  {
   "cell_type": "code",
   "execution_count": 32,
   "id": "7733e7d3-20ca-4297-b389-4f2773a72b1f",
   "metadata": {},
   "outputs": [
    {
     "name": "stdout",
     "output_type": "stream",
     "text": [
      "10.0\n"
     ]
    }
   ],
   "source": [
    "a = 10\n",
    "print (float(a))"
   ]
  },
  {
   "cell_type": "markdown",
   "id": "1385eb01-28fd-4468-b129-43a010da6c39",
   "metadata": {},
   "source": [
    "  3.\tstr():\n",
    "  \n",
    "The str() function is used to convert a value to a string.\n",
    "\n",
    "The str() function can convert various data types, including integers, floating-point numbers, and other objects, into a string."
   ]
  },
  {
   "cell_type": "code",
   "execution_count": 34,
   "id": "df6100ac-520b-4709-b15c-f2bcd0bc9160",
   "metadata": {},
   "outputs": [
    {
     "name": "stdout",
     "output_type": "stream",
     "text": [
      "20\n"
     ]
    }
   ],
   "source": [
    "a = 20\n",
    "print (a)"
   ]
  },
  {
   "cell_type": "code",
   "execution_count": 35,
   "id": "005dca85-420c-4798-be14-0615ef7bc859",
   "metadata": {},
   "outputs": [
    {
     "name": "stdout",
     "output_type": "stream",
     "text": [
      "20\n"
     ]
    }
   ],
   "source": [
    "a = 20\n",
    "print (str(\"20\"))"
   ]
  },
  {
   "cell_type": "markdown",
   "id": "4c66f80b-a8f1-4dac-b3f8-5faa039f0ab8",
   "metadata": {},
   "source": [
    "These functions are particularly useful when you need to convert values from one data type to another, such as when performing calculations, formatting output, or working with user input."
   ]
  },
  {
   "cell_type": "markdown",
   "id": "c5a422a9-7f74-487d-bd1d-6d2f24ec3b77",
   "metadata": {},
   "source": [
    "# 10. Why does this expression cause an error? How can you fix it?\n",
    "\n",
    "'I have eaten ' + 99 + ' burritos.'"
   ]
  },
  {
   "cell_type": "markdown",
   "id": "f5cf0426-8b91-4346-9ed0-8ffb104c51fe",
   "metadata": {},
   "source": [
    "Answer -\n",
    "\n",
    "The given expression 'I have eaten ' + 99 + ' burritos.' causes an error because it attempts to concatenate a string ('I have eaten ') with an integer (99) using the + operator.\n",
    "\n",
    "To fix the error and make the expression valid, you need to convert the integer 99 into a string before concatenating it with the other strings. You can achieve this by using the str() function to convert the integer to a string.\n",
    "\n",
    "Here's the corrected version of the expression:"
   ]
  },
  {
   "cell_type": "code",
   "execution_count": 37,
   "id": "5b150196-dc63-4abc-8a0c-aab07c8a1a1f",
   "metadata": {},
   "outputs": [
    {
     "ename": "SyntaxError",
     "evalue": "unterminated string literal (detected at line 2) (2348626418.py, line 2)",
     "output_type": "error",
     "traceback": [
      "\u001b[0;36m  Cell \u001b[0;32mIn [37], line 2\u001b[0;36m\u001b[0m\n\u001b[0;31m    print ('I have eaten ' + 99 + ' burritos.)\u001b[0m\n\u001b[0m                                  ^\u001b[0m\n\u001b[0;31mSyntaxError\u001b[0m\u001b[0;31m:\u001b[0m unterminated string literal (detected at line 2)\n"
     ]
    }
   ],
   "source": [
    "'I have eaten ' + 99 + ' burritos.'\n",
    "print ('I have eaten ' + 99 + ' burritos.)"
   ]
  },
  {
   "cell_type": "code",
   "execution_count": 38,
   "id": "3fc97de3-b31d-4404-a5d9-7db7f026790c",
   "metadata": {},
   "outputs": [
    {
     "name": "stdout",
     "output_type": "stream",
     "text": [
      "I have eaten 99 burritos.\n"
     ]
    }
   ],
   "source": [
    "print ( 'I have eaten ' + '99' + ' burritos.')"
   ]
  },
  {
   "cell_type": "code",
   "execution_count": null,
   "id": "6f2a0d2f-55c1-446a-b4a9-4a1fc686f98e",
   "metadata": {},
   "outputs": [],
   "source": []
  }
 ],
 "metadata": {
  "kernelspec": {
   "display_name": "Python 3 (ipykernel)",
   "language": "python",
   "name": "python3"
  },
  "language_info": {
   "codemirror_mode": {
    "name": "ipython",
    "version": 3
   },
   "file_extension": ".py",
   "mimetype": "text/x-python",
   "name": "python",
   "nbconvert_exporter": "python",
   "pygments_lexer": "ipython3",
   "version": "3.10.6"
  }
 },
 "nbformat": 4,
 "nbformat_minor": 5
}
