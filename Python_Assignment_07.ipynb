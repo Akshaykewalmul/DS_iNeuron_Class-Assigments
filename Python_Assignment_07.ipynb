{
 "cells": [
  {
   "cell_type": "markdown",
   "id": "da83a046-82c0-43f5-97d0-ad81166beb25",
   "metadata": {},
   "source": [
    "# ASSIGNMENT_07"
   ]
  },
  {
   "cell_type": "markdown",
   "id": "bda32f6d-4cce-481d-8357-4d0e4396363f",
   "metadata": {},
   "source": [
    "# Python Basic - 2"
   ]
  },
  {
   "cell_type": "markdown",
   "id": "bff21dc2-e6fd-4d15-88b0-f6349fac219d",
   "metadata": {},
   "source": [
    "# Q.1. Create two int type variables, apply addition, subtraction, division and multiplications and store the results in variables. Then print the data in the following format by calling the variables:\n",
    "\n",
    "First variable is __ & second variable is __.\n",
    "\n",
    "Addition: __ + __ = __\n",
    "\n",
    "Subtraction: __ - __ = __\n",
    "\n",
    "Multiplication: __ * __ = __\n",
    "\n",
    "Division: __ / __ = __"
   ]
  },
  {
   "cell_type": "markdown",
   "id": "8e8c1974-b33d-4536-b03c-a05600129e49",
   "metadata": {},
   "source": [
    "Answer -"
   ]
  },
  {
   "cell_type": "code",
   "execution_count": 8,
   "id": "8a5a7907-3329-4cec-8605-357f8ffed24a",
   "metadata": {},
   "outputs": [
    {
     "name": "stdout",
     "output_type": "stream",
     "text": [
      "First variable is 20 & second variable is 10.\n",
      "Addition: 20 + 10 = 30\n",
      "Subtraction: 20 - 10 = 10\n",
      "Multiplication: 20 * 10 = 200\n",
      "Division: 20 / 10 = 2.0\n"
     ]
    }
   ],
   "source": [
    "# Let's consider two nummbers are 20 and 10 \n",
    "\n",
    "number_1 = 20\n",
    "number_2 = 10 \n",
    "\n",
    "print(f\"First variable is {number_1} & second variable is {number_2}.\")\n",
    "print(f\"Addition: {number_1} + {number_2} = {addition}\")\n",
    "print(f\"Subtraction: {number_1} - {number_2} = {subtraction}\")\n",
    "print(f\"Multiplication: {number_1} * {number_2} = {multiplication}\")\n",
    "print(f\"Division: {number_1} / {number_2} = {division}\")"
   ]
  },
  {
   "cell_type": "markdown",
   "id": "cda125c7-48b3-436c-9ed8-e0db28266891",
   "metadata": {},
   "source": [
    "# Q.2. What is the difference between the following operators:\n",
    "\n",
    "(i) ‘/’ & ‘//’\n",
    "\n",
    "(ii) ‘**’ & ‘^’"
   ]
  },
  {
   "cell_type": "markdown",
   "id": "f8ec2987-edab-4281-b518-9ba8a365cd51",
   "metadata": {},
   "source": [
    "Answer -"
   ]
  },
  {
   "cell_type": "markdown",
   "id": "a378861d-cf62-43c2-b324-0eed97c550ae",
   "metadata": {},
   "source": [
    "(i) ‘/’ & ‘//’\n",
    "\n",
    "a) Division operator ( / ) :\n",
    "\n",
    "It represents division in Python and performs floating-point division. \n",
    "\n",
    "Tt always returns a float value."
   ]
  },
  {
   "cell_type": "code",
   "execution_count": 10,
   "id": "ade1a820-bca5-4c3b-a724-0c8aaf584ec3",
   "metadata": {},
   "outputs": [
    {
     "name": "stdout",
     "output_type": "stream",
     "text": [
      "6.5\n"
     ]
    }
   ],
   "source": [
    "# Example -\n",
    "\n",
    "a = 13\n",
    "\n",
    "print ( a/2 ) "
   ]
  },
  {
   "cell_type": "markdown",
   "id": "f8b58997-1832-4d2e-a29e-9a59822f4210",
   "metadata": {},
   "source": [
    "b) Floor division operator ( // ) :\n",
    "\n",
    "It returns the largest integer that is less than or equal to the division result, It won't take after decimal value.\n",
    "\n",
    "The result is always an whole integer value."
   ]
  },
  {
   "cell_type": "code",
   "execution_count": 11,
   "id": "0a1c532f-82c6-42bf-8565-dd961160d49f",
   "metadata": {},
   "outputs": [
    {
     "name": "stdout",
     "output_type": "stream",
     "text": [
      "6\n"
     ]
    }
   ],
   "source": [
    "# Example -\n",
    "\n",
    "a = 13\n",
    "\n",
    "print ( a//2 ) "
   ]
  },
  {
   "cell_type": "markdown",
   "id": "e9cc38c5-87d2-4f80-982f-673f2d90fe44",
   "metadata": {},
   "source": [
    "(ii) ‘**’ & ‘^’\n",
    "\n",
    "a) Exponentiation operator ( ** ) :\n",
    "\n",
    "It represents the exponentiation operation in Python.\n",
    "\n",
    "It raises the left operand to the power of the right operand.\n",
    "\n",
    "It's a concept of power of like here 2^3 = 2*2*2 = 8"
   ]
  },
  {
   "cell_type": "code",
   "execution_count": 13,
   "id": "f37cb781-738c-4af1-b2a8-1f5b2945b271",
   "metadata": {},
   "outputs": [
    {
     "name": "stdout",
     "output_type": "stream",
     "text": [
      "8\n"
     ]
    }
   ],
   "source": [
    "# Example - \n",
    "\n",
    "a = 2\n",
    "b = 3\n",
    "\n",
    "print ( a**b )"
   ]
  },
  {
   "cell_type": "markdown",
   "id": "8523854f-8398-41be-9e66-6c697c35f4e2",
   "metadata": {},
   "source": [
    "b) Bitwise XOR ( ^ ) :\n",
    "\n",
    "it is the bitwise XOR operator, which performs the bitwise XOR operation between the binary representations of two operands. \n",
    "\n",
    "It returns a new integer where each bit is set if the corresponding bits in the operands are different."
   ]
  },
  {
   "cell_type": "code",
   "execution_count": 14,
   "id": "a3bd1340-65e9-466b-962c-56ef8f07026d",
   "metadata": {},
   "outputs": [
    {
     "name": "stdout",
     "output_type": "stream",
     "text": [
      "6\n"
     ]
    }
   ],
   "source": [
    "# Example -\n",
    "\n",
    "a = 5 \n",
    "b = 3 \n",
    "\n",
    "bin (a)\n",
    "\n",
    "bin (b)\n",
    "\n",
    "print ( a ^ b )"
   ]
  },
  {
   "cell_type": "code",
   "execution_count": 15,
   "id": "ae766889-4749-46eb-a152-b6ca29dda86f",
   "metadata": {},
   "outputs": [
    {
     "data": {
      "text/plain": [
       "'0b101'"
      ]
     },
     "execution_count": 15,
     "metadata": {},
     "output_type": "execute_result"
    }
   ],
   "source": [
    "bin ( a ) "
   ]
  },
  {
   "cell_type": "code",
   "execution_count": 16,
   "id": "7b13a403-8bb9-4e6b-ad63-6eca084b40ae",
   "metadata": {},
   "outputs": [
    {
     "data": {
      "text/plain": [
       "'0b11'"
      ]
     },
     "execution_count": 16,
     "metadata": {},
     "output_type": "execute_result"
    }
   ],
   "source": [
    "bin ( b ) "
   ]
  },
  {
   "cell_type": "code",
   "execution_count": 17,
   "id": "39d85326-359f-47ae-8c9f-ed5f21534c33",
   "metadata": {},
   "outputs": [
    {
     "data": {
      "text/plain": [
       "'0b110'"
      ]
     },
     "execution_count": 17,
     "metadata": {},
     "output_type": "execute_result"
    }
   ],
   "source": [
    "bin ( 6 ) "
   ]
  },
  {
   "cell_type": "markdown",
   "id": "035cbd8f-5988-414f-8847-6ced7e2e5227",
   "metadata": {},
   "source": [
    "# Q.3. List the logical operators."
   ]
  },
  {
   "cell_type": "markdown",
   "id": "86825534-f68a-4633-bd89-4dd6c5e1691a",
   "metadata": {},
   "source": [
    "Answer -"
   ]
  },
  {
   "cell_type": "code",
   "execution_count": 19,
   "id": "8792e19c-1f2e-49b4-b919-f0808dde5811",
   "metadata": {},
   "outputs": [
    {
     "name": "stdout",
     "output_type": "stream",
     "text": [
      "True\n",
      "True\n",
      "False\n"
     ]
    }
   ],
   "source": [
    "# Logical Operators - \n",
    "\n",
    "# Example :- We have to apply for the the job and two conditions are there : (1) More than 60% and (2) You should be form CS\n",
    "\n",
    "#-------------------------------------\"and\"----------------------------------------\n",
    "# Akshay - He has 75% and he is from Arts = He will be Out\n",
    "# Ankit - He has 61% and  he is from CS = He will go and give the the interview\n",
    "\n",
    "#-------------------------------------\"or\"------------------------------------------\n",
    "# Akshay - He has 75% and he is from Arts = He will go and give the the interview\n",
    "# Ankit - He has 61% and  he is from CS = He will go and give the the interview\n",
    "\n",
    "#-------------------------------------\"not\"-----------------------------------------\n",
    "# Opposite to what you have \n",
    "\n",
    "a = True \n",
    "b = True \n",
    "\n",
    "print ( a and b )\n",
    "\n",
    "print ( a or b ) \n",
    "\n",
    "print ( not b )"
   ]
  },
  {
   "cell_type": "code",
   "execution_count": 20,
   "id": "a8f664de-9480-4397-9d38-c166df92453e",
   "metadata": {},
   "outputs": [
    {
     "name": "stdout",
     "output_type": "stream",
     "text": [
      "False\n",
      "True\n",
      "True\n"
     ]
    }
   ],
   "source": [
    "a = True \n",
    "b = False\n",
    "\n",
    "print ( a and b )\n",
    "\n",
    "print ( a or b ) \n",
    "\n",
    "print ( not b )"
   ]
  },
  {
   "cell_type": "code",
   "execution_count": 21,
   "id": "fe5c5d96-de22-42cf-90e6-0b555d8b8d2d",
   "metadata": {},
   "outputs": [
    {
     "name": "stdout",
     "output_type": "stream",
     "text": [
      "False\n",
      "True\n",
      "False\n"
     ]
    }
   ],
   "source": [
    "a = False \n",
    "b = True \n",
    "\n",
    "print ( a and b )\n",
    "\n",
    "print ( a or b ) \n",
    "\n",
    "print ( not b )"
   ]
  },
  {
   "cell_type": "code",
   "execution_count": 22,
   "id": "dd879247-df54-4c50-8e06-9560d636c5fb",
   "metadata": {},
   "outputs": [
    {
     "name": "stdout",
     "output_type": "stream",
     "text": [
      "False\n",
      "False\n",
      "True\n"
     ]
    }
   ],
   "source": [
    "a = False\n",
    "b = False\n",
    "\n",
    "print ( a and b )\n",
    "\n",
    "print ( a or b ) \n",
    "\n",
    "print ( not b )"
   ]
  },
  {
   "cell_type": "markdown",
   "id": "9fae2a11-f80c-418d-a12f-28025a740b08",
   "metadata": {},
   "source": [
    "# Q.4. Explain right shift operator and left shift operator with examples."
   ]
  },
  {
   "cell_type": "markdown",
   "id": "7473f1a3-d29b-4af0-a8ae-6ca06f6339dd",
   "metadata": {},
   "source": [
    "Answer -"
   ]
  },
  {
   "cell_type": "code",
   "execution_count": 30,
   "id": "1c262f16-3384-46ce-afd2-519987b17e03",
   "metadata": {},
   "outputs": [
    {
     "ename": "SyntaxError",
     "evalue": "unmatched ')' (2467695523.py, line 1)",
     "output_type": "error",
     "traceback": [
      "\u001b[0;36m  Cell \u001b[0;32mIn [30], line 1\u001b[0;36m\u001b[0m\n\u001b[0;31m    A) Right Shift ( >> )\u001b[0m\n\u001b[0m     ^\u001b[0m\n\u001b[0;31mSyntaxError\u001b[0m\u001b[0;31m:\u001b[0m unmatched ')'\n"
     ]
    }
   ],
   "source": [
    "A) Right Shift ( >> ) \n",
    "\n",
    "# Example -\n",
    "\n",
    "a = 30 \n",
    "print ( a >> 2 ) \n",
    "Ans = 7 \n",
    "\n",
    "# How its coming ......\n",
    "\n",
    "bin (30) = 11110\n",
    "# So, Here binary number of 30 is 11110, but print is asking for right shift twice \n",
    "# In this case \"We should remove/shift last 2 bit\"\n",
    "i.e.\n",
    "# 30 = 1 1 1 1 0 \n",
    "             ^ ^ ( This both bit will remove ) \n",
    " then the ans is 111 only  and  \n",
    "\n",
    "int ( 111 ) = 7 \n",
    "\n",
    "# Similarly, let's consider \n",
    "# a = 30 \n",
    "# print ( a >> 3 ) \n",
    "\n",
    "then 30 = 1 1 1 1 0 \n",
    "              ^ ^ ^  ( This last 3 bit will remove )\n",
    "    \n",
    "    then the ans is 11 \n",
    "\n",
    "int (11) = 3"
   ]
  },
  {
   "cell_type": "code",
   "execution_count": 27,
   "id": "080011d7-3227-4aa3-89e3-bef312528769",
   "metadata": {},
   "outputs": [
    {
     "name": "stdout",
     "output_type": "stream",
     "text": [
      "7\n"
     ]
    }
   ],
   "source": [
    "# Example -\n",
    "\n",
    "a = 30 \n",
    "print ( a >> 2)"
   ]
  },
  {
   "cell_type": "code",
   "execution_count": 28,
   "id": "14bafb18-898b-4f1a-814f-21870b267337",
   "metadata": {},
   "outputs": [
    {
     "name": "stdout",
     "output_type": "stream",
     "text": [
      "3\n"
     ]
    }
   ],
   "source": [
    "a = 30 \n",
    "print ( a >> 3)"
   ]
  },
  {
   "cell_type": "code",
   "execution_count": 29,
   "id": "4b771182-3bf2-4932-99d2-c971c2e1cb30",
   "metadata": {},
   "outputs": [
    {
     "name": "stdout",
     "output_type": "stream",
     "text": [
      "3\n"
     ]
    }
   ],
   "source": [
    "a = 24 \n",
    "print ( a >> 3)"
   ]
  },
  {
   "cell_type": "code",
   "execution_count": 32,
   "id": "81550e16-9415-4001-bf1a-e25a54bef19b",
   "metadata": {},
   "outputs": [
    {
     "ename": "IndentationError",
     "evalue": "unindent does not match any outer indentation level (<tokenize>, line 17)",
     "output_type": "error",
     "traceback": [
      "\u001b[0;36m  File \u001b[0;32m<tokenize>:17\u001b[0;36m\u001b[0m\n\u001b[0;31m    then the ans will be 100011000 and check\u001b[0m\n\u001b[0m    ^\u001b[0m\n\u001b[0;31mIndentationError\u001b[0m\u001b[0;31m:\u001b[0m unindent does not match any outer indentation level\n"
     ]
    }
   ],
   "source": [
    "B) Left Shift ( << ) \n",
    "\n",
    "# Example -\n",
    "\n",
    "a = 35 \n",
    "print ( a << 3 )\n",
    "Ans = 280\n",
    "\n",
    "# How its coming .....\n",
    "\n",
    "# So, here binary number of 35 is 100011, but print is asking for left shift by 3 \n",
    "# In this case \"We should add the 000 after last bit\"\n",
    "\n",
    "i.e\n",
    "# 35 = 1 0 0 0 1 1 0 0 0\n",
    "                   ^ ^ ^  ( This last bit need to add ) \n",
    "    then the ans will be 100011000 and check \n",
    "    \n",
    "int ( 100011000 ) = 280\n",
    "\n",
    "# Similarly, let's consider \n",
    "# a = 35 \n",
    "# print ( a << 2 ) \n",
    "\n",
    "then 35 = 1 0 0 0 1 1 0 0 \n",
    "                      ^ ^  ( we have to add 00 after last bit twice ) \n",
    "    then Ans will be 10001100\n",
    "    \n",
    "int (10001100) = 140 "
   ]
  },
  {
   "cell_type": "code",
   "execution_count": 33,
   "id": "23f1239b-e9c6-4859-bfe0-9f8df8da8aa8",
   "metadata": {},
   "outputs": [
    {
     "name": "stdout",
     "output_type": "stream",
     "text": [
      "280\n"
     ]
    }
   ],
   "source": [
    "# Example -\n",
    "\n",
    "a = 35\n",
    "print ( a << 3 ) "
   ]
  },
  {
   "cell_type": "code",
   "execution_count": 34,
   "id": "616f14f6-3aa4-419e-b994-2e39eaeac076",
   "metadata": {},
   "outputs": [
    {
     "name": "stdout",
     "output_type": "stream",
     "text": [
      "140\n"
     ]
    }
   ],
   "source": [
    "a = 35 \n",
    "print ( a << 2 )"
   ]
  },
  {
   "cell_type": "markdown",
   "id": "43e88bce-16fa-4d2d-9f2f-33396c15392b",
   "metadata": {},
   "source": [
    "# Q.5. Create a list containing int type data of length 15. Then write a code to check if 10 is present in the list or not."
   ]
  },
  {
   "cell_type": "markdown",
   "id": "8d85d180-7a6b-4a81-89eb-6ded24de7afb",
   "metadata": {},
   "source": [
    "Answer - "
   ]
  },
  {
   "cell_type": "code",
   "execution_count": 35,
   "id": "ebcdc7ed-acf9-46ca-a1ad-fe7d61138b85",
   "metadata": {},
   "outputs": [
    {
     "name": "stdout",
     "output_type": "stream",
     "text": [
      "10 is present in the list.\n"
     ]
    }
   ],
   "source": [
    "my_list = [1, 2, 3, 4, 5, 6, 7, 8, 9, 10, 11, 12, 13, 14, 15]\n",
    "\n",
    "if 10 in my_list:\n",
    "    print(\"10 is present in the list.\")\n",
    "else:\n",
    "    print(\"10 is not present in the list.\")"
   ]
  },
  {
   "cell_type": "code",
   "execution_count": 36,
   "id": "bb4f8932-0ab4-4948-821b-108321573f1b",
   "metadata": {},
   "outputs": [
    {
     "name": "stdout",
     "output_type": "stream",
     "text": [
      "10 is not present in the list.\n"
     ]
    }
   ],
   "source": [
    "my_list = [1, 2, 3, 4, 5, 6, 7, 8, 9, 0, 11, 12, 13, 14, 15]\n",
    "\n",
    "if 10 in my_list:\n",
    "    print(\"10 is present in the list.\")\n",
    "else:\n",
    "    print(\"10 is not present in the list.\")"
   ]
  },
  {
   "cell_type": "code",
   "execution_count": 42,
   "id": "b7e76835-136f-4e1b-80da-0986267e136f",
   "metadata": {},
   "outputs": [
    {
     "data": {
      "text/plain": [
       "True"
      ]
     },
     "execution_count": 42,
     "metadata": {},
     "output_type": "execute_result"
    }
   ],
   "source": [
    "my_list = [1, 2, 3, 4, 5, 6, 7, 8, 9, 10, 11, 12, 13, 14, 15]\n",
    "\n",
    "10 in my_list"
   ]
  },
  {
   "cell_type": "code",
   "execution_count": 40,
   "id": "f13c7ce4-a761-40aa-95a0-fcc812e01f13",
   "metadata": {},
   "outputs": [
    {
     "data": {
      "text/plain": [
       "False"
      ]
     },
     "execution_count": 40,
     "metadata": {},
     "output_type": "execute_result"
    }
   ],
   "source": [
    "my_list = [1, 2, 3, 4, 5, 6, 7, 8, 9, 0, 11, 12, 13, 14, 15]\n",
    "\n",
    "10 in my_list"
   ]
  },
  {
   "cell_type": "code",
   "execution_count": null,
   "id": "bd930ad7-5dc5-4b27-a82b-8be7e6b5952e",
   "metadata": {},
   "outputs": [],
   "source": []
  }
 ],
 "metadata": {
  "kernelspec": {
   "display_name": "Python 3 (ipykernel)",
   "language": "python",
   "name": "python3"
  },
  "language_info": {
   "codemirror_mode": {
    "name": "ipython",
    "version": 3
   },
   "file_extension": ".py",
   "mimetype": "text/x-python",
   "name": "python",
   "nbconvert_exporter": "python",
   "pygments_lexer": "ipython3",
   "version": "3.10.6"
  }
 },
 "nbformat": 4,
 "nbformat_minor": 5
}
