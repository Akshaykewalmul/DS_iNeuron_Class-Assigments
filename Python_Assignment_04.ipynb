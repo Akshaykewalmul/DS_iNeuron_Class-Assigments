{
 "cells": [
  {
   "cell_type": "markdown",
   "id": "5ffe7781-2d72-4e82-8a69-e73e275968cb",
   "metadata": {},
   "source": [
    "# ASSIGNMENT_04"
   ]
  },
  {
   "cell_type": "markdown",
   "id": "46de2775-5275-482d-97a2-63ad02ee853b",
   "metadata": {},
   "source": [
    "# 1. What exactly is []?"
   ]
  },
  {
   "cell_type": "markdown",
   "id": "aa1b1d08-c2bf-4f3b-b36e-e8fb3522cdfc",
   "metadata": {},
   "source": [
    "Answer -\n",
    "\n",
    "[ ] is a empty list."
   ]
  },
  {
   "cell_type": "code",
   "execution_count": 1,
   "id": "a9678685-c824-47f3-88d7-191883abfc39",
   "metadata": {},
   "outputs": [],
   "source": [
    "my_list = [ ] "
   ]
  },
  {
   "cell_type": "markdown",
   "id": "0db97f90-77e6-4b0e-a510-0f92db406ab9",
   "metadata": {},
   "source": [
    "# 2. In a list of values stored in a variable called spam, how would you assign the value 'hello' as the third value? (Assume [2, 4, 6, 8, 10] are in spam.)"
   ]
  },
  {
   "cell_type": "markdown",
   "id": "82d22a9f-1536-4b5e-9fe3-dcedd6d72e53",
   "metadata": {},
   "source": [
    "Answer -"
   ]
  },
  {
   "cell_type": "code",
   "execution_count": 13,
   "id": "8da88b8e-3174-49ed-8053-9f1ec3a66c1a",
   "metadata": {},
   "outputs": [
    {
     "name": "stdout",
     "output_type": "stream",
     "text": [
      "[2, 4, 'hello', 8, 10]\n"
     ]
    }
   ],
   "source": [
    "spam = [2, 4, 6, 8, 10]  # Given List \n",
    "\n",
    "spam[2] = 'hello'  # Assigning 'hello' to the third value (index 2)\n",
    "\n",
    "print ( spam )"
   ]
  },
  {
   "cell_type": "markdown",
   "id": "eab7efcd-35f5-445f-a969-0682dd323688",
   "metadata": {},
   "source": [
    "# Condition - Let's pretend the spam includes the list ['a', 'b', 'c', 'd'] for the next three queries."
   ]
  },
  {
   "cell_type": "markdown",
   "id": "bdba06b8-3dcc-499c-afbd-a9f228a36535",
   "metadata": {},
   "source": [
    "# 3. What is the value of spam[int(int('3' * 2) / 11)]?"
   ]
  },
  {
   "cell_type": "markdown",
   "id": "c6307261-f880-4b42-8fe5-33719668e395",
   "metadata": {},
   "source": [
    "Answer -"
   ]
  },
  {
   "cell_type": "code",
   "execution_count": 15,
   "id": "8953fa0c-0818-4795-a44f-249105491fab",
   "metadata": {},
   "outputs": [
    {
     "data": {
      "text/plain": [
       "'d'"
      ]
     },
     "execution_count": 15,
     "metadata": {},
     "output_type": "execute_result"
    }
   ],
   "source": [
    "spam = ['a', 'b','c','d']\n",
    "\n",
    "spam[int(int('3' * 2) / 11)]  # spam[int(33/11)] = spam[3]"
   ]
  },
  {
   "cell_type": "markdown",
   "id": "3e275e96-ff27-47e6-bbd1-308b7d86a09e",
   "metadata": {},
   "source": [
    "# 4. What is the value of spam[-1]?"
   ]
  },
  {
   "cell_type": "markdown",
   "id": "611b9149-c8d7-45a8-98bf-460e6dfbac08",
   "metadata": {},
   "source": [
    "Answer -"
   ]
  },
  {
   "cell_type": "code",
   "execution_count": 17,
   "id": "363fea39-1848-4e99-a4a6-7cb21e1b2030",
   "metadata": {},
   "outputs": [
    {
     "data": {
      "text/plain": [
       "'d'"
      ]
     },
     "execution_count": 17,
     "metadata": {},
     "output_type": "execute_result"
    }
   ],
   "source": [
    "spam = ['a', 'b','c','d']\n",
    "spam[-1]"
   ]
  },
  {
   "cell_type": "markdown",
   "id": "b7bb15be-8eca-4621-9f95-e7f079ee5985",
   "metadata": {},
   "source": [
    "# 5. What is the value of spam[:2]?\n",
    "spam = ['a', 'b','c','d']"
   ]
  },
  {
   "cell_type": "markdown",
   "id": "b7f31984-396d-43e9-97d9-79bf1f17d0d3",
   "metadata": {},
   "source": [
    "Answer -"
   ]
  },
  {
   "cell_type": "code",
   "execution_count": 18,
   "id": "262043de-004d-41d6-9a07-96d328edd1ef",
   "metadata": {},
   "outputs": [
    {
     "data": {
      "text/plain": [
       "['a', 'b']"
      ]
     },
     "execution_count": 18,
     "metadata": {},
     "output_type": "execute_result"
    }
   ],
   "source": [
    "spam = ['a', 'b','c','d']\n",
    "\n",
    "spam[:2]"
   ]
  },
  {
   "cell_type": "markdown",
   "id": "d0d0d34f-1415-4e14-a455-13040a771af7",
   "metadata": {},
   "source": [
    "# Condition - Let's pretend bacon has the list [3.14, 'cat,' 11, 'cat,' True] for the next three questions."
   ]
  },
  {
   "cell_type": "markdown",
   "id": "580cf752-d625-4d98-8b5d-738ac46ab452",
   "metadata": {},
   "source": [
    "# 6. What is the value of bacon.index('cat')?"
   ]
  },
  {
   "cell_type": "markdown",
   "id": "9d35ed8c-ed6a-4899-abfd-4d2ad4e962a3",
   "metadata": {},
   "source": [
    "Answer -"
   ]
  },
  {
   "cell_type": "code",
   "execution_count": 22,
   "id": "7ae88d10-bb7a-412e-af74-906abb8fc336",
   "metadata": {},
   "outputs": [
    {
     "data": {
      "text/plain": [
       "1"
      ]
     },
     "execution_count": 22,
     "metadata": {},
     "output_type": "execute_result"
    }
   ],
   "source": [
    "# it returns the index of first occurrence of 'cat'\n",
    "\n",
    "bacon = [3.14, 'cat', 11, 'cat', True]\n",
    "\n",
    "bacon.index('cat')"
   ]
  },
  {
   "cell_type": "markdown",
   "id": "b51d56d8-27de-4dda-adaa-3ca4b18d9a42",
   "metadata": {},
   "source": [
    "# 7. How does bacon.append(99) change the look of the list value in bacon?"
   ]
  },
  {
   "cell_type": "markdown",
   "id": "8c6485c3-3849-41b4-a8af-bfd4814a3536",
   "metadata": {},
   "source": [
    "Answer -"
   ]
  },
  {
   "cell_type": "code",
   "execution_count": 27,
   "id": "7d6e04a7-7408-4ed2-921d-0506f4aaf75f",
   "metadata": {},
   "outputs": [
    {
     "data": {
      "text/plain": [
       "[3.14, 'cat', 11, 'cat', True, 99]"
      ]
     },
     "execution_count": 27,
     "metadata": {},
     "output_type": "execute_result"
    }
   ],
   "source": [
    "# append adds the item at the end of the list\n",
    "\n",
    "bacon = [3.14, 'cat', 11, 'cat', True]\n",
    "\n",
    "bacon.append(99)\n",
    "bacon"
   ]
  },
  {
   "cell_type": "markdown",
   "id": "a5899ec3-d895-4f3d-8592-5278bfd3600c",
   "metadata": {},
   "source": [
    "# 8. How does bacon.remove('cat') change the look of the list in bacon?"
   ]
  },
  {
   "cell_type": "markdown",
   "id": "763b8cef-6749-4604-ad4a-90875cfee16f",
   "metadata": {},
   "source": [
    "Answer -"
   ]
  },
  {
   "cell_type": "code",
   "execution_count": 28,
   "id": "402dc74a-c9cf-4c06-9422-1e4911306f19",
   "metadata": {},
   "outputs": [
    {
     "data": {
      "text/plain": [
       "[3.14, 11, 'cat', True]"
      ]
     },
     "execution_count": 28,
     "metadata": {},
     "output_type": "execute_result"
    }
   ],
   "source": [
    "# remove first occurrence of item\n",
    "\n",
    "bacon = [3.14, 'cat', 11, 'cat', True]\n",
    "\n",
    "bacon.remove('cat') \n",
    "bacon"
   ]
  },
  {
   "cell_type": "markdown",
   "id": "7c3cf0dc-60c1-4475-a393-da6cdc34ef12",
   "metadata": {},
   "source": [
    "# 9. What are the list concatenation and list replication operators?"
   ]
  },
  {
   "cell_type": "markdown",
   "id": "f3e5192b-c58e-4b73-8732-4a7b21a81fe8",
   "metadata": {},
   "source": [
    "Answer -"
   ]
  },
  {
   "cell_type": "markdown",
   "id": "9a1eec35-796d-46d3-84e5-3af8e4b8c33e",
   "metadata": {},
   "source": [
    "In Python, the list concatenation operator is the plus sign (+), which is used to combine two or more lists into a single list. \n",
    "\n",
    "When you use the plus operator between two lists, it creates a new list that contains all the elements from both lists in the order they appear."
   ]
  },
  {
   "cell_type": "code",
   "execution_count": 29,
   "id": "cbeda0a3-4f93-469d-b601-c67f882cd230",
   "metadata": {},
   "outputs": [
    {
     "name": "stdout",
     "output_type": "stream",
     "text": [
      "[1, 2, 3, 4, 5, 6]\n"
     ]
    }
   ],
   "source": [
    "list1 = [1, 2, 3]\n",
    "\n",
    "list2 = [4, 5, 6]\n",
    "\n",
    "concatenated_list = list1 + list2\n",
    "\n",
    "print(concatenated_list)"
   ]
  },
  {
   "cell_type": "markdown",
   "id": "b92af679-5a2c-4cb4-bce2-771240675656",
   "metadata": {},
   "source": [
    "The list replication operator is the asterisk (*) symbol, which is used to create a new list by repeating the elements of an existing list a certain number of times. \n",
    "\n",
    "It allows you to easily create a new list with multiple copies of the same elements."
   ]
  },
  {
   "cell_type": "code",
   "execution_count": 30,
   "id": "0a41c531-d0f5-4b25-a92f-3dce7f116173",
   "metadata": {},
   "outputs": [
    {
     "name": "stdout",
     "output_type": "stream",
     "text": [
      "[1, 2, 3, 1, 2, 3, 1, 2, 3]\n"
     ]
    }
   ],
   "source": [
    "list1 = [1, 2, 3]\n",
    "\n",
    "replicated_list = list1 * 3\n",
    "\n",
    "print(replicated_list)"
   ]
  },
  {
   "cell_type": "markdown",
   "id": "5668329b-f0c7-4ab6-ae01-0a5e81e0bd8b",
   "metadata": {},
   "source": [
    "# 10. What is difference between the list methods append() and insert()?"
   ]
  },
  {
   "cell_type": "markdown",
   "id": "b2e5c040-d8fe-477c-a7a4-4464046111c4",
   "metadata": {},
   "source": [
    "Answer -"
   ]
  },
  {
   "cell_type": "markdown",
   "id": "a12c4825-b25b-4e5f-93f7-ffa7ea6e7c0e",
   "metadata": {},
   "source": [
    "append() method :\n",
    "\n",
    "Functionality - Adds an item to the end of the list.\n",
    "\n",
    "Syntax - list.append(item)"
   ]
  },
  {
   "cell_type": "code",
   "execution_count": 31,
   "id": "23ac6e97-5e64-4b06-a3f1-88d5de1ae1bf",
   "metadata": {},
   "outputs": [
    {
     "name": "stdout",
     "output_type": "stream",
     "text": [
      "[1, 2, 3, 4]\n"
     ]
    }
   ],
   "source": [
    "my_list = [1, 2, 3]\n",
    "\n",
    "my_list.append(4)\n",
    "\n",
    "print(my_list)"
   ]
  },
  {
   "cell_type": "markdown",
   "id": "784d2e91-d828-457d-9aa7-578114c957f3",
   "metadata": {},
   "source": [
    "insert() method :\n",
    "\n",
    "Functionality - Inserts an item at a specified position in the list.\n",
    "\n",
    "Syntax - list.insert(index, item)"
   ]
  },
  {
   "cell_type": "code",
   "execution_count": 32,
   "id": "7d5cded5-4105-4c85-b4c8-33a2d630f757",
   "metadata": {},
   "outputs": [
    {
     "name": "stdout",
     "output_type": "stream",
     "text": [
      "[1, 4, 2, 3]\n"
     ]
    }
   ],
   "source": [
    "my_list = [1, 2, 3]\n",
    "\n",
    "my_list.insert(1, 4)\n",
    "\n",
    "print(my_list)"
   ]
  },
  {
   "cell_type": "markdown",
   "id": "222a4ee1-4d08-42d8-a8dc-22c074d25c39",
   "metadata": {},
   "source": [
    "# 11. What are the two methods for removing items from a list?"
   ]
  },
  {
   "cell_type": "markdown",
   "id": "a420d03b-2fb7-431a-ae88-649656d83de5",
   "metadata": {},
   "source": [
    "Answer -"
   ]
  },
  {
   "cell_type": "markdown",
   "id": "999ec5fb-5517-432e-bd77-fd06ba12affc",
   "metadata": {},
   "source": [
    "remove() method :\n",
    "\n",
    "Functionality - Removes the first occurrence of the specified item from the list.\n",
    "\n",
    "Syntax - list.remove(item)"
   ]
  },
  {
   "cell_type": "code",
   "execution_count": 33,
   "id": "df4fac29-70db-4e57-b82a-9ca46ca857c8",
   "metadata": {},
   "outputs": [
    {
     "name": "stdout",
     "output_type": "stream",
     "text": [
      "[1, 3, 2]\n"
     ]
    }
   ],
   "source": [
    "my_list = [1, 2, 3, 2]\n",
    "\n",
    "my_list.remove(2)\n",
    "\n",
    "print(my_list)"
   ]
  },
  {
   "cell_type": "markdown",
   "id": "a83286eb-2658-47c0-a5c1-b735efa4fcd7",
   "metadata": {},
   "source": [
    "pop() method :\n",
    "\n",
    "Functionality - Removes and returns the item at the specified index.\n",
    "\n",
    "Syntax - list.pop(index)"
   ]
  },
  {
   "cell_type": "code",
   "execution_count": 34,
   "id": "546f3c9c-12bb-424e-b1ba-e31212ad8769",
   "metadata": {},
   "outputs": [
    {
     "name": "stdout",
     "output_type": "stream",
     "text": [
      "[1, 3]\n",
      "2\n"
     ]
    }
   ],
   "source": [
    "my_list = [1, 2, 3]\n",
    "\n",
    "item = my_list.pop(1)\n",
    "\n",
    "print(my_list)\n",
    "print(item)"
   ]
  },
  {
   "cell_type": "markdown",
   "id": "a6e24b7c-9ca9-45d5-9797-1b62c7702034",
   "metadata": {},
   "source": [
    "# 12. Describe how list values and string values are identical."
   ]
  },
  {
   "cell_type": "markdown",
   "id": "5337e96e-8853-4673-bd65-733ecf0b8bc5",
   "metadata": {},
   "source": [
    "Answer -"
   ]
  },
  {
   "cell_type": "markdown",
   "id": "885ab3d2-eaa5-4515-b994-5ac90f2b799c",
   "metadata": {},
   "source": [
    "list values and string values are identical because,\n",
    "\n",
    "    Both lists and strings can be passed to len().\n",
    "\n",
    "    Have indexes and slices.\n",
    "\n",
    "    Can be used in for loops.\n",
    "\n",
    "    Can be concatenated or replicated.\n",
    "\n",
    "    Can be used with the in and not in operators."
   ]
  },
  {
   "cell_type": "markdown",
   "id": "abf5f3fa-7e14-4c84-9727-b570d2cc8aaf",
   "metadata": {},
   "source": [
    "# 13. What's the difference between tuples and lists?"
   ]
  },
  {
   "cell_type": "markdown",
   "id": "3545cf8b-ddf8-409e-a00d-0331abd6dc8d",
   "metadata": {},
   "source": [
    "Answer -"
   ]
  },
  {
   "cell_type": "markdown",
   "id": "12e4d364-cde9-4a11-a2cb-f96929f5dafe",
   "metadata": {},
   "source": [
    "lists : \n",
    "\n",
    "A list in python is an orderd collection ( Also know as sequence ) of items. \n",
    "\n",
    "lists are \"Mutable\" which means their elements can be cahnged ( added, modified or deleted ) aafter they are created.\n",
    "\n",
    "Creation - A list is created by placing items (elements) inside brackets [ ], seperated by commas."
   ]
  },
  {
   "cell_type": "code",
   "execution_count": 37,
   "id": "dff78174-bf2b-445b-a015-dd40667014cf",
   "metadata": {},
   "outputs": [
    {
     "name": "stdout",
     "output_type": "stream",
     "text": [
      "['Apple', 'Bananas', 'Grapes']\n"
     ]
    }
   ],
   "source": [
    "fruits = [ \"Apple\", \"Bananas\", \"Grapes\" ]\n",
    "\n",
    "print ( fruits )"
   ]
  },
  {
   "cell_type": "markdown",
   "id": "7d5d7b2c-c4a3-4048-a56c-57ab65b0bbc7",
   "metadata": {},
   "source": [
    "tuples :\n",
    "\n",
    "A tuples in python is similar to a list but,\n",
    "\n",
    "Tuples are \"Immutable\" which means their elements can not be cahnged ( added, modified or deleted ) aafter they are created.\n",
    "\n",
    "Creation - A tuples is created by placing items (elements) inside parentheses ( ), seperated by commas."
   ]
  },
  {
   "cell_type": "code",
   "execution_count": 38,
   "id": "f4ffbbf7-fba7-43ba-b6df-a2fe82f1d929",
   "metadata": {},
   "outputs": [
    {
     "name": "stdout",
     "output_type": "stream",
     "text": [
      "(1, 2, 3, 4, 5)\n"
     ]
    }
   ],
   "source": [
    "my_tuples = (1, 2, 3, 4, 5)\n",
    "\n",
    "print (my_tuples)"
   ]
  },
  {
   "cell_type": "markdown",
   "id": "43dedf62-cade-4855-96bc-c76568ced8df",
   "metadata": {},
   "source": [
    "In short,\n",
    "\n",
    "Lists : are mutable - they can have values added, removed, or changed. lists use the square brackets, [ a ]\n",
    "\n",
    "Tuples : are immutable; they cannot be changed at all. Tuples are written using parentheses, ( a )"
   ]
  },
  {
   "cell_type": "markdown",
   "id": "ca83f28c-dff0-49f1-a264-d81f9d88742a",
   "metadata": {},
   "source": [
    "# 14. How do you type a tuple value that only contains the integer 42?"
   ]
  },
  {
   "cell_type": "markdown",
   "id": "bd1be4ec-6d12-4565-abf5-4cd8297b153d",
   "metadata": {},
   "source": [
    "Answer -"
   ]
  },
  {
   "cell_type": "markdown",
   "id": "99231da0-9d0f-4c1f-b6f1-c484262f9b6c",
   "metadata": {},
   "source": [
    "To create a tuple value that only contains the integer 42, you should enclose the value within parentheses()."
   ]
  },
  {
   "cell_type": "code",
   "execution_count": 41,
   "id": "249c0a55-9f6e-4843-9aa3-af8e216ea065",
   "metadata": {},
   "outputs": [
    {
     "data": {
      "text/plain": [
       "(42,)"
      ]
     },
     "execution_count": 41,
     "metadata": {},
     "output_type": "execute_result"
    }
   ],
   "source": [
    "tuple = (42,)\n",
    "tuple"
   ]
  },
  {
   "cell_type": "markdown",
   "id": "14476059-2843-4d0b-9ab5-2dc91ede1c22",
   "metadata": {},
   "source": [
    "# 15. How do you get a list value's tuple form? How do you get a tuple value's list form?"
   ]
  },
  {
   "cell_type": "markdown",
   "id": "6b235416-e82c-4568-80f2-797a00d45e3c",
   "metadata": {},
   "source": [
    "Answer -"
   ]
  },
  {
   "cell_type": "markdown",
   "id": "79948082-87aa-4f0f-af26-0d4f01e898db",
   "metadata": {},
   "source": [
    "To convert a list value into a tuple, you can use the tuple() function. "
   ]
  },
  {
   "cell_type": "code",
   "execution_count": 58,
   "id": "174b88de-d47f-4864-9801-f4e51dc869f9",
   "metadata": {},
   "outputs": [
    {
     "ename": "TypeError",
     "evalue": "'tuple' object is not callable",
     "output_type": "error",
     "traceback": [
      "\u001b[0;31m---------------------------------------------------------------------------\u001b[0m",
      "\u001b[0;31mTypeError\u001b[0m                                 Traceback (most recent call last)",
      "Cell \u001b[0;32mIn [58], line 2\u001b[0m\n\u001b[1;32m      1\u001b[0m my_list \u001b[38;5;241m=\u001b[39m [\u001b[38;5;241m1\u001b[39m, \u001b[38;5;241m2\u001b[39m, \u001b[38;5;241m3\u001b[39m]\n\u001b[0;32m----> 2\u001b[0m my_tuple \u001b[38;5;241m=\u001b[39m \u001b[38;5;28;43mtuple\u001b[39;49m\u001b[43m(\u001b[49m\u001b[43mmy_list\u001b[49m\u001b[43m)\u001b[49m\n\u001b[1;32m      3\u001b[0m \u001b[38;5;28mprint\u001b[39m(my_tuple)\n",
      "\u001b[0;31mTypeError\u001b[0m: 'tuple' object is not callable"
     ]
    }
   ],
   "source": [
    "my_list = [1, 2, 3]\n",
    "my_tuple = tuple(my_list)\n",
    "print(my_tuple)"
   ]
  },
  {
   "cell_type": "markdown",
   "id": "4bbcbaf3-5bd6-45a0-b536-3d54dd71b8db",
   "metadata": {},
   "source": [
    "To convert a tuple value into a list, you can use the list() function. "
   ]
  },
  {
   "cell_type": "code",
   "execution_count": 55,
   "id": "690982a7-ac99-4adc-a1ed-c6aa84dd11f5",
   "metadata": {},
   "outputs": [
    {
     "name": "stdout",
     "output_type": "stream",
     "text": [
      "[1, 2, 3]\n"
     ]
    }
   ],
   "source": [
    "my_tuple = (1, 2, 3)\n",
    "my_list = list(my_tuple)\n",
    "print(my_list)"
   ]
  },
  {
   "cell_type": "markdown",
   "id": "522a1a1b-f81f-47d4-bef6-85f394b17fd1",
   "metadata": {},
   "source": [
    "# 16. Variables that \"contain\" list values are not necessarily lists themselves. Instead, what do they contain?"
   ]
  },
  {
   "cell_type": "markdown",
   "id": "bc6282d0-6c3d-43bd-b337-29187cc99ac1",
   "metadata": {},
   "source": [
    "Answer -"
   ]
  },
  {
   "cell_type": "markdown",
   "id": "0d6d232a-3816-4593-8a96-e5c34b003026",
   "metadata": {},
   "source": [
    "They contain references or pointers to the list objects.\n",
    "\n",
    "They contain references to list values"
   ]
  },
  {
   "cell_type": "markdown",
   "id": "f8004f03-1471-40a4-9a34-c0bd641f51c2",
   "metadata": {},
   "source": [
    "# 17. How do you distinguish between copy.copy() and copy.deepcopy()?"
   ]
  },
  {
   "cell_type": "markdown",
   "id": "6042a9e9-70fd-4aa6-8d0d-2b66fa17a004",
   "metadata": {},
   "source": [
    "Answer -"
   ]
  },
  {
   "cell_type": "markdown",
   "id": "13d3b480-5b79-497d-af0c-9ee98c391914",
   "metadata": {},
   "source": [
    "The copy.copy() function will do a shallow copy of a list.\n",
    "\n",
    "The copy.deepcopy() function will do a deep copy of a list. only copy.deepcopy() will duplicate any lists inside the list"
   ]
  },
  {
   "cell_type": "code",
   "execution_count": null,
   "id": "8be0df85-a66f-4b58-9dcf-5f58162379ed",
   "metadata": {},
   "outputs": [],
   "source": []
  }
 ],
 "metadata": {
  "kernelspec": {
   "display_name": "Python 3 (ipykernel)",
   "language": "python",
   "name": "python3"
  },
  "language_info": {
   "codemirror_mode": {
    "name": "ipython",
    "version": 3
   },
   "file_extension": ".py",
   "mimetype": "text/x-python",
   "name": "python",
   "nbconvert_exporter": "python",
   "pygments_lexer": "ipython3",
   "version": "3.10.6"
  }
 },
 "nbformat": 4,
 "nbformat_minor": 5
}
