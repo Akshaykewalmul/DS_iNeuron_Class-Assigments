{
 "cells": [
  {
   "cell_type": "markdown",
   "id": "cc4cad8b-b849-425c-bd1f-ad6d1dcdf703",
   "metadata": {},
   "source": [
    "# ASSIGNMENT_02"
   ]
  },
  {
   "cell_type": "markdown",
   "id": "cabe9c19-5f3c-413a-8184-49611c40a3fb",
   "metadata": {},
   "source": [
    "# 1. What are the two values of the Boolean data type? How do you write them?"
   ]
  },
  {
   "cell_type": "markdown",
   "id": "9a0bf24c-7452-4707-82dd-3041787d39b3",
   "metadata": {},
   "source": [
    "Answer - \n",
    "\n",
    "The Boolean data type in Python represents logical values that can be either \"True\" or \"False\". \n",
    "\n",
    "These two values are the only possible values for the Boolean data type.\n",
    "\n",
    "\tTrue: Represents a true or \"yes\" condition.\n",
    "\tFalse: Represents a false or \"no\" condition."
   ]
  },
  {
   "cell_type": "code",
   "execution_count": 1,
   "id": "0055ff87-8dd5-4558-8f21-0b10b12c70be",
   "metadata": {},
   "outputs": [
    {
     "name": "stdout",
     "output_type": "stream",
     "text": [
      "False\n",
      "True\n",
      "False\n"
     ]
    }
   ],
   "source": [
    "# Example \n",
    "\n",
    "a = 10\n",
    "b = 20 \n",
    "print ( a > b )\n",
    "print ( a < b )\n",
    "print ( a == b ) "
   ]
  },
  {
   "cell_type": "markdown",
   "id": "b49ad405-e261-40a7-80c7-bc020503ca61",
   "metadata": {},
   "source": [
    "# 2. What are the three different types of Boolean operators?"
   ]
  },
  {
   "cell_type": "markdown",
   "id": "7e7808a7-8f6c-472d-90df-72bd9d96eb38",
   "metadata": {},
   "source": [
    "Answer -\n",
    "\n",
    "In Python, there are three different types of Boolean operators, These operators are:\n",
    "\n",
    "AND (and):\n",
    "\n",
    "The logical AND operator returns True if both operands are True, and False otherwise.\n",
    "\n",
    "It evaluates to True only if all conditions are true.\n"
   ]
  },
  {
   "cell_type": "code",
   "execution_count": 6,
   "id": "26529d6b-cd82-4339-a78e-ad8f0378d11c",
   "metadata": {},
   "outputs": [
    {
     "name": "stdout",
     "output_type": "stream",
     "text": [
      "True\n",
      "False\n",
      "False\n",
      "False\n"
     ]
    }
   ],
   "source": [
    "print ( True and True )\n",
    "print ( True and False )\n",
    "print ( False and True )\n",
    "print ( False and False )"
   ]
  },
  {
   "cell_type": "markdown",
   "id": "d1d49845-a371-4576-b66b-580dbdbcdc59",
   "metadata": {},
   "source": [
    "OR (or):\n",
    "\n",
    "The logical OR operator returns True if at least one of the operands is True, and False otherwise.\n",
    "\t\t\n",
    "It evaluates to True if any of the conditions are true."
   ]
  },
  {
   "cell_type": "code",
   "execution_count": 7,
   "id": "1cf6c439-ddf3-4f44-bebc-42fbf2988695",
   "metadata": {},
   "outputs": [
    {
     "name": "stdout",
     "output_type": "stream",
     "text": [
      "True\n",
      "True\n",
      "True\n",
      "False\n"
     ]
    }
   ],
   "source": [
    "print ( True or True )\n",
    "print ( True or False )\n",
    "print ( False or True )\n",
    "print ( False or False )"
   ]
  },
  {
   "cell_type": "markdown",
   "id": "de6f310f-7df0-43a3-b466-ae5454956f05",
   "metadata": {},
   "source": [
    "NOT (not):\n",
    "\n",
    "The logical NOT operator is a unary operator that returns the opposite of the operand's value.\n",
    "\n",
    "It flips the Boolean value, returning True if the operand is False and False if the operand is True."
   ]
  },
  {
   "cell_type": "code",
   "execution_count": 8,
   "id": "81988267-a74c-4b8a-8e59-03dc7d72b5e2",
   "metadata": {},
   "outputs": [
    {
     "name": "stdout",
     "output_type": "stream",
     "text": [
      "False\n",
      "True\n"
     ]
    }
   ],
   "source": [
    "print ( not True )\n",
    "print ( not False )"
   ]
  },
  {
   "cell_type": "markdown",
   "id": "21a622b7-18d4-4b69-894f-bc131657880d",
   "metadata": {},
   "source": [
    "# 3. Make a list of each Boolean operator's truth tables (i.e. every possible combination of Boolean values for the operator and what it evaluate )."
   ]
  },
  {
   "cell_type": "markdown",
   "id": "a02b6b95-f720-42d1-8a49-599d07ec4b0b",
   "metadata": {},
   "source": [
    "Answer -\n",
    "\n",
    "Here are the truth tables for each Boolean operator,\n",
    "\n",
    "\n",
    "\n",
    "\n",
    "    Boolean operator               Combination\t               Result\n",
    "    \n",
    "\n",
    "     and    \t \n",
    "                                \n",
    "                                print (True and True)\t         True\n",
    "  \n",
    "\t\t                        print (True and False)\t         False\n",
    "                                \n",
    "\t\t                        print (False and True)\t         False\n",
    "                                \n",
    "\t\t                        print (False and False)\t         False\n",
    "                                \n",
    "                                \n",
    "       or\t    \n",
    "                               \n",
    "                                print (True or True)\t         True\n",
    "   \n",
    "\t                            print (True or False)\t         True\n",
    "                                \n",
    "\t\t                        print (False or True)\t         True\n",
    "                                \n",
    "\t\t                        print (False or False)               False \n",
    "                                \n",
    "                                \n",
    "      not\t    \n",
    "                               \n",
    "                                print (not True)\t                 False\n",
    "   \n",
    "\t                            print (not False)                    True\n",
    "          "
   ]
  },
  {
   "cell_type": "code",
   "execution_count": 10,
   "id": "0af05e13-0582-4cb5-870d-f6cb82bef0c1",
   "metadata": {},
   "outputs": [
    {
     "name": "stdout",
     "output_type": "stream",
     "text": [
      "True\n",
      "False\n",
      "False\n",
      "False\n",
      "True\n",
      "True\n",
      "True\n",
      "False\n",
      "False\n",
      "True\n"
     ]
    }
   ],
   "source": [
    "# and\n",
    "\n",
    "print ( True and True )\n",
    "print ( True and False )\n",
    "print ( False and True )\n",
    "print ( False and False )\n",
    "\n",
    "# or\n",
    "\n",
    "print ( True or True )\n",
    "print ( True or False )\n",
    "print ( False or True )\n",
    "print ( False or False )\n",
    "\n",
    "# not\n",
    "\n",
    "print ( not True )\n",
    "print ( not False )"
   ]
  },
  {
   "cell_type": "markdown",
   "id": "23955aeb-0826-43d3-87c0-c8391814b182",
   "metadata": {},
   "source": [
    "# 4. What are the values of the following expressions?\n",
    "\n",
    "(5 > 4) and (3 == 5)\n",
    "\n",
    "not (5 > 4)\n",
    "\n",
    "(5 > 4) or (3 == 5)\n",
    "\n",
    "not ((5 > 4) or (3 == 5))\n",
    "\n",
    "(True and True) and (True == False)\n",
    "\n",
    "(not False) or (not True)"
   ]
  },
  {
   "cell_type": "code",
   "execution_count": 12,
   "id": "96eb062e-772a-4e24-b88e-ac8c5b351e4e",
   "metadata": {},
   "outputs": [
    {
     "name": "stdout",
     "output_type": "stream",
     "text": [
      "False\n",
      "False\n",
      "True\n",
      "False\n",
      "False\n",
      "True\n"
     ]
    }
   ],
   "source": [
    "# Answer -\n",
    "\n",
    "# Let's evaluate the given expressions and determine their resulting values:\n",
    "\n",
    "print((5>4) and (3==5))\n",
    "print(not(5>4))\n",
    "print((5>4) or (3==5))\n",
    "print(not(5>4) or (3==5))\n",
    "print((True and True) and (True==False))\n",
    "print((not(False))or(not(True)))"
   ]
  },
  {
   "cell_type": "markdown",
   "id": "e45c4318-76f0-4c18-ab7d-b36745d9409d",
   "metadata": {},
   "source": [
    "# 5. What are the six comparison operators?"
   ]
  },
  {
   "cell_type": "markdown",
   "id": "db7488aa-384f-4c3d-b205-eebd907b9f63",
   "metadata": {},
   "source": [
    "Answer -\n",
    "\n",
    "\n",
    "The six comparison operators are,\n",
    "\n",
    "\n",
    "Equal to (==)\n",
    "\n",
    "Not equal to (!=)\n",
    "\n",
    "Greater than (>)\n",
    "\n",
    "Less than (<)\n",
    "\n",
    "Greater than or equal to (>=)\n",
    "\n",
    "Less than or equal to (<=)"
   ]
  },
  {
   "cell_type": "markdown",
   "id": "ee214e85-4b41-427c-910a-dbe2093dc0f0",
   "metadata": {},
   "source": [
    "# 6. How do you tell the difference between the equal to and assignment operators? Describe a condition and when you would use one."
   ]
  },
  {
   "cell_type": "markdown",
   "id": "25bc3b85-5f1f-41e2-9b8d-9dc29b9d7d59",
   "metadata": {},
   "source": [
    "Answer -\n",
    "\n",
    "In Python, the equal to operator and the assignment operator have different purposes,\n",
    "\n",
    "Equal to Operator (==):\n",
    "\n",
    "The equal to operator is a comparison operator used to check if two values or expressions are equal.\n",
    "\t\n",
    "It returns True if the left operand is equal to the right operand,  otherwise it will be False.\n"
   ]
  },
  {
   "cell_type": "code",
   "execution_count": 13,
   "id": "25212027-fe9b-4e4e-8502-899ee9635ca2",
   "metadata": {},
   "outputs": [
    {
     "name": "stdout",
     "output_type": "stream",
     "text": [
      "True\n"
     ]
    }
   ],
   "source": [
    "if ( 10 == 10 ) :\n",
    "    print ( \"True\" )\n",
    "else :\n",
    "    print ( \"False\" ) "
   ]
  },
  {
   "cell_type": "code",
   "execution_count": 14,
   "id": "53222581-4c33-4127-a6e6-632f4e3d56c5",
   "metadata": {},
   "outputs": [
    {
     "name": "stdout",
     "output_type": "stream",
     "text": [
      "False\n"
     ]
    }
   ],
   "source": [
    "if ( 7 == 10 ) :\n",
    "    print ( \"True\" )\n",
    "else :\n",
    "    print ( \"False\" )"
   ]
  },
  {
   "cell_type": "markdown",
   "id": "0439efbb-4d4b-45fd-b4f0-e9c31d036fc9",
   "metadata": {},
   "source": [
    "Assignment Operator (=):\n",
    "\n",
    "The assignment operator is used to assign a value to a variable.\n",
    "\t\n",
    "It takes the value on the right side and assigns it to the variable on the left side.\n",
    "\t\t"
   ]
  },
  {
   "cell_type": "code",
   "execution_count": 15,
   "id": "707bcc85-5bf6-4431-8079-e18edd4188f3",
   "metadata": {},
   "outputs": [
    {
     "name": "stdout",
     "output_type": "stream",
     "text": [
      "100\n"
     ]
    }
   ],
   "source": [
    "a = 100\n",
    "print (a) "
   ]
  },
  {
   "cell_type": "code",
   "execution_count": 17,
   "id": "77158e6c-0854-43c2-8846-74c774397227",
   "metadata": {},
   "outputs": [
    {
     "name": "stdout",
     "output_type": "stream",
     "text": [
      "200\n"
     ]
    }
   ],
   "source": [
    "b = 200\n",
    "print (b) "
   ]
  },
  {
   "cell_type": "markdown",
   "id": "3de7b99a-c9c9-445e-86dc-126cd0a72e2f",
   "metadata": {},
   "source": [
    "So, in short, we use the equal to operator (==) when we want to compare two values or expressions. \n",
    "\n",
    "and we use the assignment operator (=) when we want to assign a value to a variable."
   ]
  },
  {
   "cell_type": "markdown",
   "id": "0ba3a749-8411-45c1-8f77-19b310709759",
   "metadata": {},
   "source": [
    "# 7. Identify the three blocks in this code:\n",
    "\n",
    "spam = 0\n",
    "\n",
    "if spam == 10:\n",
    "\n",
    "print('eggs')\n",
    "\n",
    "if spam > 5:\n",
    "\n",
    "print('bacon')\n",
    "\n",
    "else:\n",
    "\n",
    "print('ham')\n",
    "\n",
    "print('spam')\n",
    "\n",
    "print('spam')"
   ]
  },
  {
   "cell_type": "markdown",
   "id": "0a989221-4c7a-453e-bab6-4f131213f0ed",
   "metadata": {},
   "source": [
    "Answer -\n",
    "\n",
    "The three blocks are :"
   ]
  },
  {
   "cell_type": "code",
   "execution_count": 18,
   "id": "90d946db-d8fe-4457-a9e0-f96efd77af08",
   "metadata": {},
   "outputs": [
    {
     "name": "stdout",
     "output_type": "stream",
     "text": [
      "ham\n",
      "spam\n",
      "spam\n"
     ]
    }
   ],
   "source": [
    "spam = 0\n",
    "if spam == 10:\n",
    "    print('eggs')   # Block 1\n",
    "    \n",
    "if spam > 5:\n",
    "    print('bacon')  # Block 2    \n",
    "else:\n",
    "    print('ham' )   \n",
    "    \n",
    "    print('spam')   # Block 3\n",
    "    print('spam')"
   ]
  },
  {
   "cell_type": "markdown",
   "id": "f78ee5f1-a53b-464b-b632-69bf05d5a99a",
   "metadata": {},
   "source": [
    "# 8. Write code that prints Hello if 1 is stored in spam, prints Howdy if 2 is stored in spam, and prints Greetings! if anything else is stored in spam."
   ]
  },
  {
   "cell_type": "code",
   "execution_count": 1,
   "id": "b9d0cebb-62e9-4339-9dd5-6d1ded5317f4",
   "metadata": {},
   "outputs": [
    {
     "name": "stdin",
     "output_type": "stream",
     "text": [
      "Input a no. 5\n"
     ]
    },
    {
     "name": "stdout",
     "output_type": "stream",
     "text": [
      "Greetings!\n"
     ]
    }
   ],
   "source": [
    "# Answer\n",
    "\n",
    "spam = int(input(\"Input a no.\"))\n",
    "if spam == 1:\n",
    "    print(\"Hello\")\n",
    "elif spam == 2:\n",
    "    print(\"Howdy\")\n",
    "else:\n",
    "    print(\"Greetings!\")"
   ]
  },
  {
   "cell_type": "markdown",
   "id": "401d24a6-3bb5-49e9-b568-cc5e631f67dd",
   "metadata": {},
   "source": [
    "# 9.If your programme is stuck in an endless loop, what keys you’ll press?"
   ]
  },
  {
   "cell_type": "markdown",
   "id": "08dc03db-078c-453c-898b-a51d37f56b0b",
   "metadata": {},
   "source": [
    "Answer -\n",
    "\n",
    "If program is stuck in endless loop we will press \"Ctrl + C\""
   ]
  },
  {
   "cell_type": "markdown",
   "id": "bff630f0-b9ad-48ee-bfd3-d062d68bb634",
   "metadata": {},
   "source": [
    "# 10. How can you tell the difference between break and continue?"
   ]
  },
  {
   "cell_type": "markdown",
   "id": "529ffde8-decf-4218-82dc-0105d43bb48f",
   "metadata": {},
   "source": [
    "Answer -\n",
    "\n",
    "Break :\n",
    "\n",
    "The break statement is used to exit the loop entirely.\n",
    "\n",
    "The break statement is typically used when a specific condition is met, and you want to exit the loop immediately."
   ]
  },
  {
   "cell_type": "code",
   "execution_count": 2,
   "id": "04dd3cb0-363c-48b3-8991-2c2816542dc6",
   "metadata": {},
   "outputs": [
    {
     "name": "stdout",
     "output_type": "stream",
     "text": [
      "1\n",
      "2\n",
      "3\n",
      "4\n"
     ]
    }
   ],
   "source": [
    "# Example -\n",
    "\n",
    "for i in range(1, 10):\n",
    "    if i == 5:\n",
    "        break\n",
    "    print(i)"
   ]
  },
  {
   "cell_type": "markdown",
   "id": "39926db3-bbf6-4d7f-9384-d88b41987edc",
   "metadata": {},
   "source": [
    "Continue :\n",
    "\n",
    "The continue statement is used to skip the current iteration and move to the next iteration of the loop."
   ]
  },
  {
   "cell_type": "code",
   "execution_count": 3,
   "id": "58a4572c-aed1-48a4-aee8-867eb39f8b22",
   "metadata": {},
   "outputs": [
    {
     "name": "stdout",
     "output_type": "stream",
     "text": [
      "1\n",
      "2\n",
      "4\n",
      "5\n",
      "6\n",
      "7\n",
      "8\n",
      "9\n"
     ]
    }
   ],
   "source": [
    "# Example -\n",
    "\n",
    "for i in range(1, 10):\n",
    "    if i == 3:\n",
    "        continue\n",
    "    print(i)"
   ]
  },
  {
   "cell_type": "markdown",
   "id": "41e874e6-ee6e-4ae9-a8a1-d6bcb7e0ec14",
   "metadata": {},
   "source": [
    "# 11. In a for loop, what is the difference between range(10), range(0, 10), and range(0, 10, 1)?"
   ]
  },
  {
   "cell_type": "markdown",
   "id": "1a05328d-25e8-471c-bc98-1a681c193f87",
   "metadata": {},
   "source": [
    "Answer - \n",
    "\n",
    "\n",
    "range(10):\n",
    "\n",
    "This form of range() generates a sequence of numbers starting from 0 and up to, but not including 10, The default starting value is 0."
   ]
  },
  {
   "cell_type": "code",
   "execution_count": 1,
   "id": "a48399dc-98f9-4973-bf04-0b49703f1c32",
   "metadata": {},
   "outputs": [
    {
     "name": "stdout",
     "output_type": "stream",
     "text": [
      "0\n",
      "1\n",
      "2\n",
      "3\n",
      "4\n",
      "5\n",
      "6\n",
      "7\n",
      "8\n",
      "9\n"
     ]
    }
   ],
   "source": [
    "# Example -\n",
    "\n",
    "for i in range ( 10 ) : # range ( stop ) \n",
    "    print (i) "
   ]
  },
  {
   "cell_type": "markdown",
   "id": "d75ef8e3-5825-47f5-ba2e-939af63a4bb2",
   "metadata": {},
   "source": [
    "range(0, 10):\n",
    "\n",
    "This form of range() specifies both the start and end values for the sequence.\n",
    "\n",
    "It generates a sequence of numbers starting from the specified start value (0) and up to, but not including, the specified end value (10)."
   ]
  },
  {
   "cell_type": "code",
   "execution_count": 3,
   "id": "6e3fc372-f3c3-493b-85ee-36b8462c8e9c",
   "metadata": {},
   "outputs": [
    {
     "name": "stdout",
     "output_type": "stream",
     "text": [
      "0\n",
      "1\n",
      "2\n",
      "3\n",
      "4\n",
      "5\n",
      "6\n",
      "7\n",
      "8\n",
      "9\n"
     ]
    }
   ],
   "source": [
    "# Example -\n",
    "\n",
    "for i in range ( 0, 10 ) : # range ( start, stop ) \n",
    "    print (i) "
   ]
  },
  {
   "cell_type": "markdown",
   "id": "454ddf4b-7d5d-47b8-994b-2f9aae21fc3b",
   "metadata": {},
   "source": [
    "range(0, 10, 1):\n",
    "\n",
    "This form of range() specifies the start, end, and step values for the sequence.\n",
    "\n",
    "It generates a sequence of numbers starting from the specified start value (0), up to, but not including, the specified end value (10), incrementing by the specified step value (1)."
   ]
  },
  {
   "cell_type": "code",
   "execution_count": 4,
   "id": "a54da6f4-e34c-48dd-8341-eb480bf57f01",
   "metadata": {},
   "outputs": [
    {
     "name": "stdout",
     "output_type": "stream",
     "text": [
      "0\n",
      "1\n",
      "2\n",
      "3\n",
      "4\n",
      "5\n",
      "6\n",
      "7\n",
      "8\n",
      "9\n"
     ]
    }
   ],
   "source": [
    "# Example -\n",
    "\n",
    "for i in range (0, 10, 1 ) : # using range ( start, stop, step)\n",
    "    print (i) "
   ]
  },
  {
   "cell_type": "markdown",
   "id": "3fe7cb4f-ec3f-4b3f-87f8-9fdee4449879",
   "metadata": {},
   "source": [
    "# 12. Write a short program that prints the numbers 1 to 10 using a for loop. Then write an equivalent program that prints the numbers 1 to 10 using a while loop."
   ]
  },
  {
   "cell_type": "markdown",
   "id": "e5285662-650d-45d2-8637-8386382f92c6",
   "metadata": {},
   "source": [
    "Answer - \n",
    "\n",
    "Here is the program using a 'for' loop to print the numbers 1 to 10."
   ]
  },
  {
   "cell_type": "code",
   "execution_count": 5,
   "id": "da524878-c6a6-43fd-8315-bc8607eb5ce9",
   "metadata": {},
   "outputs": [
    {
     "name": "stdout",
     "output_type": "stream",
     "text": [
      "1\n",
      "2\n",
      "3\n",
      "4\n",
      "5\n",
      "6\n",
      "7\n",
      "8\n",
      "9\n",
      "10\n"
     ]
    }
   ],
   "source": [
    "for i in range(1, 11):\n",
    "    print(i)"
   ]
  },
  {
   "cell_type": "markdown",
   "id": "b97f02a7-7348-44f2-ae53-441969bc5465",
   "metadata": {},
   "source": [
    "And here is the equivalent program using a 'while' loop to achieve the same result."
   ]
  },
  {
   "cell_type": "code",
   "execution_count": 6,
   "id": "ef23b174-a1b9-4770-ac09-a1b2ced681e5",
   "metadata": {},
   "outputs": [
    {
     "name": "stdout",
     "output_type": "stream",
     "text": [
      "1\n",
      "2\n",
      "3\n",
      "4\n",
      "5\n",
      "6\n",
      "7\n",
      "8\n",
      "9\n",
      "10\n"
     ]
    }
   ],
   "source": [
    "num = 1\n",
    "while num <= 10:\n",
    "    print(num)\n",
    "    num += 1"
   ]
  },
  {
   "cell_type": "markdown",
   "id": "d9b0e891-3938-4445-89ec-66e50e4fb05e",
   "metadata": {},
   "source": [
    "# 13. If you had a function named bacon() inside a module named spam, how would you call it after importing spam?"
   ]
  },
  {
   "cell_type": "markdown",
   "id": "5f9a0721-67ca-48a1-9a1c-b0a74374cfc8",
   "metadata": {},
   "source": [
    "Answer -"
   ]
  },
  {
   "cell_type": "code",
   "execution_count": 10,
   "id": "c9a5b1e3-fdd0-41c0-a104-6a986bba4faf",
   "metadata": {},
   "outputs": [
    {
     "ename": "ModuleNotFoundError",
     "evalue": "No module named 'spam'",
     "output_type": "error",
     "traceback": [
      "\u001b[0;31m---------------------------------------------------------------------------\u001b[0m",
      "\u001b[0;31mModuleNotFoundError\u001b[0m                       Traceback (most recent call last)",
      "Cell \u001b[0;32mIn [10], line 3\u001b[0m\n\u001b[1;32m      1\u001b[0m \u001b[38;5;66;03m# We have function names bacon()\u001b[39;00m\n\u001b[0;32m----> 3\u001b[0m \u001b[38;5;28;01mimport\u001b[39;00m \u001b[38;5;21;01mspam\u001b[39;00m\n",
      "\u001b[0;31mModuleNotFoundError\u001b[0m: No module named 'spam'"
     ]
    }
   ],
   "source": [
    "# We have function names bacon()\n",
    "\n",
    "import spam "
   ]
  },
  {
   "cell_type": "code",
   "execution_count": null,
   "id": "b207c865-2095-4548-b841-045b59b9fd0d",
   "metadata": {},
   "outputs": [],
   "source": []
  }
 ],
 "metadata": {
  "kernelspec": {
   "display_name": "Python 3 (ipykernel)",
   "language": "python",
   "name": "python3"
  },
  "language_info": {
   "codemirror_mode": {
    "name": "ipython",
    "version": 3
   },
   "file_extension": ".py",
   "mimetype": "text/x-python",
   "name": "python",
   "nbconvert_exporter": "python",
   "pygments_lexer": "ipython3",
   "version": "3.10.6"
  }
 },
 "nbformat": 4,
 "nbformat_minor": 5
}
