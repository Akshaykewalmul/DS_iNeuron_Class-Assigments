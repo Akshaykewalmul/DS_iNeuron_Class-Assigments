{
 "cells": [
  {
   "cell_type": "markdown",
   "id": "a5a31c2a-e720-422e-b358-e02c33ee58e5",
   "metadata": {},
   "source": [
    "# ASSIGNMENT_03"
   ]
  },
  {
   "cell_type": "markdown",
   "id": "df59cdad-45a7-45ae-973d-a245c83b01f9",
   "metadata": {},
   "source": [
    "# 1. Why are functions advantageous to have in your programs?"
   ]
  },
  {
   "cell_type": "markdown",
   "id": "b954941c-02ac-4b7d-b03c-7fc94cb52fc2",
   "metadata": {},
   "source": [
    "Answer -\n",
    "\n",
    "Functions reduce the need for duplicate code. This makes programs shorter, easier to read, and easier to update.\n",
    "\n",
    "Using functions in your programs promotes code organization, reusability, abstraction, encapsulation, readability, maintainability, testing, debugging, and collaboration, making your code more efficient and scalable."
   ]
  },
  {
   "cell_type": "markdown",
   "id": "bc1818eb-9afe-4419-9ce5-55511b8e6595",
   "metadata": {},
   "source": [
    "# 2. When does the code in a function run: when it's specified or when it's called?"
   ]
  },
  {
   "cell_type": "markdown",
   "id": "3226f424-a312-4ae5-97d7-021d1438755b",
   "metadata": {},
   "source": [
    "Answer -\n",
    "\n",
    "The code in a function executes when the function is called, not when the function is defined."
   ]
  },
  {
   "cell_type": "markdown",
   "id": "d9555996-e78b-4b69-939f-f5fdddebba91",
   "metadata": {},
   "source": [
    "# 3. What statement creates a function?"
   ]
  },
  {
   "cell_type": "markdown",
   "id": "2e8155d4-df18-4986-ad00-142b5d27ec7d",
   "metadata": {},
   "source": [
    "Answer -\n",
    "\n",
    "By using the function declaration statement, you can define your own functions to encapsulate specific tasks or operations within your program.\n",
    "\n",
    "The def statement defines (i.e. creates) a function.\n",
    "\n",
    "Once the function is defined, you can call it in your code to execute the enclosed logic whenever needed.\n",
    "\n",
    "Example,\n",
    "\n",
    "def my_func():\n",
    "\n",
    "pass\n"
   ]
  },
  {
   "cell_type": "markdown",
   "id": "bdcdbc91-18e3-4c47-9ea0-aa4fe879b089",
   "metadata": {},
   "source": [
    "# 4. What is the difference between a function and a function call?"
   ]
  },
  {
   "cell_type": "markdown",
   "id": "2fd8c2a6-f8c5-476e-a077-083450851080",
   "metadata": {},
   "source": [
    "Answer -\n",
    "\n",
    "Function :\n",
    "\n",
    "A function is a block of code that is defined and created to perform a specific task or set of operations.\n",
    "\n",
    "It encapsulates a sequence of instructions that can be executed when the function is called. "
   ]
  },
  {
   "cell_type": "code",
   "execution_count": 4,
   "id": "b348edc5-8a2b-4a24-b10f-7925f24fbe8a",
   "metadata": {},
   "outputs": [],
   "source": [
    "#def of func\n",
    "\n",
    "def my_func(): \n",
    "    pass "
   ]
  },
  {
   "cell_type": "markdown",
   "id": "bf6b9d32-8b8f-453a-8fd2-e61ed544d93a",
   "metadata": {},
   "source": [
    "Function Call :\n",
    "\n",
    "A function call, also known as a function invocation, is the act of executing a function and initiating its code block to perform the desired actions. \n",
    "\n",
    "It involves using the function's name followed by parentheses \"()\". "
   ]
  },
  {
   "cell_type": "code",
   "execution_count": 6,
   "id": "bdd64c4d-7d6b-4372-b29b-b1eb139c85e8",
   "metadata": {},
   "outputs": [],
   "source": [
    "my_func() #calling of function"
   ]
  },
  {
   "cell_type": "markdown",
   "id": "29c3dfb4-4a8b-4d88-b699-c597e575108d",
   "metadata": {},
   "source": [
    "# 5. How many global scopes are there in a Python program? How many local scopes?"
   ]
  },
  {
   "cell_type": "markdown",
   "id": "180f86de-24ef-4f7e-8320-98f10769946e",
   "metadata": {},
   "source": [
    "Answer -\n",
    "\n",
    "There's only one global Python scope per program execution. This scope remains in existence until the program terminates and all its names are forgotten. Otherwise, the next time you were to run the program, the names would remember their values from the previous run.\n",
    "\n",
    "i.e.\n",
    "\n",
    "Python programs have one global scope.\n",
    "\n",
    "Local scopes are created whenever a function is called or when a block statement is encountered, resulting in multiple local scopes within a program."
   ]
  },
  {
   "cell_type": "markdown",
   "id": "e8b96210-6de9-4331-b20e-49f0acbdffab",
   "metadata": {},
   "source": [
    "# 6. What happens to variables in a local scope when the function call returns?"
   ]
  },
  {
   "cell_type": "markdown",
   "id": "3c3ba9a6-738f-483a-b2a9-fd367a474abe",
   "metadata": {},
   "source": [
    "Answer -\n",
    "\n",
    "When a function call returns, the local scope associated with that function is destroyed."
   ]
  },
  {
   "cell_type": "markdown",
   "id": "8e36d88c-43c4-489f-b607-06e07e0ace9d",
   "metadata": {},
   "source": [
    "# 7. What is the concept of a return value? Is it possible to have a return value in an expression?"
   ]
  },
  {
   "cell_type": "markdown",
   "id": "8ea1a016-6fc5-4c6b-a074-47fb44a225d3",
   "metadata": {},
   "source": [
    "Answer -\n",
    "\n",
    "A return value is the value that a function call evaluates to. Like any value, a return value can be used as part of an expression."
   ]
  },
  {
   "cell_type": "markdown",
   "id": "873fbd87-c05f-46fc-8ad1-04548e303016",
   "metadata": {},
   "source": [
    "# 8. If a function does not have a return statement, what is the return value of a call to that function?"
   ]
  },
  {
   "cell_type": "markdown",
   "id": "a8bdd71f-5064-40d8-94ba-782f36deb9b7",
   "metadata": {},
   "source": [
    "Answer -\n",
    "\n",
    "\n",
    "If a function does not have a return statement, the return value of a call to that function is None.\n",
    "\n",
    "None is a special value that represents the absence of a value."
   ]
  },
  {
   "cell_type": "markdown",
   "id": "023a0c05-85fd-43f9-86a6-398833506091",
   "metadata": {},
   "source": [
    "# 9. How do you make a function variable refer to the global variable?"
   ]
  },
  {
   "cell_type": "markdown",
   "id": "c122bbdf-5939-4d9c-8218-631da85758a7",
   "metadata": {},
   "source": [
    "Answer -\n",
    "\n",
    "To make a function variable refer to a global variable in Python, you can use the global keyword to declare the variable as a global variable within the function.\n",
    "\n",
    "This allows you to access and modify the global variable within the function's scope."
   ]
  },
  {
   "cell_type": "code",
   "execution_count": 8,
   "id": "b8c52117-6f5a-403e-a977-c24958e24d51",
   "metadata": {},
   "outputs": [
    {
     "name": "stdout",
     "output_type": "stream",
     "text": [
      "30\n"
     ]
    }
   ],
   "source": [
    "# Example -\n",
    "\n",
    "global_var = 20\n",
    "\n",
    "def modify_global():\n",
    "    global global_var  # Declare the variable as global\n",
    "    global_var += 10   # Modify the global variable\n",
    "\n",
    "modify_global()\n",
    "print(global_var)  # Output: 30"
   ]
  },
  {
   "cell_type": "markdown",
   "id": "b8a9e063-099f-4d50-904e-d2a15c1be20f",
   "metadata": {},
   "source": [
    "# 10. What is the data type of None?"
   ]
  },
  {
   "cell_type": "markdown",
   "id": "c66783a4-032a-4376-960b-b2dca9aff4ba",
   "metadata": {},
   "source": [
    "Answer -\n",
    "\n",
    "The data type of None is NoneType."
   ]
  },
  {
   "cell_type": "markdown",
   "id": "e8a804d4-a0ce-444e-9e4e-5959f3507915",
   "metadata": {},
   "source": [
    "# 11. What does the sentence import areallyourpetsnamederic do?"
   ]
  },
  {
   "cell_type": "markdown",
   "id": "34524576-3061-4046-9303-5be3882eebae",
   "metadata": {},
   "source": [
    "Answer -\n",
    "\n",
    "That import statement imports a module named areallyourpetsnamederic. (But a module of this name doesnt exists in Python)"
   ]
  },
  {
   "cell_type": "code",
   "execution_count": 9,
   "id": "f4fe03ec-e341-44f1-b133-c74e6f00a8a2",
   "metadata": {},
   "outputs": [
    {
     "ename": "ModuleNotFoundError",
     "evalue": "No module named 'areallyourpetsnamederic'",
     "output_type": "error",
     "traceback": [
      "\u001b[0;31m---------------------------------------------------------------------------\u001b[0m",
      "\u001b[0;31mModuleNotFoundError\u001b[0m                       Traceback (most recent call last)",
      "Cell \u001b[0;32mIn [9], line 1\u001b[0m\n\u001b[0;32m----> 1\u001b[0m \u001b[38;5;28;01mimport\u001b[39;00m \u001b[38;5;21;01mareallyourpetsnamederic\u001b[39;00m\n",
      "\u001b[0;31mModuleNotFoundError\u001b[0m: No module named 'areallyourpetsnamederic'"
     ]
    }
   ],
   "source": [
    "import areallyourpetsnamederic"
   ]
  },
  {
   "cell_type": "markdown",
   "id": "3210e5d5-368a-41e4-9a89-4d679c72191d",
   "metadata": {},
   "source": [
    "# 12. If you had a bacon() feature in a spam module, what would you call it after importing spam?"
   ]
  },
  {
   "cell_type": "markdown",
   "id": "cdb34929-06b6-4efb-9ebe-a8ccccf4e369",
   "metadata": {},
   "source": [
    "Answer -\n",
    "\n",
    "import spam\n",
    "\n",
    "spam.bacon()"
   ]
  },
  {
   "cell_type": "markdown",
   "id": "7b2fe301-e494-4d02-bd0b-1d495018151e",
   "metadata": {},
   "source": [
    "# 13. What can you do to save a programme from crashing if it encounters an error?"
   ]
  },
  {
   "cell_type": "markdown",
   "id": "06425405-e878-49db-b518-318132e1eea1",
   "metadata": {},
   "source": [
    "Answer -\n",
    "\n",
    "We can use try except clause to save a program from crashing."
   ]
  },
  {
   "cell_type": "markdown",
   "id": "32ecb56e-4569-4b63-b387-d2bbdf0b289b",
   "metadata": {},
   "source": [
    "# 14. What is the purpose of the try clause? What is the purpose of the except clause?"
   ]
  },
  {
   "cell_type": "markdown",
   "id": "981e997e-ba15-43f3-af68-effbd822ae9c",
   "metadata": {},
   "source": [
    "Answer -\n",
    "\n",
    "The try block lets you test a block of code for errors. \n",
    "\n",
    "The except block lets you handle the error. \n",
    "\n",
    "The else block lets you execute code when there is no error.\n",
    "\n",
    "The finally block lets you execute code, regardless of the result of the try- and except blocks.\n",
    "\n",
    "i.e.\n",
    "\n",
    "Try and Except clause is used to handle the errors within our code . The try block is used to check some code for errors i.e the code inside the try block will execute when there is no error in the program. Whereas the code inside the except block will execute whenever the program encounters some error in the try block."
   ]
  },
  {
   "cell_type": "code",
   "execution_count": null,
   "id": "a6b7cc44-090b-47ad-b107-f669f32aff9f",
   "metadata": {},
   "outputs": [],
   "source": []
  }
 ],
 "metadata": {
  "kernelspec": {
   "display_name": "Python 3 (ipykernel)",
   "language": "python",
   "name": "python3"
  },
  "language_info": {
   "codemirror_mode": {
    "name": "ipython",
    "version": 3
   },
   "file_extension": ".py",
   "mimetype": "text/x-python",
   "name": "python",
   "nbconvert_exporter": "python",
   "pygments_lexer": "ipython3",
   "version": "3.10.6"
  }
 },
 "nbformat": 4,
 "nbformat_minor": 5
}
