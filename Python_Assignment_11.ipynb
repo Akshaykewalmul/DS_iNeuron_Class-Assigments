{
 "cells": [
  {
   "cell_type": "markdown",
   "id": "4e15b4e7-6f80-40cc-a6da-8d4b509f29ae",
   "metadata": {},
   "source": [
    "# ASSIGNMENT_11"
   ]
  },
  {
   "cell_type": "markdown",
   "id": "23c146ff-a9b3-4897-afe2-5995f26d3698",
   "metadata": {},
   "source": [
    "# 1. What is the role of the 'else' block in a try-except statement? Provide an example scenario where it would be useful.\n",
    "\n",
    "Answer -"
   ]
  },
  {
   "cell_type": "markdown",
   "id": "75db48ce-a9b3-497a-9990-d5865333ac8c",
   "metadata": {},
   "source": [
    "In a try-except statement, the 'else' block is an optional block of code that follows the 'try' and 'except' blocks. \n",
    "\n",
    "It is executed if no exceptions are raised in the 'try' block. The purpose of the 'else' block is to specify the code that should run when the 'try' block executes successfully, without any exceptions being raised.\n",
    "\n",
    "Here's an example scenario to illustrate the use of the 'else' block:"
   ]
  },
  {
   "cell_type": "code",
   "execution_count": 2,
   "id": "0c1bc2f2-71c9-4269-b51a-06e5fa449da5",
   "metadata": {},
   "outputs": [
    {
     "name": "stdin",
     "output_type": "stream",
     "text": [
      "Enter the first number:  40\n",
      "Enter the second number:  0\n"
     ]
    },
    {
     "name": "stdout",
     "output_type": "stream",
     "text": [
      "Error: Cannot divide by zero.\n"
     ]
    }
   ],
   "source": [
    "try:\n",
    "    num1 = int(input(\"Enter the first number: \"))\n",
    "    num2 = int(input(\"Enter the second number: \"))\n",
    "    result = num1 / num2\n",
    "except ValueError:\n",
    "    print(\"Invalid input. Please enter a valid number.\")\n",
    "except ZeroDivisionError:\n",
    "    print(\"Error: Cannot divide by zero.\")\n",
    "else:\n",
    "    print(\"The division result is:\", result)"
   ]
  },
  {
   "cell_type": "code",
   "execution_count": 3,
   "id": "6650d49c-aa16-4426-839b-bb6319a64e47",
   "metadata": {},
   "outputs": [
    {
     "name": "stdin",
     "output_type": "stream",
     "text": [
      "Enter the first number:  45\n",
      "Enter the second number:  9\n"
     ]
    },
    {
     "name": "stdout",
     "output_type": "stream",
     "text": [
      "The division result is: 5.0\n"
     ]
    }
   ],
   "source": [
    "try:\n",
    "    num1 = int(input(\"Enter the first number: \"))\n",
    "    num2 = int(input(\"Enter the second number: \"))\n",
    "    result = num1 / num2\n",
    "except ValueError:\n",
    "    print(\"Invalid input. Please enter a valid number.\")\n",
    "except ZeroDivisionError:\n",
    "    print(\"Error: Cannot divide by zero.\")\n",
    "else:\n",
    "    print(\"The division result is:\", result)"
   ]
  },
  {
   "cell_type": "code",
   "execution_count": 4,
   "id": "75744365-3622-45fa-899b-35f9d067700b",
   "metadata": {},
   "outputs": [
    {
     "name": "stdin",
     "output_type": "stream",
     "text": [
      "Enter the first number:  30\n",
      "Enter the second number:  a\n"
     ]
    },
    {
     "name": "stdout",
     "output_type": "stream",
     "text": [
      "Invalid input. Please enter a valid number.\n"
     ]
    }
   ],
   "source": [
    "try:\n",
    "    num1 = int(input(\"Enter the first number: \"))\n",
    "    num2 = int(input(\"Enter the second number: \"))\n",
    "    result = num1 / num2\n",
    "except ValueError:\n",
    "    print(\"Invalid input. Please enter a valid number.\")\n",
    "except ZeroDivisionError:\n",
    "    print(\"Error: Cannot divide by zero.\")\n",
    "else:\n",
    "    print(\"The division result is:\", result)"
   ]
  },
  {
   "cell_type": "markdown",
   "id": "4db65a86-181c-499e-b71e-743de8e9808d",
   "metadata": {},
   "source": [
    "In this example, the user is prompted to enter two numbers. The code attempts to divide the first number by the second number. If the user enters a non-numeric value, a ValueError will be raised, and if the user enters zero as the second number, a ZeroDivisionError will be raised. However, if the user enters valid numbers and the division operation is successful, no exceptions will be raised.\n",
    "\n",
    "In such a case, the code within the 'else' block will be executed, printing the division result. The 'else' block provides a way to differentiate between the code that should run when an exception occurs (handled in the 'except' block) and the code that should run when no exceptions occur (handled in the 'else' block)."
   ]
  },
  {
   "cell_type": "markdown",
   "id": "1b39ed02-9f63-45ef-a900-4099180cc35a",
   "metadata": {},
   "source": [
    "# 2. Can a try-except block be nested inside another try-except block? Explain with an example.\n",
    "\n",
    "Answer -"
   ]
  },
  {
   "cell_type": "markdown",
   "id": "0ce09296-076a-4339-bb2e-0d95c6b5cafe",
   "metadata": {},
   "source": [
    "Yes, a try-except block can be nested inside another try-except block. \n",
    "\n",
    "This is known as nested exception handling. It allows for more fine-grained handling of exceptions in different levels of code.\n",
    "\n",
    "Here's an example to illustrate nested try-except blocks:"
   ]
  },
  {
   "cell_type": "code",
   "execution_count": 5,
   "id": "c5915ae9-78ce-46fd-8364-aeaf1db7711f",
   "metadata": {},
   "outputs": [
    {
     "name": "stdin",
     "output_type": "stream",
     "text": [
      "Enter the outer number:  10\n",
      "Enter the inner number:  0\n"
     ]
    },
    {
     "name": "stdout",
     "output_type": "stream",
     "text": [
      "Error: Cannot divide by zero for the inner number.\n"
     ]
    }
   ],
   "source": [
    "try:\n",
    "    outer_num = int(input(\"Enter the outer number: \"))\n",
    "    try:\n",
    "        inner_num = int(input(\"Enter the inner number: \"))\n",
    "        result = outer_num / inner_num\n",
    "    except ValueError:\n",
    "        print(\"Invalid input for the inner number. Please enter a valid number.\")\n",
    "    except ZeroDivisionError:\n",
    "        print(\"Error: Cannot divide by zero for the inner number.\")\n",
    "    else:\n",
    "        print(\"The division result for the inner numbers is:\", result)\n",
    "except ValueError:\n",
    "    print(\"Invalid input for the outer number. Please enter a valid number.\")\n",
    "except ZeroDivisionError:\n",
    "    print(\"Error: Cannot divide by zero for the outer number.\")"
   ]
  },
  {
   "cell_type": "code",
   "execution_count": 6,
   "id": "e8d33552-3847-493a-8034-ac64867ecfbe",
   "metadata": {},
   "outputs": [
    {
     "name": "stdin",
     "output_type": "stream",
     "text": [
      "Enter the outer number:  10\n",
      "Enter the inner number:  a\n"
     ]
    },
    {
     "name": "stdout",
     "output_type": "stream",
     "text": [
      "Invalid input for the inner number. Please enter a valid number.\n"
     ]
    }
   ],
   "source": [
    "try:\n",
    "    outer_num = int(input(\"Enter the outer number: \"))\n",
    "    try:\n",
    "        inner_num = int(input(\"Enter the inner number: \"))\n",
    "        result = outer_num / inner_num\n",
    "    except ValueError:\n",
    "        print(\"Invalid input for the inner number. Please enter a valid number.\")\n",
    "    except ZeroDivisionError:\n",
    "        print(\"Error: Cannot divide by zero for the inner number.\")\n",
    "    else:\n",
    "        print(\"The division result for the inner numbers is:\", result)\n",
    "except ValueError:\n",
    "    print(\"Invalid input for the outer number. Please enter a valid number.\")\n",
    "except ZeroDivisionError:\n",
    "    print(\"Error: Cannot divide by zero for the outer number.\")"
   ]
  },
  {
   "cell_type": "code",
   "execution_count": 7,
   "id": "4bc44d74-a9f4-4294-801b-ab2de1c523f2",
   "metadata": {},
   "outputs": [
    {
     "name": "stdin",
     "output_type": "stream",
     "text": [
      "Enter the outer number:  10\n",
      "Enter the inner number:  5\n"
     ]
    },
    {
     "name": "stdout",
     "output_type": "stream",
     "text": [
      "The division result for the inner numbers is: 2.0\n"
     ]
    }
   ],
   "source": [
    "try:\n",
    "    outer_num = int(input(\"Enter the outer number: \"))\n",
    "    try:\n",
    "        inner_num = int(input(\"Enter the inner number: \"))\n",
    "        result = outer_num / inner_num\n",
    "    except ValueError:\n",
    "        print(\"Invalid input for the inner number. Please enter a valid number.\")\n",
    "    except ZeroDivisionError:\n",
    "        print(\"Error: Cannot divide by zero for the inner number.\")\n",
    "    else:\n",
    "        print(\"The division result for the inner numbers is:\", result)\n",
    "except ValueError:\n",
    "    print(\"Invalid input for the outer number. Please enter a valid number.\")\n",
    "except ZeroDivisionError:\n",
    "    print(\"Error: Cannot divide by zero for the outer number.\")"
   ]
  },
  {
   "cell_type": "code",
   "execution_count": 8,
   "id": "23497033-18e9-4b3b-8105-1b957f88b356",
   "metadata": {},
   "outputs": [
    {
     "name": "stdin",
     "output_type": "stream",
     "text": [
      "Enter the outer number:  0\n",
      "Enter the inner number:  10\n"
     ]
    },
    {
     "name": "stdout",
     "output_type": "stream",
     "text": [
      "The division result for the inner numbers is: 0.0\n"
     ]
    }
   ],
   "source": [
    "try:\n",
    "    outer_num = int(input(\"Enter the outer number: \"))\n",
    "    try:\n",
    "        inner_num = int(input(\"Enter the inner number: \"))\n",
    "        result = outer_num / inner_num\n",
    "    except ValueError:\n",
    "        print(\"Invalid input for the inner number. Please enter a valid number.\")\n",
    "    except ZeroDivisionError:\n",
    "        print(\"Error: Cannot divide by zero for the inner number.\")\n",
    "    else:\n",
    "        print(\"The division result for the inner numbers is:\", result)\n",
    "except ValueError:\n",
    "    print(\"Invalid input for the outer number. Please enter a valid number.\")\n",
    "except ZeroDivisionError:\n",
    "    print(\"Error: Cannot divide by zero for the outer number.\")"
   ]
  },
  {
   "cell_type": "code",
   "execution_count": 9,
   "id": "c6cb081d-6aed-471f-b07a-2b4ee1e10e4d",
   "metadata": {},
   "outputs": [
    {
     "name": "stdin",
     "output_type": "stream",
     "text": [
      "Enter the outer number:  a\n"
     ]
    },
    {
     "name": "stdout",
     "output_type": "stream",
     "text": [
      "Invalid input for the outer number. Please enter a valid number.\n"
     ]
    }
   ],
   "source": [
    "try:\n",
    "    outer_num = int(input(\"Enter the outer number: \"))\n",
    "    try:\n",
    "        inner_num = int(input(\"Enter the inner number: \"))\n",
    "        result = outer_num / inner_num\n",
    "    except ValueError:\n",
    "        print(\"Invalid input for the inner number. Please enter a valid number.\")\n",
    "    except ZeroDivisionError:\n",
    "        print(\"Error: Cannot divide by zero for the inner number.\")\n",
    "    else:\n",
    "        print(\"The division result for the inner numbers is:\", result)\n",
    "except ValueError:\n",
    "    print(\"Invalid input for the outer number. Please enter a valid number.\")\n",
    "except ZeroDivisionError:\n",
    "    print(\"Error: Cannot divide by zero for the outer number.\")"
   ]
  },
  {
   "cell_type": "markdown",
   "id": "692cad4a-c388-490b-bc74-506499fe7009",
   "metadata": {},
   "source": [
    "In this example, there are two levels of exception handling. The outer try-except block handles exceptions related to the outer number input, and the inner try-except block handles exceptions related to the inner number input.\n",
    "\n",
    "If the user enters a non-numeric value for the outer number, a ValueError will be raised, and if the user enters zero for the outer number, a ZeroDivisionError will be raised. The corresponding except blocks in the outer try-except block will handle these exceptions.\n",
    "\n",
    "Similarly, if the user enters a non-numeric value for the inner number, a ValueError will be raised, and if the user enters zero for the inner number, a ZeroDivisionError will be raised. The corresponding except blocks in the inner try-except block will handle these exceptions.\n",
    "\n",
    "By nesting try-except blocks, you can handle exceptions at different levels of your code, providing more specific error messages or performing different actions based on the context in which the exception occurs."
   ]
  },
  {
   "cell_type": "markdown",
   "id": "6434e06a-76a1-4153-bbeb-3601c7d063a9",
   "metadata": {},
   "source": [
    "#  3. How can you create a custom exception class in Python? Provide an example that demonstrates its usage.\n",
    "\n",
    "Answer -"
   ]
  },
  {
   "cell_type": "markdown",
   "id": "12cc7336-3212-4614-a575-8ca4e6b3260a",
   "metadata": {},
   "source": [
    "To create a custom exception class in Python, you can define a new class that inherits from the built-in Exception class or any of its subclasses. By creating a custom exception class, you can define your own exception types with specific names, properties, and behaviors.\n",
    "\n",
    "Here's an example of creating a custom exception class and demonstrating its usage:"
   ]
  },
  {
   "cell_type": "code",
   "execution_count": 10,
   "id": "5b8b6209-94db-490e-90aa-670bcc4087ae",
   "metadata": {},
   "outputs": [
    {
     "name": "stdout",
     "output_type": "stream",
     "text": [
      "CustomError: Cannot divide by zero\n"
     ]
    }
   ],
   "source": [
    "class CustomError(Exception):\n",
    "    def __init__(self, message):\n",
    "        self.message = message\n",
    "\n",
    "    def __str__(self):\n",
    "        return f'CustomError: {self.message}'\n",
    "\n",
    "# Example usage of the custom exception class\n",
    "def divide_numbers(num1, num2):\n",
    "    if num2 == 0:\n",
    "        raise CustomError(\"Cannot divide by zero\")\n",
    "    return num1 / num2\n",
    "\n",
    "try:\n",
    "    result = divide_numbers(10, 0)\n",
    "except CustomError as e:\n",
    "    print(e)"
   ]
  },
  {
   "cell_type": "markdown",
   "id": "f6985b42-5171-470e-872e-3adfe827b686",
   "metadata": {},
   "source": [
    "The divide_numbers function demonstrates the usage of the custom exception class. If the second argument is zero, it raises a CustomError exception with the message \"Cannot divide by zero\".\n",
    "\n",
    "In the try-except block, we catch the CustomError exception and print the error message using the __str__ method of the exception instance.\n",
    "\n",
    "By defining and using custom exception classes, you can create more specific and meaningful exceptions that align with your application's requirements and improve the error handling and debugging process."
   ]
  },
  {
   "cell_type": "markdown",
   "id": "c7a6003c-2699-49a6-88f6-4ef730b3cea5",
   "metadata": {},
   "source": [
    "# 4. What are some common exceptions that are built-in to Python?\n",
    "\n",
    "Answer -"
   ]
  },
  {
   "cell_type": "markdown",
   "id": "a488210f-4f32-4d8f-bf83-e564ce4e6c50",
   "metadata": {},
   "source": [
    "Python provides a variety of built-in exceptions that cover common error conditions that can occur during program execution. Here are some commonly used built-in exceptions in Python:\n",
    "\n",
    "SyntaxError : Raised when there is a syntax error in the code.\n",
    "\n",
    "TypeError : Raised when an operation or function is applied to an object of inappropriate type.\n",
    "\n",
    "NameError : Raised when a local or global name is not found.\n",
    "\n",
    "IndexError : Raised when a sequence subscript is out of range.\n",
    "\n",
    "KeyError : Raised when a dictionary key is not found.\n",
    "\n",
    "ValueError : Raised when a function receives an argument of the correct type but an inappropriate value.\n",
    "\n",
    "ZeroDivisionError : Raised when division or modulo operation is performed with zero as the divisor.\n",
    "\n",
    "FileNotFoundError : Raised when a file or directory is requested but cannot be found.\n",
    "\n",
    "ImportError : Raised when an import statement fails to find and load a module.\n",
    "\n",
    "AssertionError : Raised when an assert statement fails.\n",
    " \n",
    "These are just a few examples of the many built-in exceptions available in Python. Each exception class provides specific information about the error condition, allowing you to handle and respond to different types of exceptions appropriately in your code. \n",
    "\n",
    "It's a good practice to catch and handle exceptions explicitly to provide meaningful error messages and handle exceptional situations gracefully."
   ]
  },
  {
   "cell_type": "markdown",
   "id": "2b4e473f-3d5a-4bb0-afac-9173746714f9",
   "metadata": {},
   "source": [
    "#  5. What is logging in Python, and why is it important in software development?\n",
    "\n",
    "Answer -"
   ]
  },
  {
   "cell_type": "markdown",
   "id": "329f1c9a-cc8f-4188-9fef-478ce03d8011",
   "metadata": {},
   "source": [
    "Logging in Python is a built-in module that provides a flexible and configurable way to record log messages from a program. It allows developers to track the execution flow, record important events, and capture error information during the execution of a software application.\n",
    "\n",
    "\n",
    "Debugging and troubleshooting : \n",
    "\n",
    "Logging allows developers to insert messages at specific points in the code to track the program's execution flow. It helps in identifying issues, diagnosing problems, and understanding the state of the application during runtime.\n",
    "\n",
    "Error and exception tracking : \n",
    "\n",
    "By logging errors and exceptions, developers can capture valuable information such as the error message, stack trace, and contextual data when an error occurs. This information can be crucial for debugging and fixing issues in production environments.\n",
    "\n",
    "Monitoring and auditing : \n",
    "\n",
    "Logging provides a way to monitor the application's behavior, performance, and usage patterns. It enables developers and system administrators to track important metrics, identify bottlenecks, and gain insights into the application's health and performance.\n",
    "\n",
    "Security and compliance : \n",
    "\n",
    "Logging can play a significant role in security-related activities. By logging security events and actions, developers can monitor and audit user activities, detect unauthorized access attempts, and ensure compliance with regulatory requirements.\n",
    "\n",
    "Historical analysis and reporting : \n",
    "\n",
    "Log messages serve as a historical record of the application's events and activities. They can be used for analysis, generating reports, identifying trends, and gaining insights into the application's behavior over time.\n",
    "\n",
    "Application monitoring and alerting : \n",
    "\n",
    "Logging integrates well with monitoring and alerting systems. Developers can configure log levels and filters to generate notifications or trigger alerts based on specific events or error conditions.\n",
    "\n",
    "Overall, logging in Python is a powerful tool for developers to gather valuable information about their application's runtime behavior, diagnose issues, and ensure the robustness, security, and performance of their software. It facilitates effective development, maintenance, and support of software applications throughout their lifecycle."
   ]
  },
  {
   "cell_type": "markdown",
   "id": "652a7723-597d-4991-836d-4f68d41b40fa",
   "metadata": {},
   "source": [
    "#  6. Explain the purpose of log levels in Python logging and provide examples of when each log level would be appropriate.\n",
    "\n",
    "Answer -"
   ]
  },
  {
   "cell_type": "markdown",
   "id": "47157a39-84c3-449d-bb78-76cd9efe4833",
   "metadata": {},
   "source": [
    "In Python logging, log levels provide a way to categorize log messages based on their severity or importance. Each log level represents a different level of detail or criticality, allowing developers to filter and manage log messages based on their desired granularity. The available log levels in Python logging, in increasing order of severity, are as follows:\n",
    "\n",
    "DEBUG : \n",
    "\n",
    "The lowest level of severity. Used for detailed information, usually for debugging purposes. These messages are typically only needed during development and are not suitable for production environments. Example usage: Printing variable values for debugging or tracing code execution paths.\n",
    "\n",
    "INFO : \n",
    "\n",
    "Used for informational messages that highlight the progress of the application or important milestones. These messages provide general information about the application's state or actions that can be useful during development and production. Example usage: Logging the start and completion of important processes or significant application events.\n",
    "\n",
    "WARNING : \n",
    "\n",
    "Indicates potential issues or conditions that may cause problems in the future but do not necessarily indicate an error. These messages help in identifying and addressing situations that might lead to unexpected behavior. Example usage: Warning about the use of deprecated functions or reporting recoverable errors.\n",
    "\n",
    "ERROR : \n",
    "\n",
    "Indicates an error has occurred but does not necessarily halt the execution of the program. These messages typically highlight issues that need attention but allow the program to continue running. Example usage: Logging exceptions, validation errors, or other unexpected but recoverable conditions.\n",
    "\n",
    "CRITICAL : \n",
    "\n",
    "The highest level of severity. Indicates a critical error or a condition that may cause the program to terminate. These messages often indicate a severe failure or an unrecoverable state. Example usage: Logging fatal errors, system failures, or conditions that require immediate attention.\n",
    "\n",
    "By assigning appropriate log levels to log messages, developers can control the verbosity of the logs based on the desired level of detail or the importance of the logged events. For example, during development and debugging, it is common to set the log level to DEBUG or INFO to gather more detailed information. In production environments, it is usually recommended to set the log level to a higher level such as WARNING or ERROR to focus on critical issues and avoid cluttering the logs with unnecessary details.\n",
    "\n",
    "It is worth noting that log levels can be configured dynamically, allowing for flexibility in different environments or scenarios. This allows developers to fine-tune the log output based on specific requirements, making logging an effective tool for monitoring, troubleshooting, and maintaining software applications."
   ]
  },
  {
   "cell_type": "markdown",
   "id": "3574c554-e64e-4970-a43c-c3bc006a6b46",
   "metadata": {},
   "source": [
    "# 7. What are log formatters in Python logging, and how can you customise the log message format using formatters?\n",
    "\n",
    "Answer -"
   ]
  },
  {
   "cell_type": "markdown",
   "id": "4996b6ee-345b-40fa-b23a-1400785e0dfb",
   "metadata": {},
   "source": [
    "In Python logging, log formatters are objects responsible for defining the format of log messages. They determine how log records are converted into a textual representation that can be written to log files, displayed on the console, or sent to other destinations.\n",
    "\n",
    "Log formatters provide flexibility in customizing the appearance and structure of log messages. They allow developers to include specific information such as timestamps, log levels, module names, and custom message formats. Python's logging module provides the Formatter class to create and configure log formatters.\n",
    "\n",
    "Here's an example of how to customize the log message format using formatters :"
   ]
  },
  {
   "cell_type": "code",
   "execution_count": 11,
   "id": "055c0427-aa96-461e-83f5-07503194a780",
   "metadata": {},
   "outputs": [],
   "source": [
    "import logging\n",
    "\n",
    "# Create a logger\n",
    "logger = logging.getLogger(\"my_logger\")\n",
    "logger.setLevel(logging.DEBUG)\n",
    "\n",
    "# Create a file handler\n",
    "file_handler = logging.FileHandler(\"app.log\")\n",
    "\n",
    "# Create a formatter and set it for the file handler\n",
    "formatter = logging.Formatter(\"%(asctime)s - %(levelname)s - %(module)s - %(message)s\")\n",
    "file_handler.setFormatter(formatter)\n",
    "\n",
    "# Add the file handler to the logger\n",
    "logger.addHandler(file_handler)\n",
    "\n",
    "# Log a message\n",
    "logger.debug(\"This is a debug message\")"
   ]
  },
  {
   "cell_type": "markdown",
   "id": "5ff15a91-2617-4c7f-a1b4-ed3394745b73",
   "metadata": {},
   "source": [
    "In this example, a logger named \"my_logger\" is created and set to the DEBUG level. A FileHandler is created to handle logging to a file named \"app.log\". A Formatter is then created with a specific format string that includes placeholders surrounded by parentheses, such as %(asctime)s, %(levelname)s, %(module)s, and %(message)s. These placeholders represent various attributes of the log record.\n",
    "\n",
    "The format string passed to the formatter specifies the desired format of the log message. In this case, the format includes the timestamp (%(asctime)s), log level (%(levelname)s), module name (%(module)s), and the log message itself (%(message)s).\n",
    "\n",
    "Finally, the formatter is set for the file handler using the setFormatter() method. When the logger logs a message, it will be formatted according to the specified format string.\n",
    "\n",
    "By customizing the format string within the formatter, you can include or exclude different attributes, rearrange their order, or even add custom text. This allows you to tailor the log message format to suit your specific requirements, making the log messages more informative and easier to read.\n",
    "\n",
    "Additionally, you can create multiple formatters and use them for different handlers to format log messages differently based on the destination or purpose of the log output."
   ]
  },
  {
   "cell_type": "markdown",
   "id": "99afbf20-431b-405c-b5c1-05064ebea4a9",
   "metadata": {},
   "source": [
    "# 8. How can you set up logging to capture log messages from multiple modules or classes in a Python application?\n",
    "\n",
    "Answer -"
   ]
  },
  {
   "cell_type": "markdown",
   "id": "81f2d8b6-3524-457b-b782-c74c6ce9d980",
   "metadata": {},
   "source": [
    "To capture log messages from multiple modules or classes in a Python application, you can set up a logger hierarchy using Python's logging module. The logger hierarchy allows you to organize loggers in a hierarchical structure, with each logger corresponding to a module or class in your application.\n",
    "\n",
    "Here's an example of how you can set up logging to capture log messages from multiple modules or classes:"
   ]
  },
  {
   "cell_type": "code",
   "execution_count": 12,
   "id": "d6bf775d-ebb4-47bd-8aa9-2c3086382807",
   "metadata": {},
   "outputs": [],
   "source": [
    "import logging\n",
    "\n",
    "# Create a root logger\n",
    "root_logger = logging.getLogger()\n",
    "root_logger.setLevel(logging.DEBUG)\n",
    "\n",
    "# Create a file handler for the root logger\n",
    "file_handler = logging.FileHandler(\"app.log\")\n",
    "\n",
    "# Create a formatter and set it for the file handler\n",
    "formatter = logging.Formatter(\"%(asctime)s - %(levelname)s - %(module)s - %(message)s\")\n",
    "file_handler.setFormatter(formatter)\n",
    "\n",
    "# Add the file handler to the root logger\n",
    "root_logger.addHandler(file_handler)\n",
    "\n",
    "# Create a logger for a specific module or class\n",
    "module_logger = logging.getLogger(\"myapp.module\")\n",
    "\n",
    "# Log a message from the module logger\n",
    "module_logger.debug(\"This is a debug message from the module logger\")"
   ]
  },
  {
   "cell_type": "markdown",
   "id": "2c833382-c4b1-4612-9598-fd64fcc08186",
   "metadata": {},
   "source": [
    "In this example, a root logger is created by calling logging.getLogger() without providing a name. The root logger is set to the DEBUG level and a FileHandler is added to it. The log messages from all loggers that do not have a more specific logger defined will be captured by the root logger.\n",
    "\n",
    "To capture log messages from a specific module or class, you create a logger for that module or class using logging.getLogger(\"myapp.module\"), where \"myapp.module\" is the name of the module or class you want to capture logs from. You can use any name you like for the logger, but it's common to use the fully-qualified name of the module or class to avoid naming conflicts.\n",
    "\n",
    "You can then use the module or class logger (module_logger in the example) to log messages. The log messages will propagate up the logger hierarchy to the root logger and be captured by the file handler added to the root logger.\n",
    "\n",
    "By setting up a logger hierarchy and creating loggers for different modules or classes in your application, you can selectively capture log messages from specific parts of your code and configure separate handlers or formatters for different loggers as needed. This provides a flexible and organized way to manage and filter log messages from multiple modules or classes in your Python application."
   ]
  },
  {
   "cell_type": "markdown",
   "id": "760948bb-34b2-4722-9e9e-35a58d47034b",
   "metadata": {},
   "source": [
    "#  9. What is the difference between the logging and print statements in Python? When should you use logging over print statements in a real-world application?\n",
    "\n",
    "Answer -"
   ]
  },
  {
   "cell_type": "markdown",
   "id": "0b356902-aa54-4ec4-8f8f-9abf41a4c56a",
   "metadata": {},
   "source": [
    "The logging and print statements in Python serve different purposes and have distinct characteristics. Here are the main differences between them :\n",
    "\n",
    "Output destination : \n",
    "\n",
    "The print statement prints output directly to the standard output (typically the console). On the other hand, the logging module allows you to direct log messages to different destinations, such as log files, external services, or even send them via email. This flexibility makes logging more suitable for real-world applications that require capturing and managing logs in a centralized manner.\n",
    "\n",
    "Log levels and filtering : \n",
    "\n",
    "The logging module provides log levels (e.g., DEBUG, INFO, WARNING, ERROR, CRITICAL) to categorize log messages based on their severity. This allows for fine-grained control over which log messages are displayed or saved. In contrast, print statements do not have built-in levels or filtering mechanisms. Logging allows you to control the verbosity and detail level of log messages, making it easier to focus on relevant information during different stages of application development and production.\n",
    "\n",
    "Timestamps and additional metadata : \n",
    "\n",
    "The logging module allows you to include timestamps, log levels, module names, and other metadata in log messages. This information is helpful for understanding when and where a log message originated. Print statements, by default, do not provide these additional metadata, making it harder to trace the source or context of an output.\n",
    "\n",
    "Configurability : \n",
    "\n",
    "The logging module offers extensive configuration options. You can customize log message formats, specify output destinations, control log levels, and even configure logging through external configuration files. This configurability allows for easier maintenance and adaptability of the logging behavior. In contrast, print statements are less configurable and require manual changes to the code to modify their behavior.\n",
    "\n",
    "Given these differences, it is recommended to use logging over print statements in real-world applications for several reasons :\n",
    "\n",
    "Flexibility : \n",
    "\n",
    "Logging provides greater flexibility in capturing and managing logs across different components of an application. It allows you to redirect log messages to various destinations, enabling centralized log collection and analysis.\n",
    "\n",
    "Granularity and filtering : \n",
    "\n",
    "The ability to set log levels and filter log messages based on severity enables better control over what information is logged, making it easier to debug and diagnose issues.\n",
    "\n",
    "Maintainability : \n",
    "\n",
    "By using logging, you can separate the concern of generating log output from the core logic of your application. This separation allows for easier modification of logging behavior without changing the application's logic extensively.\n",
    "\n",
    "Traceability : \n",
    "\n",
    "Including timestamps, log levels, and other metadata in log messages assists in identifying the source and context of issues, making troubleshooting and debugging more efficient.\n",
    "\n",
    "In summary, while print statements are useful for quick and simple output during development or debugging, the logging module provides more advanced features and configurability that make it suitable for production-level logging in real-world applications."
   ]
  },
  {
   "cell_type": "markdown",
   "id": "d147039c-01d2-4b8e-bd19-b173c9c22958",
   "metadata": {},
   "source": [
    "# 10. Write a Python program that logs a message to a file named \"app.log\" with the following requirements:\n",
    "\n",
    "● The log message should be \"Hello, World!\"\n",
    "\n",
    "● The log level should be set to \"INFO.\"\n",
    "\n",
    "● The log file should append new log entries without overwriting previous ones.\n",
    "\n",
    "Answer -"
   ]
  },
  {
   "cell_type": "markdown",
   "id": "bc60ddd1-6dd8-4e16-9f22-8358d41407a5",
   "metadata": {},
   "source": [
    "Here's an example Python program that logs a message to a file named \"app.log\" with the specified requirements:"
   ]
  },
  {
   "cell_type": "code",
   "execution_count": 14,
   "id": "5e2ac832-ecc7-4afe-9ea8-51cef48d5e99",
   "metadata": {},
   "outputs": [],
   "source": [
    "import logging\n",
    "\n",
    "# Configure the logging\n",
    "logging.basicConfig(\n",
    "    filename=\"app.log\",\n",
    "    level=logging.INFO,\n",
    "    format=\"%(asctime)s - %(levelname)s - %(message)s\",\n",
    "    filemode=\"a\"\n",
    ")\n",
    "\n",
    "# Log the message\n",
    "logging.info(\"Hello, World!\")"
   ]
  },
  {
   "cell_type": "markdown",
   "id": "bf34c729-fca5-4bb6-98a9-ba1033df4277",
   "metadata": {},
   "source": [
    "In this program, we first import the logging module. Then, we use the basicConfig() function to configure the logging. Here's a breakdown of the configuration options:\n",
    "\n",
    "filename=\"app.log\": Specifies the name of the log file. In this case, it is set to \"app.log\".\n",
    "\n",
    "level=logging.INFO: Sets the log level to INFO, which means only log messages at or above this level will be recorded. INFO is the level specified in the requirements.\n",
    "\n",
    "format=\"%(asctime)s - %(levelname)s - %(message)s\": Sets the format of the log message. It includes the timestamp, log level, and the actual log message.\n",
    "\n",
    "filemode=\"a\": Sets the file mode to \"a\", which means new log entries will be appended to the file without overwriting the previous content.\n",
    "\n",
    "Finally, we log the message \"Hello, World!\" with the specified log level using logging.info().\n",
    "\n",
    "When you run this program, it will log the message \"Hello, World!\" to the \"app.log\" file with the INFO log level. Subsequent runs of the program will append new log entries to the existing file."
   ]
  },
  {
   "cell_type": "markdown",
   "id": "9e9c01fa-5c0c-41b0-a27f-adbe4af97d3b",
   "metadata": {},
   "source": [
    "# 11. Create a Python program that logs an error message to the console and a file named \"errors.log\" if an exception occurs during the program's execution. The error \"errors.log\" if an exception occurs during the program's execution. The error message should include the exception type and a timestamp.\n",
    "\n",
    "Answer -"
   ]
  },
  {
   "cell_type": "markdown",
   "id": "2ceff65a-e218-4bf5-bf86-c4e5454dd31d",
   "metadata": {},
   "source": [
    "Here's an example Python program that logs an error message to the console and a file named \"errors.log\" if an exception occurs during its execution. The error message includes the exception type and a timestamp:"
   ]
  },
  {
   "cell_type": "code",
   "execution_count": 15,
   "id": "87ab2301-549f-4e79-9c65-d9afb69bc0ca",
   "metadata": {},
   "outputs": [
    {
     "name": "stdout",
     "output_type": "stream",
     "text": [
      "An error occurred. Please check the 'errors.log' file for more details.\n"
     ]
    }
   ],
   "source": [
    "import logging\n",
    "import datetime\n",
    "\n",
    "# Configure logging\n",
    "logging.basicConfig(\n",
    "    level=logging.ERROR,\n",
    "    format=\"%(asctime)s - %(levelname)s - %(message)s\"\n",
    ")\n",
    "\n",
    "# Create a file handler for error logging\n",
    "file_handler = logging.FileHandler(\"errors.log\")\n",
    "file_handler.setLevel(logging.ERROR)\n",
    "file_handler.setFormatter(logging.Formatter(\"%(asctime)s - %(levelname)s - %(message)s\"))\n",
    "\n",
    "# Add the file handler to the root logger\n",
    "logging.getLogger().addHandler(file_handler)\n",
    "\n",
    "try:\n",
    "    # Code that may raise an exception\n",
    "    raise ValueError(\"Example exception\")\n",
    "except Exception as e:\n",
    "    # Log the error message\n",
    "    error_msg = f\"Exception type: {type(e).__name__}, Timestamp: {datetime.datetime.now()}\"\n",
    "    logging.error(error_msg)\n",
    "    print(\"An error occurred. Please check the 'errors.log' file for more details.\")"
   ]
  },
  {
   "cell_type": "markdown",
   "id": "ba59427f-d9c7-4cf9-928a-4dfb362bd197",
   "metadata": {},
   "source": [
    "In this program, we import the logging and datetime modules. We then configure the logging with a specific format and set the log level to ERROR, so only error messages or more severe log messages will be captured.\n",
    "\n",
    "Next, we create a FileHandler to handle logging to the \"errors.log\" file. We set the log level of the file handler to ERROR to capture only error messages. The formatter for the file handler is set to include the timestamp, log level, and the log message.\n",
    "\n",
    "We add the file handler to the root logger, which ensures that any error messages logged by logging.error() will be captured and saved to the \"errors.log\" file.\n",
    "\n",
    "Inside the try-except block, we intentionally raise a ValueError as an example exception. In the except block, we construct the error message using the type(e).__name__ to get the exception type and datetime.datetime.now() to get the current timestamp. We log the error message using logging.error() and also print a message to the console to inform the user about the occurrence of the error.\n",
    "\n",
    "When an exception occurs, the error message will be logged both to the console and the \"errors.log\" file with the exception type and timestamp."
   ]
  },
  {
   "cell_type": "code",
   "execution_count": null,
   "id": "352dff2b-f665-4d4e-81fc-c6a9bef2112d",
   "metadata": {},
   "outputs": [],
   "source": []
  }
 ],
 "metadata": {
  "kernelspec": {
   "display_name": "Python 3 (ipykernel)",
   "language": "python",
   "name": "python3"
  },
  "language_info": {
   "codemirror_mode": {
    "name": "ipython",
    "version": 3
   },
   "file_extension": ".py",
   "mimetype": "text/x-python",
   "name": "python",
   "nbconvert_exporter": "python",
   "pygments_lexer": "ipython3",
   "version": "3.10.6"
  }
 },
 "nbformat": 4,
 "nbformat_minor": 5
}
