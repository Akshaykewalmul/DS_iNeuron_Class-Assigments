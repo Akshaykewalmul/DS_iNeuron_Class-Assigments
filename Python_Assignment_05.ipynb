{
 "cells": [
  {
   "cell_type": "markdown",
   "id": "60071ca3-e5c5-434c-a5d1-616bffe73fb2",
   "metadata": {},
   "source": [
    "# ASSIGNMENT_05"
   ]
  },
  {
   "cell_type": "markdown",
   "id": "9c1f14bd-70e7-45e8-90f8-5f98dcf70277",
   "metadata": {},
   "source": [
    "# 1. What does an empty dictionary's code look like?"
   ]
  },
  {
   "cell_type": "markdown",
   "id": "e0c84fff-1a98-4d1d-b538-781ca6acc6a3",
   "metadata": {},
   "source": [
    "Answer -"
   ]
  },
  {
   "cell_type": "markdown",
   "id": "a8a5f306-c83e-4434-a02d-09a6410ab2e2",
   "metadata": {},
   "source": [
    "In Python, an empty dictionary is represented by a pair of curly braces {}."
   ]
  },
  {
   "cell_type": "code",
   "execution_count": 1,
   "id": "b2c8c6a6-64d9-4138-9872-309436faec9d",
   "metadata": {},
   "outputs": [],
   "source": [
    "my_dict = {}"
   ]
  },
  {
   "cell_type": "code",
   "execution_count": 2,
   "id": "43076ac5-bd73-4772-83b5-b5885d0a83fc",
   "metadata": {},
   "outputs": [
    {
     "data": {
      "text/plain": [
       "dict"
      ]
     },
     "execution_count": 2,
     "metadata": {},
     "output_type": "execute_result"
    }
   ],
   "source": [
    "my_dict = {}\n",
    "type(my_dict)"
   ]
  },
  {
   "cell_type": "markdown",
   "id": "22678c44-0997-4080-b9a0-4bd835abf1a9",
   "metadata": {},
   "source": [
    "# 2. What is the value of a dictionary value with the key 'foo' and the value 42?"
   ]
  },
  {
   "cell_type": "markdown",
   "id": "397322d6-6bde-41f8-bbd6-d6b5ed12b5ff",
   "metadata": {},
   "source": [
    "Answer -"
   ]
  },
  {
   "cell_type": "markdown",
   "id": "a944baf6-5bc1-4eab-978d-8094f866fed7",
   "metadata": {},
   "source": [
    "If you have a dictionary with the key 'foo' and the value 42, the value of that dictionary entry would be 42."
   ]
  },
  {
   "cell_type": "code",
   "execution_count": 3,
   "id": "9b58c798-82dc-4945-8237-d1c2074b5a23",
   "metadata": {},
   "outputs": [],
   "source": [
    "my_dict = {'foo': 42}"
   ]
  },
  {
   "cell_type": "code",
   "execution_count": 4,
   "id": "2d7dcb1f-6e6a-45b7-b08e-5cecfda9c54d",
   "metadata": {},
   "outputs": [
    {
     "name": "stdout",
     "output_type": "stream",
     "text": [
      "42\n"
     ]
    }
   ],
   "source": [
    "value = my_dict['foo']\n",
    "print(value) "
   ]
  },
  {
   "cell_type": "markdown",
   "id": "f73e14e5-fd1f-450d-87e7-a41d3a1448d2",
   "metadata": {},
   "source": [
    "# 3. What is the most significant distinction between a dictionary and a list?"
   ]
  },
  {
   "cell_type": "markdown",
   "id": "744444c5-5192-489b-81a0-c72fb535f719",
   "metadata": {},
   "source": [
    "Answer -"
   ]
  },
  {
   "cell_type": "markdown",
   "id": "ad4d6a84-128b-4112-81b0-7105a842045c",
   "metadata": {},
   "source": [
    "list :\n",
    "\n",
    "A list in python is an orderd collection ( Also know as sequence ) of items. \n",
    "\n",
    "lists are \"Mutable\" which means their elements can be cahnged ( added, modified or deleted ) aafter they are created.\n",
    "\n",
    "Creation - A list is created by placing items (elements) inside brackets [ ], seperated by commas."
   ]
  },
  {
   "cell_type": "code",
   "execution_count": 6,
   "id": "e091be7b-2450-452b-a0ad-b4a824b3be4b",
   "metadata": {},
   "outputs": [
    {
     "name": "stdout",
     "output_type": "stream",
     "text": [
      "['Apple', 'Bananas', 'Grapes']\n"
     ]
    }
   ],
   "source": [
    "fruits = [ \"Apple\", \"Bananas\", \"Grapes\" ]\n",
    "\n",
    "print ( fruits )"
   ]
  },
  {
   "cell_type": "markdown",
   "id": "6b2b8854-3dd2-4e56-9692-eaf0ba9dbacf",
   "metadata": {},
   "source": [
    "dictionary :\n",
    "\n",
    "A dictionary in python is an unordered collection of items.\n",
    "\n",
    "Dictionaries are \"Mutable\" which means their elements can be cahnged ( added, modified or deleted ) aafter they are created.\n",
    "\n",
    "A dictionary is created by placing items (key-value pairs) inside curly braces { }, seperated by commas.\n",
    "\n",
    "And each items is a pair made up of key and value, seperated by a colon \":\""
   ]
  },
  {
   "cell_type": "code",
   "execution_count": 8,
   "id": "0edf7a4a-8fc7-4a2a-a196-fa0540709d49",
   "metadata": {},
   "outputs": [
    {
     "name": "stdout",
     "output_type": "stream",
     "text": [
      "{'Rollno': 893, 'name': 'Tom', 'percentage': 93}\n"
     ]
    }
   ],
   "source": [
    "person = {\"Rollno\" : 893, \"name\" : \"Tom\", \"percentage\" : 93 }\n",
    "\n",
    "print (person)"
   ]
  },
  {
   "cell_type": "markdown",
   "id": "3c67c2d0-e3d0-4193-b4d5-f298a7a39818",
   "metadata": {},
   "source": [
    "In short, most significant difference :\n",
    "    \n",
    "List - items in list are Ordered\n",
    "\n",
    "Dictionary : iten in dictionary are unordered"
   ]
  },
  {
   "cell_type": "markdown",
   "id": "b380ecb5-1d6f-4831-9bc9-1f906339dfe8",
   "metadata": {},
   "source": [
    "# 4. What happens if you try to access spam['foo'] if spam is {'bar': 100}?"
   ]
  },
  {
   "cell_type": "markdown",
   "id": "d6e0b31b-816b-4344-a092-3f7141caade8",
   "metadata": {},
   "source": [
    "Answer -"
   ]
  },
  {
   "cell_type": "markdown",
   "id": "ea4ba11d-4c61-4b23-853e-f996afdaed17",
   "metadata": {},
   "source": [
    "If you try to access spam['foo'] when spam is {'bar': 100}, you will encounter a KeyError."
   ]
  },
  {
   "cell_type": "code",
   "execution_count": 10,
   "id": "1425d9ec-1c43-423e-ad02-daf31d095911",
   "metadata": {},
   "outputs": [
    {
     "ename": "KeyError",
     "evalue": "'foo'",
     "output_type": "error",
     "traceback": [
      "\u001b[0;31m---------------------------------------------------------------------------\u001b[0m",
      "\u001b[0;31mKeyError\u001b[0m                                  Traceback (most recent call last)",
      "Cell \u001b[0;32mIn [10], line 2\u001b[0m\n\u001b[1;32m      1\u001b[0m spam \u001b[38;5;241m=\u001b[39m {\u001b[38;5;124m'\u001b[39m\u001b[38;5;124mbar\u001b[39m\u001b[38;5;124m'\u001b[39m:\u001b[38;5;241m100\u001b[39m}\n\u001b[0;32m----> 2\u001b[0m \u001b[43mspam\u001b[49m\u001b[43m[\u001b[49m\u001b[38;5;124;43m'\u001b[39;49m\u001b[38;5;124;43mfoo\u001b[39;49m\u001b[38;5;124;43m'\u001b[39;49m\u001b[43m]\u001b[49m\n",
      "\u001b[0;31mKeyError\u001b[0m: 'foo'"
     ]
    }
   ],
   "source": [
    "spam = {'bar':100}\n",
    "spam['foo']"
   ]
  },
  {
   "cell_type": "markdown",
   "id": "0d8409d4-eb2d-41ee-92a2-41963e850635",
   "metadata": {},
   "source": [
    "# 5. If a dictionary is stored in spam, what is the difference between the expressions 'cat' in spam and 'cat' in spam.keys()?"
   ]
  },
  {
   "cell_type": "markdown",
   "id": "6b567e78-8006-4c45-809d-eb965946f11a",
   "metadata": {},
   "source": [
    "Answer -"
   ]
  },
  {
   "cell_type": "markdown",
   "id": "c8c95adb-b8da-47d5-8bd2-7ad23094d5d2",
   "metadata": {},
   "source": [
    "There is no differnce, both check if 'cat' is key of the dictionary and if its a key, returns True."
   ]
  },
  {
   "cell_type": "code",
   "execution_count": 12,
   "id": "ec0c6bd9-bc38-4e22-ba92-7c1a7966c4d3",
   "metadata": {},
   "outputs": [
    {
     "data": {
      "text/plain": [
       "True"
      ]
     },
     "execution_count": 12,
     "metadata": {},
     "output_type": "execute_result"
    }
   ],
   "source": [
    "spam ={'cat':100}\n",
    "'cat' in spam"
   ]
  },
  {
   "cell_type": "code",
   "execution_count": 13,
   "id": "c869f0cd-f8af-40d5-a8eb-9d04aeb15deb",
   "metadata": {},
   "outputs": [
    {
     "data": {
      "text/plain": [
       "True"
      ]
     },
     "execution_count": 13,
     "metadata": {},
     "output_type": "execute_result"
    }
   ],
   "source": [
    "spam ={'cat':100}\n",
    "'cat' in spam.keys()"
   ]
  },
  {
   "cell_type": "markdown",
   "id": "952afff4-ea41-4c3b-a098-8e41543bd193",
   "metadata": {},
   "source": [
    "# 6. If a dictionary is stored in spam, what is the difference between the expressions 'cat' in spam and 'cat' in spam.values()?"
   ]
  },
  {
   "cell_type": "markdown",
   "id": "5bc342fd-f78b-44ff-b0d5-9e0090b2ae69",
   "metadata": {},
   "source": [
    "Answer -"
   ]
  },
  {
   "cell_type": "markdown",
   "id": "e23287fc-c8e5-4998-bb6f-e5d9b1d720ae",
   "metadata": {},
   "source": [
    "'cat' in spam checks whether there is a 'cat' key in the dictionary"
   ]
  },
  {
   "cell_type": "code",
   "execution_count": 14,
   "id": "894b2155-902a-4709-8aa4-d902c363db4d",
   "metadata": {},
   "outputs": [
    {
     "data": {
      "text/plain": [
       "True"
      ]
     },
     "execution_count": 14,
     "metadata": {},
     "output_type": "execute_result"
    }
   ],
   "source": [
    "spam ={'cat':100}\n",
    "'cat' in spam"
   ]
  },
  {
   "cell_type": "markdown",
   "id": "9550f625-bf4f-4e26-a30d-2ff3d5513439",
   "metadata": {},
   "source": [
    "'cat' in spam.values() checks whether there is a value 'cat' for one of the keys in spam."
   ]
  },
  {
   "cell_type": "code",
   "execution_count": 15,
   "id": "d015773a-8d80-4421-b8c9-28a5bb97ae06",
   "metadata": {},
   "outputs": [
    {
     "data": {
      "text/plain": [
       "False"
      ]
     },
     "execution_count": 15,
     "metadata": {},
     "output_type": "execute_result"
    }
   ],
   "source": [
    "spam ={'cat':100}\n",
    "'cat' in spam.values()"
   ]
  },
  {
   "cell_type": "markdown",
   "id": "8d532331-c6c4-4e11-b291-888245bf65d8",
   "metadata": {},
   "source": [
    "# 7. What is a shortcut for the following code?\n",
    "\n",
    "if 'color' not in spam:\n",
    "\n",
    "spam['color'] = 'black'"
   ]
  },
  {
   "cell_type": "markdown",
   "id": "a74ceea3-f577-4e36-bda1-0be4f210473d",
   "metadata": {},
   "source": [
    "Answer -"
   ]
  },
  {
   "cell_type": "markdown",
   "id": "86bc92a0-f8de-4054-b209-de979e45a3a5",
   "metadata": {},
   "source": [
    "A shortcut for the given code can be achieved using the dict.setdefault() method."
   ]
  },
  {
   "cell_type": "code",
   "execution_count": 17,
   "id": "817f40c9-8355-4a9d-8c7c-5c43a368a5aa",
   "metadata": {},
   "outputs": [
    {
     "data": {
      "text/plain": [
       "{'cat': 100, 'color': 'black'}"
      ]
     },
     "execution_count": 17,
     "metadata": {},
     "output_type": "execute_result"
    }
   ],
   "source": [
    "spam ={'cat':100}\n",
    "spam.setdefault('color','black')\n",
    "spam"
   ]
  },
  {
   "cell_type": "markdown",
   "id": "0bfe5241-5ca3-40a7-af97-5530f8f17bc0",
   "metadata": {},
   "source": [
    "# 8. How do you \"pretty print\" dictionary values using which module and function?"
   ]
  },
  {
   "cell_type": "markdown",
   "id": "4780c98c-dbdd-4297-af5c-bcc8537b37fa",
   "metadata": {},
   "source": [
    "Answer -"
   ]
  },
  {
   "cell_type": "code",
   "execution_count": 21,
   "id": "15d05b56-8f7a-48af-8494-68c490e9621f",
   "metadata": {},
   "outputs": [],
   "source": [
    "import pprint\n",
    "dct = [ {'Name': 'Shiva', 'Age': '23', 'Country': 'India'},\n",
    "        {'Name': 'Anna', 'Age': '44', 'Country': 'China'},\n",
    "        {'Name': 'Joe', 'Age': '29', 'Country': 'UK'},\n",
    "        {'Name': 'Chumlee', 'Age': '35', 'Country': 'USA'}]"
   ]
  },
  {
   "cell_type": "code",
   "execution_count": 26,
   "id": "7c0aa397-b532-494f-ba5d-83f8f75dbaef",
   "metadata": {},
   "outputs": [
    {
     "name": "stdout",
     "output_type": "stream",
     "text": [
      "[{'Age': '23', 'Country': 'India', 'Name': 'Shiva'},\n",
      " {'Age': '44', 'Country': 'China', 'Name': 'Anna'},\n",
      " {'Age': '29', 'Country': 'UK', 'Name': 'Joe'},\n",
      " {'Age': '35', 'Country': 'USA', 'Name': 'Chumlee'}]\n"
     ]
    }
   ],
   "source": [
    "# printing with pprint()\n",
    "\n",
    "pprint.pprint(dct)"
   ]
  },
  {
   "cell_type": "code",
   "execution_count": null,
   "id": "c0c47230-51b9-4abb-b3e5-0beabc1bf0c5",
   "metadata": {},
   "outputs": [],
   "source": []
  }
 ],
 "metadata": {
  "kernelspec": {
   "display_name": "Python 3 (ipykernel)",
   "language": "python",
   "name": "python3"
  },
  "language_info": {
   "codemirror_mode": {
    "name": "ipython",
    "version": 3
   },
   "file_extension": ".py",
   "mimetype": "text/x-python",
   "name": "python",
   "nbconvert_exporter": "python",
   "pygments_lexer": "ipython3",
   "version": "3.10.6"
  }
 },
 "nbformat": 4,
 "nbformat_minor": 5
}
