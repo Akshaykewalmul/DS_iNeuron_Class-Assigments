{
 "cells": [
  {
   "cell_type": "markdown",
   "id": "7d1845d0-64f0-4148-8b17-480d5d8b5fc7",
   "metadata": {},
   "source": [
    "# ASSIGNMENT_10"
   ]
  },
  {
   "cell_type": "markdown",
   "id": "a8ea7df2-8513-4667-8b97-9556b2439f50",
   "metadata": {},
   "source": [
    "# 1. What is the role of try and exception block?\n",
    "\n",
    "Answer -"
   ]
  },
  {
   "cell_type": "markdown",
   "id": "457d9fea-919c-40cd-a18b-c4937d90f2bc",
   "metadata": {},
   "source": [
    "The try block lets you test a block of code for errors. The except block lets you handle the error.\n",
    "\n",
    "The try and except blocks in Python are used for handling exceptions and performing error handling.\n",
    "\n",
    "The role of the try block is to enclose the code that might raise an exception. It allows you to define a section of code where you anticipate potential errors or exceptions to occur. Any exception that occurs within the try block will be caught and can be handled by the corresponding except block.\n",
    "\n",
    "The role of the except block is to define the code that will be executed if a specific exception occurs within the try block. It specifies the type of exception it can handle, and if an exception of that type is raised, the code inside the except block is executed. It provides a way to gracefully handle exceptions and perform appropriate actions, such as displaying an error message, logging the error, or taking alternative steps to recover from the exception"
   ]
  },
  {
   "cell_type": "code",
   "execution_count": null,
   "id": "fa4a7948-8da9-44a0-8efc-0c4ed97f800a",
   "metadata": {},
   "outputs": [],
   "source": [
    "try:\n",
    "    # Code that may raise an exception\n",
    "    # ...\n",
    "except ExceptionType:\n",
    "    # Code to handle the exception\n",
    "    # ..."
   ]
  },
  {
   "cell_type": "markdown",
   "id": "0e495bcd-619c-4f38-8078-bb129bb9c315",
   "metadata": {},
   "source": [
    "By using the try-except block, you can catch and handle exceptions in a controlled manner, preventing your program from crashing or displaying unhandled error messages to users. It allows you to handle exceptional cases, recover from errors, and gracefully handle unexpected situations in your code."
   ]
  },
  {
   "cell_type": "markdown",
   "id": "78fd5522-6d85-448f-b0b9-b0e79d1290d4",
   "metadata": {},
   "source": [
    "# 2. What is the syntax for a basic try-except block?\n",
    "\n",
    "Answer -"
   ]
  },
  {
   "cell_type": "markdown",
   "id": "df3ef697-50f2-4a71-bc8d-e9e6130d3bd0",
   "metadata": {},
   "source": [
    "The basic syntax for a try-except block in Python is as follows:"
   ]
  },
  {
   "cell_type": "code",
   "execution_count": null,
   "id": "0d19f260-e2e8-402d-8247-7a2e85bd899b",
   "metadata": {},
   "outputs": [],
   "source": [
    "try:\n",
    "    # Code that may raise an exception\n",
    "    # ...\n",
    "except ExceptionType:\n",
    "    # Code to handle the exception\n",
    "    # ..."
   ]
  },
  {
   "cell_type": "markdown",
   "id": "b2ab44ef-f233-4a35-b7e5-1c874ec0b325",
   "metadata": {},
   "source": [
    "Here's a breakdown of the components:\n",
    "\n",
    "try: The keyword that marks the beginning of the try block. This is where you place the code that you anticipate might raise an exception.\n",
    "\n",
    "except: The keyword that introduces the except block. This block is executed if an exception of the specified type occurs within the try block.\n",
    "\n",
    "ExceptionType: The specific exception type you want to catch and handle. It can be a built-in exception class or a custom exception class that you've defined.\n",
    "\n",
    "An example of a try-except block that catches a ZeroDivisionError:"
   ]
  },
  {
   "cell_type": "code",
   "execution_count": 1,
   "id": "24244e91-5061-4c1d-b62f-6a5558236f7b",
   "metadata": {},
   "outputs": [
    {
     "name": "stdout",
     "output_type": "stream",
     "text": [
      "Error: Division by zero!\n"
     ]
    }
   ],
   "source": [
    "try:\n",
    "    numerator = 10\n",
    "    denominator = 0\n",
    "    result = numerator / denominator\n",
    "except ZeroDivisionError:\n",
    "    print(\"Error: Division by zero!\")"
   ]
  },
  {
   "cell_type": "markdown",
   "id": "43efb1ca-d94a-4408-aa2c-8fe4c530b772",
   "metadata": {},
   "source": [
    "In this example, if a ZeroDivisionError occurs when dividing numerator by denominator, the code inside the except block will be executed, and the error message \"Error: Division by zero!\" will be printed."
   ]
  },
  {
   "cell_type": "markdown",
   "id": "a43dfbcb-d61f-4f04-8f79-feba2a85c882",
   "metadata": {},
   "source": [
    "# 3. What happens if an exception occurs inside a try block and there is no matching except block?\n",
    "\n",
    "Answer -"
   ]
  },
  {
   "cell_type": "markdown",
   "id": "ba2a32e1-1493-4802-ad83-8fe0b8108812",
   "metadata": {},
   "source": [
    "If an exception occurs inside a try block and there is no matching except block to handle that specific exception type, the exception will propagate up the call stack. \n",
    "\n",
    "This means that the program's execution will be interrupted, and Python will look for an appropriate except block further up the call stack to handle the exception.\n",
    "\n",
    "If no suitable except block is found anywhere in the call stack, the program will terminate, and an error message will be displayed, indicating the unhandled exception. The error message will include a traceback, which shows the sequence of function calls that led to the exception.\n",
    "\n",
    "Here's an example to illustrate this scenario:"
   ]
  },
  {
   "cell_type": "code",
   "execution_count": 2,
   "id": "9decb8dc-7cee-4f24-862d-8689df1870c4",
   "metadata": {},
   "outputs": [
    {
     "ename": "ZeroDivisionError",
     "evalue": "division by zero",
     "output_type": "error",
     "traceback": [
      "\u001b[0;31m---------------------------------------------------------------------------\u001b[0m",
      "\u001b[0;31mZeroDivisionError\u001b[0m                         Traceback (most recent call last)",
      "Cell \u001b[0;32mIn [2], line 5\u001b[0m\n\u001b[1;32m      2\u001b[0m     result \u001b[38;5;241m=\u001b[39m a \u001b[38;5;241m/\u001b[39m b\n\u001b[1;32m      4\u001b[0m \u001b[38;5;28;01mtry\u001b[39;00m:\n\u001b[0;32m----> 5\u001b[0m     \u001b[43mdivide_numbers\u001b[49m\u001b[43m(\u001b[49m\u001b[38;5;241;43m10\u001b[39;49m\u001b[43m,\u001b[49m\u001b[43m \u001b[49m\u001b[38;5;241;43m0\u001b[39;49m\u001b[43m)\u001b[49m\n\u001b[1;32m      6\u001b[0m \u001b[38;5;28;01mexcept\u001b[39;00m \u001b[38;5;167;01mValueError\u001b[39;00m:\n\u001b[1;32m      7\u001b[0m     \u001b[38;5;28mprint\u001b[39m(\u001b[38;5;124m\"\u001b[39m\u001b[38;5;124mValueError occurred!\u001b[39m\u001b[38;5;124m\"\u001b[39m)\n",
      "Cell \u001b[0;32mIn [2], line 2\u001b[0m, in \u001b[0;36mdivide_numbers\u001b[0;34m(a, b)\u001b[0m\n\u001b[1;32m      1\u001b[0m \u001b[38;5;28;01mdef\u001b[39;00m \u001b[38;5;21mdivide_numbers\u001b[39m(a, b):\n\u001b[0;32m----> 2\u001b[0m     result \u001b[38;5;241m=\u001b[39m \u001b[43ma\u001b[49m\u001b[43m \u001b[49m\u001b[38;5;241;43m/\u001b[39;49m\u001b[43m \u001b[49m\u001b[43mb\u001b[49m\n",
      "\u001b[0;31mZeroDivisionError\u001b[0m: division by zero"
     ]
    }
   ],
   "source": [
    "def divide_numbers(a, b):\n",
    "    result = a / b\n",
    "\n",
    "try:\n",
    "    divide_numbers(10, 0)\n",
    "except ValueError:\n",
    "    print(\"ValueError occurred!\")"
   ]
  },
  {
   "cell_type": "markdown",
   "id": "e782828d-c949-467a-905e-638476769dd1",
   "metadata": {},
   "source": [
    "# 4. What is the difference between using a bare except block and specifying a specific exception type?\n",
    "\n",
    "Answer -"
   ]
  },
  {
   "cell_type": "markdown",
   "id": "e809a142-7722-4f7e-a389-9ad60917d88a",
   "metadata": {},
   "source": [
    "The difference between using a bare except block and specifying a specific exception type lies in the level of control and precision you have over handling exceptions.\n",
    "\n",
    "Specifying a specific exception type:\n",
    "\n",
    "When you specify a specific exception type in an except block, such as except ValueError, you are indicating that you want to catch and handle exceptions of that particular type only. \n",
    "\n",
    "This allows you to provide targeted and specific error handling for known exceptions. You can write code within the except block to handle the exception appropriately. By catching specific exception types, you can handle different exceptions differently and provide more meaningful error messages or take specific actions based on the type of exception that occurred."
   ]
  },
  {
   "cell_type": "code",
   "execution_count": null,
   "id": "082b5972-ae48-4e7c-b87f-7b9eaa0414fe",
   "metadata": {},
   "outputs": [],
   "source": [
    "try:\n",
    "    # Code that may raise an exception\n",
    "    # ...\n",
    "except ValueError:\n",
    "    # Code to handle ValueError\n",
    "    # ..."
   ]
  },
  {
   "cell_type": "markdown",
   "id": "768dc97c-574f-4b6b-b165-7ed478c75c63",
   "metadata": {},
   "source": [
    "Using a bare except block:\n",
    "\n",
    "When you use a bare except block (i.e., without specifying an exception type), like except:, you are catching all exceptions, regardless of their types. \n",
    "\n",
    "This can be useful in some cases when you want to provide a generic error handler that captures any unexpected or unknown exceptions that may occur. However, it is generally considered a best practice to avoid using bare except blocks because they can mask errors and make it harder to debug or identify specific issues. It is recommended to catch and handle specific exceptions whenever possible to have more control over the error handling process."
   ]
  },
  {
   "cell_type": "code",
   "execution_count": null,
   "id": "e0261950-929d-4d8c-a49a-8e9d42c41596",
   "metadata": {},
   "outputs": [],
   "source": [
    "try:\n",
    "    # Code that may raise an exception\n",
    "    # ...\n",
    "except:\n",
    "    # Code to handle any exception\n",
    "    # ..."
   ]
  },
  {
   "cell_type": "markdown",
   "id": "6e214aec-03d4-4d31-a743-418dce06f7b2",
   "metadata": {},
   "source": [
    "In summary, specifying a specific exception type allows you to handle known exceptions explicitly and differentiate the error handling based on the type of exception. \n",
    "\n",
    "On the other hand, using a bare except block catches all exceptions, including unknown or unexpected ones, but it is generally advised to be avoided to ensure better error handling and debugging capabilities."
   ]
  },
  {
   "cell_type": "markdown",
   "id": "98cf230c-1575-4b61-9558-1c86480a2b74",
   "metadata": {},
   "source": [
    "# 5. Can you have nested try-except blocks in Python? If yes, then give an example.\n",
    "\n",
    "Answer -"
   ]
  },
  {
   "cell_type": "markdown",
   "id": "3402d4d1-e9a3-420f-b504-72529e26d9b2",
   "metadata": {},
   "source": [
    "Yes, it is possible to have nested try-except blocks in Python. \n",
    "\n",
    "This allows you to handle exceptions at different levels of code execution, providing more granular error handling.\n",
    "\n",
    "Here's an example:"
   ]
  },
  {
   "cell_type": "code",
   "execution_count": 3,
   "id": "d4359fa8-ec2b-46e9-96da-30ca05839472",
   "metadata": {},
   "outputs": [
    {
     "name": "stdout",
     "output_type": "stream",
     "text": [
      "Error: Division by zero in inner try block!\n"
     ]
    }
   ],
   "source": [
    "try:\n",
    "    # Outer try block\n",
    "    numerator = 10\n",
    "    denominator = 0\n",
    "    try:\n",
    "        # Inner try block\n",
    "        result = numerator / denominator\n",
    "    except ZeroDivisionError:\n",
    "        print(\"Error: Division by zero in inner try block!\")\n",
    "except ZeroDivisionError:\n",
    "    print(\"Error: Division by zero in outer try block!\")"
   ]
  },
  {
   "cell_type": "markdown",
   "id": "1cf0d2ce-df13-475f-b690-f164ef232471",
   "metadata": {},
   "source": [
    "In this example, we have an outer try-except block and an inner try-except block. The outer block attempts to perform a division between numerator and denominator. If a ZeroDivisionError occurs in the outer try block, the corresponding except block will handle it.\n",
    "\n",
    "Inside the outer try block, there is an inner try-except block that also performs a division. If a ZeroDivisionError occurs in the inner try block, the inner except block will handle it.\n",
    "\n",
    "The nesting of try-except blocks allows for specific exception handling at different levels. In this case, if a ZeroDivisionError occurs in the inner try block, the inner except block will be executed, and the message \"Error: Division by zero in inner try block!\" will be printed. If the exception occurs in the outer try block, the outer except block will handle it, and the message \"Error: Division by zero in outer try block!\" will be printed."
   ]
  },
  {
   "cell_type": "markdown",
   "id": "a8f39d29-25c1-46e5-a465-3517f4e32f12",
   "metadata": {},
   "source": [
    "# 6. Can we use multiple exception blocks, if yes then give an example.\n",
    "\n",
    "Answer -"
   ]
  },
  {
   "cell_type": "markdown",
   "id": "576e4909-61f5-4d36-b666-c724c6e7dece",
   "metadata": {},
   "source": [
    "Yes, it is possible to use multiple exception blocks in programming languages that support exception handling. \n",
    "\n",
    "Multiple exception blocks allow you to handle different types of exceptions separately, providing specific actions or error messages for each type.\n",
    "\n",
    "Here's an example,"
   ]
  },
  {
   "cell_type": "code",
   "execution_count": 4,
   "id": "0c10ec52-666f-44ee-a583-a1e06f995c91",
   "metadata": {},
   "outputs": [
    {
     "name": "stdout",
     "output_type": "stream",
     "text": [
      "File not found. Please check the file path.\n"
     ]
    },
    {
     "ename": "NameError",
     "evalue": "name 'file' is not defined",
     "output_type": "error",
     "traceback": [
      "\u001b[0;31m---------------------------------------------------------------------------\u001b[0m",
      "\u001b[0;31mNameError\u001b[0m                                 Traceback (most recent call last)",
      "Cell \u001b[0;32mIn [4], line 21\u001b[0m\n\u001b[1;32m     17\u001b[0m     \u001b[38;5;28mprint\u001b[39m(\u001b[38;5;124m\"\u001b[39m\u001b[38;5;124mAn error occurred:\u001b[39m\u001b[38;5;124m\"\u001b[39m, \u001b[38;5;28mstr\u001b[39m(e))\n\u001b[1;32m     19\u001b[0m \u001b[38;5;28;01mfinally\u001b[39;00m:\n\u001b[1;32m     20\u001b[0m     \u001b[38;5;66;03m# Code that will always execute, regardless of exceptions\u001b[39;00m\n\u001b[0;32m---> 21\u001b[0m     \u001b[43mfile\u001b[49m\u001b[38;5;241m.\u001b[39mclose()\n",
      "\u001b[0;31mNameError\u001b[0m: name 'file' is not defined"
     ]
    }
   ],
   "source": [
    "try:\n",
    "    # Code that may raise exceptions\n",
    "    file = open(\"example.txt\", \"r\")\n",
    "    number = int(input(\"Enter a number: \"))\n",
    "    result = 10 / number\n",
    "\n",
    "except FileNotFoundError:\n",
    "    print(\"File not found. Please check the file path.\")\n",
    "\n",
    "except ValueError:\n",
    "    print(\"Invalid input. Please enter a valid number.\")\n",
    "\n",
    "except ZeroDivisionError:\n",
    "    print(\"Cannot divide by zero.\")\n",
    "\n",
    "except Exception as e:\n",
    "    print(\"An error occurred:\", str(e))\n",
    "\n",
    "finally:\n",
    "    # Code that will always execute, regardless of exceptions\n",
    "    file.close()"
   ]
  },
  {
   "cell_type": "markdown",
   "id": "d490ed4c-da4b-43d0-b427-ffafefa15530",
   "metadata": {},
   "source": [
    "In the above example, we have four different exception blocks: FileNotFoundError, ValueError, ZeroDivisionError, and a generic Exception block. Each block handles a specific type of exception, providing a corresponding error message. \n",
    "\n",
    "The finally block ensures that the file is always closed, even if an exception occurs."
   ]
  },
  {
   "cell_type": "markdown",
   "id": "965a5ce6-c515-4b65-8942-4780ec144ad3",
   "metadata": {},
   "source": [
    "# 7. Write the reason due to which following errors are raised:\n",
    "\n",
    "a. EOFError\n",
    "\n",
    "b. FloatingPointError\n",
    "\n",
    "c. IndexError\n",
    "\n",
    "d. MemoryError\n",
    "\n",
    "e. OverflowError\n",
    "\n",
    "f. TabError\n",
    "\n",
    "g. ValueError\n",
    "\n",
    "Answer -"
   ]
  },
  {
   "cell_type": "markdown",
   "id": "37612a9a-0022-40a5-8d00-e071c170a41b",
   "metadata": {},
   "source": [
    "a. EOFError : \n",
    "\n",
    "This error is raised when the input() function or any other function that reads input encounters the end of a file or stream before it expects it. It typically occurs when the user tries to read input from a file or stream and reaches the end unexpectedly.\n",
    "\n",
    "b. FloatingPointError : \n",
    "\n",
    "This error occurs when a floating-point operation encounters an exceptional condition that cannot be handled. For example, it can occur when dividing a number by zero or when performing an illegal mathematical operation.\n",
    "\n",
    "c. IndexError : \n",
    "\n",
    "This error is raised when you try to access an index of a sequence (such as a list or string) that is out of range. It means you are trying to access an element with an index that does not exist in the sequence.\n",
    "\n",
    "d. MemoryError : \n",
    "\n",
    "This error occurs when the computer system does not have enough memory to perform an operation. It usually happens when a program tries to allocate more memory than the system can provide, resulting in a failure to allocate memory.\n",
    "\n",
    "e. OverflowError : \n",
    "\n",
    "This error is raised when the result of an arithmetic operation exceeds the maximum representable value for a numeric type. It occurs when a calculation produces a value that is too large to be stored in the available memory.\n",
    "\n",
    "f. TabError : \n",
    "\n",
    "This error is raised when there are inconsistencies or incorrect usage of tabs and spaces in the indentation of Python code. It usually occurs when mixing tabs and spaces or when the indentation level is not aligned properly.\n",
    "\n",
    "g. ValueError : \n",
    "\n",
    "This error is raised when a function receives an argument of the correct type but an inappropriate value. It occurs when an operation or conversion is performed on a value that is outside the acceptable range or when the input does not conform to the expected format."
   ]
  },
  {
   "cell_type": "markdown",
   "id": "b3e5d1b4-0151-41fd-8891-6f2c2c2557c6",
   "metadata": {},
   "source": [
    "# 8. Write code for the following given scenario and add try-exception block to it.\n",
    "\n",
    "a. Program to divide two numbers\n",
    "\n",
    "b. Program to convert a string to an integer\n",
    "\n",
    "c. Program to access an element in a list\n",
    "\n",
    "d. Program to handle a specific exception\n",
    "\n",
    "e. Program to handle any exception\n",
    "\n",
    "Answer -"
   ]
  },
  {
   "cell_type": "markdown",
   "id": "89a99821-41c6-4d97-b2de-dc39fbc03303",
   "metadata": {},
   "source": [
    "a. Program to divide two numbers :"
   ]
  },
  {
   "cell_type": "code",
   "execution_count": 16,
   "id": "a9ba9b80-447d-4417-b6ea-b9e629d8f32e",
   "metadata": {},
   "outputs": [
    {
     "name": "stdin",
     "output_type": "stream",
     "text": [
      "Enter the dividend:  10\n",
      "Enter the divisor:  0\n"
     ]
    },
    {
     "name": "stdout",
     "output_type": "stream",
     "text": [
      "Error: Cannot divide by zero.\n"
     ]
    }
   ],
   "source": [
    "try:\n",
    "    dividend = int(input(\"Enter the dividend: \"))\n",
    "    divisor = int(input(\"Enter the divisor: \"))\n",
    "    result = dividend / divisor\n",
    "    print(\"Result:\", result)\n",
    "\n",
    "except ZeroDivisionError:\n",
    "    print(\"Error: Cannot divide by zero.\")\n",
    "\n",
    "except Exception as e:\n",
    "    print(\"An error occurred:\", str(e))"
   ]
  },
  {
   "cell_type": "code",
   "execution_count": 17,
   "id": "c1bbe255-b399-4242-9356-c7362b7ba0d2",
   "metadata": {},
   "outputs": [
    {
     "name": "stdin",
     "output_type": "stream",
     "text": [
      "Enter the dividend:  10\n",
      "Enter the divisor:  5\n"
     ]
    },
    {
     "name": "stdout",
     "output_type": "stream",
     "text": [
      "Result: 2.0\n"
     ]
    }
   ],
   "source": [
    "try:\n",
    "    dividend = int(input(\"Enter the dividend: \"))\n",
    "    divisor = int(input(\"Enter the divisor: \"))\n",
    "    result = dividend / divisor\n",
    "    print(\"Result:\", result)\n",
    "\n",
    "except ZeroDivisionError:\n",
    "    print(\"Error: Cannot divide by zero.\")\n",
    "\n",
    "except Exception as e:\n",
    "    print(\"An error occurred:\", str(e))"
   ]
  },
  {
   "cell_type": "markdown",
   "id": "c0a96517-092a-4d95-a5ef-3ab4a142f208",
   "metadata": {},
   "source": [
    "b. Program to convert a string to an integer :"
   ]
  },
  {
   "cell_type": "code",
   "execution_count": 19,
   "id": "a66a16b2-1a72-4a85-86eb-e065471af01d",
   "metadata": {},
   "outputs": [
    {
     "name": "stdin",
     "output_type": "stream",
     "text": [
      "Enter a number:  a\n"
     ]
    },
    {
     "name": "stdout",
     "output_type": "stream",
     "text": [
      "Error: Invalid input. Please enter a valid integer.\n"
     ]
    }
   ],
   "source": [
    "try:\n",
    "    num_str = input(\"Enter a number: \")\n",
    "    num = int(num_str)\n",
    "    print(\"Number:\", num)\n",
    "\n",
    "except ValueError:\n",
    "    print(\"Error: Invalid input. Please enter a valid integer.\")\n",
    "\n",
    "except Exception as e:\n",
    "    print(\"An error occurred:\", str(e))"
   ]
  },
  {
   "cell_type": "code",
   "execution_count": 20,
   "id": "9d197fc4-1784-4b64-bd99-124e06b3ccf3",
   "metadata": {},
   "outputs": [
    {
     "name": "stdin",
     "output_type": "stream",
     "text": [
      "Enter a number:  3\n"
     ]
    },
    {
     "name": "stdout",
     "output_type": "stream",
     "text": [
      "Number: 3\n"
     ]
    }
   ],
   "source": [
    "try:\n",
    "    num_str = input(\"Enter a number: \")\n",
    "    num = int(num_str)\n",
    "    print(\"Number:\", num)\n",
    "\n",
    "except ValueError:\n",
    "    print(\"Error: Invalid input. Please enter a valid integer.\")\n",
    "\n",
    "except Exception as e:\n",
    "    print(\"An error occurred:\", str(e))"
   ]
  },
  {
   "cell_type": "markdown",
   "id": "7c1eb298-6dd6-4357-87e1-670fc5f0850b",
   "metadata": {},
   "source": [
    "c. Program to access an element in a list :"
   ]
  },
  {
   "cell_type": "code",
   "execution_count": 21,
   "id": "e28eb0b0-f34f-4fb5-883e-f188272e75c4",
   "metadata": {},
   "outputs": [
    {
     "name": "stdin",
     "output_type": "stream",
     "text": [
      "Enter the index:  7\n"
     ]
    },
    {
     "name": "stdout",
     "output_type": "stream",
     "text": [
      "Error: Index out of range. Please enter a valid index.\n"
     ]
    }
   ],
   "source": [
    "try:\n",
    "    my_list = [1, 2, 3, 4, 5]\n",
    "    index = int(input(\"Enter the index: \"))\n",
    "    element = my_list[index]\n",
    "    print(\"Element at index\", index, \":\", element)\n",
    "\n",
    "except IndexError:\n",
    "    print(\"Error: Index out of range. Please enter a valid index.\")\n",
    "\n",
    "except Exception as e:\n",
    "    print(\"An error occurred:\", str(e))"
   ]
  },
  {
   "cell_type": "code",
   "execution_count": 22,
   "id": "0c158d61-8dd9-465e-b78c-812c0e9596b5",
   "metadata": {},
   "outputs": [
    {
     "name": "stdin",
     "output_type": "stream",
     "text": [
      "Enter the index:  4\n"
     ]
    },
    {
     "name": "stdout",
     "output_type": "stream",
     "text": [
      "Element at index 4 : 5\n"
     ]
    }
   ],
   "source": [
    "try:\n",
    "    my_list = [1, 2, 3, 4, 5]\n",
    "    index = int(input(\"Enter the index: \"))\n",
    "    element = my_list[index]\n",
    "    print(\"Element at index\", index, \":\", element)\n",
    "\n",
    "except IndexError:\n",
    "    print(\"Error: Index out of range. Please enter a valid index.\")\n",
    "\n",
    "except Exception as e:\n",
    "    print(\"An error occurred:\", str(e))"
   ]
  },
  {
   "cell_type": "markdown",
   "id": "cbd08b81-6a3a-4c36-a495-e9626f6662bf",
   "metadata": {},
   "source": [
    "d. Program to handle a specific exception :"
   ]
  },
  {
   "cell_type": "code",
   "execution_count": 24,
   "id": "da9fe080-4d01-4472-a0ce-36df696b607f",
   "metadata": {},
   "outputs": [
    {
     "name": "stdin",
     "output_type": "stream",
     "text": [
      "Enter your age:  a\n"
     ]
    },
    {
     "name": "stdout",
     "output_type": "stream",
     "text": [
      "Error: invalid literal for int() with base 10: 'a'\n"
     ]
    }
   ],
   "source": [
    "try:\n",
    "    age = int(input(\"Enter your age: \"))\n",
    "\n",
    "    if age < 0:\n",
    "        raise ValueError(\"Age cannot be negative.\")\n",
    "\n",
    "    print(\"Age:\", age)\n",
    "\n",
    "except ValueError as ve:\n",
    "    print(\"Error:\", str(ve))\n",
    "\n",
    "except Exception as e:\n",
    "    print(\"An error occurred:\", str(e))"
   ]
  },
  {
   "cell_type": "code",
   "execution_count": 1,
   "id": "25f7cbd4-1be0-4793-8b1f-da308c2a0c69",
   "metadata": {},
   "outputs": [
    {
     "name": "stdin",
     "output_type": "stream",
     "text": [
      "Enter your age:  25\n"
     ]
    },
    {
     "name": "stdout",
     "output_type": "stream",
     "text": [
      "Age: 25\n"
     ]
    }
   ],
   "source": [
    "try:\n",
    "    age = int(input(\"Enter your age: \"))\n",
    "\n",
    "    if age < 0:\n",
    "        raise ValueError(\"Age cannot be negative.\")\n",
    "\n",
    "    print(\"Age:\", age)\n",
    "\n",
    "except ValueError as ve:\n",
    "    print(\"Error:\", str(ve))\n",
    "\n",
    "except Exception as e:\n",
    "    print(\"An error occurred:\", str(e))"
   ]
  },
  {
   "cell_type": "markdown",
   "id": "2c43a1a2-e87c-40fc-a6ee-2b31a35696c7",
   "metadata": {},
   "source": [
    "e. Program to handle any exception :"
   ]
  },
  {
   "cell_type": "code",
   "execution_count": 2,
   "id": "e7cdf086-d927-4273-8aeb-d74f1ec02ad1",
   "metadata": {},
   "outputs": [
    {
     "name": "stdin",
     "output_type": "stream",
     "text": [
      "Enter the first value:  50\n",
      "Enter the second value:  b\n"
     ]
    },
    {
     "name": "stdout",
     "output_type": "stream",
     "text": [
      "An error occurred: invalid literal for int() with base 10: 'b'\n"
     ]
    }
   ],
   "source": [
    "try:\n",
    "    # Code that may raise exceptions\n",
    "    value1 = int(input(\"Enter the first value: \"))\n",
    "    value2 = int(input(\"Enter the second value: \"))\n",
    "\n",
    "    result = value1 / value2\n",
    "\n",
    "    print(\"Result:\", result)\n",
    "\n",
    "except Exception as e:\n",
    "    print(\"An error occurred:\", str(e))"
   ]
  },
  {
   "cell_type": "code",
   "execution_count": 5,
   "id": "4567cced-6cd4-4752-9036-449ec4b26fab",
   "metadata": {},
   "outputs": [
    {
     "name": "stdin",
     "output_type": "stream",
     "text": [
      "Enter the first value:  45\n",
      "Enter the second value:  9\n"
     ]
    },
    {
     "name": "stdout",
     "output_type": "stream",
     "text": [
      "Result: 5.0\n"
     ]
    }
   ],
   "source": [
    "try:\n",
    "    # Code that may raise exceptions\n",
    "    value1 = int(input(\"Enter the first value: \"))\n",
    "    value2 = int(input(\"Enter the second value: \"))\n",
    "\n",
    "    result = value1 / value2\n",
    "\n",
    "    print(\"Result:\", result)\n",
    "\n",
    "except Exception as e:\n",
    "    print(\"An error occurred:\", str(e))"
   ]
  },
  {
   "cell_type": "code",
   "execution_count": null,
   "id": "44e1544b-b7cd-4534-ac7c-0b0a605fb202",
   "metadata": {},
   "outputs": [],
   "source": []
  }
 ],
 "metadata": {
  "kernelspec": {
   "display_name": "Python 3 (ipykernel)",
   "language": "python",
   "name": "python3"
  },
  "language_info": {
   "codemirror_mode": {
    "name": "ipython",
    "version": 3
   },
   "file_extension": ".py",
   "mimetype": "text/x-python",
   "name": "python",
   "nbconvert_exporter": "python",
   "pygments_lexer": "ipython3",
   "version": "3.10.6"
  }
 },
 "nbformat": 4,
 "nbformat_minor": 5
}
